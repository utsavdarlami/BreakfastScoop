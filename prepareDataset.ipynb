{
  "nbformat": 4,
  "nbformat_minor": 0,
  "metadata": {
    "kernelspec": {
      "display_name": "Python 3",
      "language": "python",
      "name": "python3"
    },
    "language_info": {
      "codemirror_mode": {
        "name": "ipython",
        "version": 3
      },
      "file_extension": ".py",
      "mimetype": "text/x-python",
      "name": "python",
      "nbconvert_exporter": "python",
      "pygments_lexer": "ipython3",
      "version": "3.7.5"
    },
    "colab": {
      "name": "prepareDataset.ipynb",
      "provenance": [],
      "collapsed_sections": [],
      "toc_visible": true,
      "include_colab_link": true
    }
  },
  "cells": [
    {
      "cell_type": "markdown",
      "metadata": {
        "id": "view-in-github",
        "colab_type": "text"
      },
      "source": [
        "<a href=\"https://colab.research.google.com/github/utsavdarlami/BreakfastScoop/blob/master/prepareDataset.ipynb\" target=\"_parent\"><img src=\"https://colab.research.google.com/assets/colab-badge.svg\" alt=\"Open In Colab\"/></a>"
      ]
    },
    {
      "cell_type": "markdown",
      "metadata": {
        "id": "6XvxbA45r8Pm",
        "colab_type": "text"
      },
      "source": [
        "# Preparing Dataset"
      ]
    },
    {
      "cell_type": "code",
      "metadata": {
        "id": "tXY5ezDBsmJx",
        "colab_type": "code",
        "outputId": "a01940ac-e254-4b19-a1f4-205f07c7e4c7",
        "colab": {
          "base_uri": "https://localhost:8080/",
          "height": 156
        }
      },
      "source": [
        "!git clone https://github.com/utsavdarlami/NepalLicensePlateRecognition.git"
      ],
      "execution_count": 2,
      "outputs": [
        {
          "output_type": "stream",
          "text": [
            "Cloning into 'NepalLicensePlateRecognition'...\n",
            "remote: Enumerating objects: 3756, done.\u001b[K\n",
            "remote: Counting objects:   0% (1/3756)\u001b[K\rremote: Counting objects:   1% (38/3756)\u001b[K\rremote: Counting objects:   2% (76/3756)\u001b[K\rremote: Counting objects:   3% (113/3756)\u001b[K\rremote: Counting objects:   4% (151/3756)\u001b[K\rremote: Counting objects:   5% (188/3756)\u001b[K\rremote: Counting objects:   6% (226/3756)\u001b[K\rremote: Counting objects:   7% (263/3756)\u001b[K\rremote: Counting objects:   8% (301/3756)\u001b[K\rremote: Counting objects:   9% (339/3756)\u001b[K\rremote: Counting objects:  10% (376/3756)\u001b[K\rremote: Counting objects:  11% (414/3756)\u001b[K\rremote: Counting objects:  12% (451/3756)\u001b[K\rremote: Counting objects:  13% (489/3756)\u001b[K\rremote: Counting objects:  14% (526/3756)\u001b[K\rremote: Counting objects:  15% (564/3756)\u001b[K\rremote: Counting objects:  16% (601/3756)\u001b[K\rremote: Counting objects:  17% (639/3756)\u001b[K\rremote: Counting objects:  18% (677/3756)\u001b[K\rremote: Counting objects:  19% (714/3756)\u001b[K\rremote: Counting objects:  20% (752/3756)\u001b[K\rremote: Counting objects:  21% (789/3756)\u001b[K\rremote: Counting objects:  22% (827/3756)\u001b[K\rremote: Counting objects:  23% (864/3756)\u001b[K\rremote: Counting objects:  24% (902/3756)\u001b[K\rremote: Counting objects:  25% (939/3756)\u001b[K\rremote: Counting objects:  26% (977/3756)\u001b[K\rremote: Counting objects:  27% (1015/3756)\u001b[K\rremote: Counting objects:  28% (1052/3756)\u001b[K\rremote: Counting objects:  29% (1090/3756)\u001b[K\rremote: Counting objects:  30% (1127/3756)\u001b[K\rremote: Counting objects:  31% (1165/3756)\u001b[K\rremote: Counting objects:  32% (1202/3756)\u001b[K\rremote: Counting objects:  33% (1240/3756)\u001b[K\rremote: Counting objects:  34% (1278/3756)\u001b[K\rremote: Counting objects:  35% (1315/3756)\u001b[K\rremote: Counting objects:  36% (1353/3756)\u001b[K\rremote: Counting objects:  37% (1390/3756)\u001b[K\rremote: Counting objects:  38% (1428/3756)\u001b[K\rremote: Counting objects:  39% (1465/3756)\u001b[K\rremote: Counting objects:  40% (1503/3756)\u001b[K\rremote: Counting objects:  41% (1540/3756)\u001b[K\rremote: Counting objects:  42% (1578/3756)\u001b[K\rremote: Counting objects:  43% (1616/3756)\u001b[K\rremote: Counting objects:  44% (1653/3756)\u001b[K\rremote: Counting objects:  45% (1691/3756)\u001b[K\rremote: Counting objects:  46% (1728/3756)\u001b[K\rremote: Counting objects:  47% (1766/3756)\u001b[K\rremote: Counting objects:  48% (1803/3756)\u001b[K\rremote: Counting objects:  49% (1841/3756)\u001b[K\rremote: Counting objects:  50% (1878/3756)\u001b[K\rremote: Counting objects:  51% (1916/3756)\u001b[K\rremote: Counting objects:  52% (1954/3756)\u001b[K\rremote: Counting objects:  53% (1991/3756)\u001b[K\rremote: Counting objects:  54% (2029/3756)\u001b[K\rremote: Counting objects:  55% (2066/3756)\u001b[K\rremote: Counting objects:  56% (2104/3756)\u001b[K\rremote: Counting objects:  57% (2141/3756)\u001b[K\rremote: Counting objects:  58% (2179/3756)\u001b[K\rremote: Counting objects:  59% (2217/3756)\u001b[K\rremote: Counting objects:  60% (2254/3756)\u001b[K\rremote: Counting objects:  61% (2292/3756)\u001b[K\rremote: Counting objects:  62% (2329/3756)\u001b[K\rremote: Counting objects:  63% (2367/3756)\u001b[K\rremote: Counting objects:  64% (2404/3756)\u001b[K\rremote: Counting objects:  65% (2442/3756)\u001b[K\rremote: Counting objects:  66% (2479/3756)\u001b[K\rremote: Counting objects:  67% (2517/3756)\u001b[K\rremote: Counting objects:  68% (2555/3756)\u001b[K\rremote: Counting objects:  69% (2592/3756)\u001b[K\rremote: Counting objects:  70% (2630/3756)\u001b[K\rremote: Counting objects:  71% (2667/3756)\u001b[K\rremote: Counting objects:  72% (2705/3756)\u001b[K\rremote: Counting objects:  73% (2742/3756)\u001b[K\rremote: Counting objects:  74% (2780/3756)\u001b[K\rremote: Counting objects:  75% (2817/3756)\u001b[K\rremote: Counting objects:  76% (2855/3756)\u001b[K\rremote: Counting objects:  77% (2893/3756)\u001b[K\rremote: Counting objects:  78% (2930/3756)\u001b[K\rremote: Counting objects:  79% (2968/3756)\u001b[K\rremote: Counting objects:  80% (3005/3756)\u001b[K\rremote: Counting objects:  81% (3043/3756)\u001b[K\rremote: Counting objects:  82% (3080/3756)\u001b[K\rremote: Counting objects:  83% (3118/3756)\u001b[K\rremote: Counting objects:  84% (3156/3756)\u001b[K\rremote: Counting objects:  85% (3193/3756)\u001b[K\rremote: Counting objects:  86% (3231/3756)\u001b[K\rremote: Counting objects:  87% (3268/3756)\u001b[K\rremote: Counting objects:  88% (3306/3756)\u001b[K\rremote: Counting objects:  89% (3343/3756)\u001b[K\rremote: Counting objects:  90% (3381/3756)\u001b[K\rremote: Counting objects:  91% (3418/3756)\u001b[K\rremote: Counting objects:  92% (3456/3756)\u001b[K\rremote: Counting objects:  93% (3494/3756)\u001b[K\rremote: Counting objects:  94% (3531/3756)\u001b[K\rremote: Counting objects:  95% (3569/3756)\u001b[K\rremote: Counting objects:  96% (3606/3756)\u001b[K\rremote: Counting objects:  97% (3644/3756)\u001b[K\rremote: Counting objects:  98% (3681/3756)\u001b[K\rremote: Counting objects:  99% (3719/3756)\u001b[K\rremote: Counting objects: 100% (3756/3756)\u001b[K\rremote: Counting objects: 100% (3756/3756), done.\u001b[K\n",
            "remote: Compressing objects: 100% (3691/3691), done.\u001b[K\n",
            "remote: Total 6027 (delta 81), reused 3728 (delta 63), pack-reused 2271\u001b[K\n",
            "Receiving objects: 100% (6027/6027), 447.83 MiB | 26.65 MiB/s, done.\n",
            "Resolving deltas: 100% (235/235), done.\n",
            "Checking out files: 100% (6227/6227), done.\n"
          ],
          "name": "stdout"
        }
      ]
    },
    {
      "cell_type": "code",
      "metadata": {
        "id": "MbfQWKA41K1G",
        "colab_type": "code",
        "colab": {}
      },
      "source": [
        ""
      ],
      "execution_count": 0,
      "outputs": []
    },
    {
      "cell_type": "code",
      "metadata": {
        "id": "0rcFNkGAr8Pt",
        "colab_type": "code",
        "outputId": "6e3f7d15-3286-435b-eafa-14eabcd4e1a4",
        "colab": {
          "base_uri": "https://localhost:8080/",
          "height": 376
        }
      },
      "source": [
        "import numpy as np\n",
        "import cv2\n",
        "import time\n",
        "import os\n",
        "import matplotlib.pyplot as plt\n",
        "\n",
        "import pickle\n",
        "dataset ='NepalLicensePlateRecognition/Dataset/thresholdImages/'\n",
        "os.listdir(dataset)"
      ],
      "execution_count": 23,
      "outputs": [
        {
          "output_type": "error",
          "ename": "ModuleNotFoundError",
          "evalue": "ignored",
          "traceback": [
            "\u001b[0;31m---------------------------------------------------------------------------\u001b[0m",
            "\u001b[0;31mModuleNotFoundError\u001b[0m                       Traceback (most recent call last)",
            "\u001b[0;32m<ipython-input-23-6096370833fd>\u001b[0m in \u001b[0;36m<module>\u001b[0;34m()\u001b[0m\n\u001b[1;32m      3\u001b[0m \u001b[0;32mimport\u001b[0m \u001b[0mtime\u001b[0m\u001b[0;34m\u001b[0m\u001b[0;34m\u001b[0m\u001b[0m\n\u001b[1;32m      4\u001b[0m \u001b[0;32mimport\u001b[0m \u001b[0mos\u001b[0m\u001b[0;34m\u001b[0m\u001b[0;34m\u001b[0m\u001b[0m\n\u001b[0;32m----> 5\u001b[0;31m \u001b[0;32mimport\u001b[0m \u001b[0mmatplotlib\u001b[0m\u001b[0;34m.\u001b[0m\u001b[0mpyplot\u001b[0m \u001b[0;32mas\u001b[0m \u001b[0mplt\u001b[0m\u001b[0;34m,\u001b[0m\u001b[0mshow\u001b[0m\u001b[0;34m\u001b[0m\u001b[0;34m\u001b[0m\u001b[0m\n\u001b[0m\u001b[1;32m      6\u001b[0m \u001b[0;32mimport\u001b[0m \u001b[0mpickle\u001b[0m\u001b[0;34m\u001b[0m\u001b[0;34m\u001b[0m\u001b[0m\n\u001b[1;32m      7\u001b[0m \u001b[0mdataset\u001b[0m \u001b[0;34m=\u001b[0m\u001b[0;34m'NepalLicensePlateRecognition/Dataset/thresholdImages/'\u001b[0m\u001b[0;34m\u001b[0m\u001b[0;34m\u001b[0m\u001b[0m\n",
            "\u001b[0;31mModuleNotFoundError\u001b[0m: No module named 'show'",
            "",
            "\u001b[0;31m---------------------------------------------------------------------------\u001b[0;32m\nNOTE: If your import is failing due to a missing package, you can\nmanually install dependencies using either !pip or !apt.\n\nTo view examples of installing some common dependencies, click the\n\"Open Examples\" button below.\n\u001b[0;31m---------------------------------------------------------------------------\u001b[0m\n"
          ]
        }
      ]
    },
    {
      "cell_type": "code",
      "metadata": {
        "id": "dcrZdRkdr8QA",
        "colab_type": "code",
        "outputId": "2fe00122-59c8-4253-f8fd-27fff8152fa1",
        "colab": {
          "base_uri": "https://localhost:8080/",
          "height": 52
        }
      },
      "source": [
        "labels = list(filter(lambda x : x!='Pradesh',os.listdir(dataset)))\n",
        "labels = np.array(labels)\n",
        "labels # our labels for training"
      ],
      "execution_count": 6,
      "outputs": [
        {
          "output_type": "execute_result",
          "data": {
            "text/plain": [
              "array(['2', '4', 'PA', '8', 'Pa', 'BA', '3', '6', 'Se', '1', '0', 'pa',\n",
              "       'ba', 'Ka', '7', 'Ba', '5', 'Cha', 'Kha', 'Ko', '9'], dtype='<U3')"
            ]
          },
          "metadata": {
            "tags": []
          },
          "execution_count": 6
        }
      ]
    },
    {
      "cell_type": "code",
      "metadata": {
        "id": "f_4RUHd2r8QL",
        "colab_type": "code",
        "outputId": "cd826570-cdc8-4fa3-f924-737680382b51",
        "colab": {
          "base_uri": "https://localhost:8080/",
          "height": 34
        }
      },
      "source": [
        "64*64"
      ],
      "execution_count": 7,
      "outputs": [
        {
          "output_type": "execute_result",
          "data": {
            "text/plain": [
              "4096"
            ]
          },
          "metadata": {
            "tags": []
          },
          "execution_count": 7
        }
      ]
    },
    {
      "cell_type": "code",
      "metadata": {
        "id": "JeAM1QzAr8QU",
        "colab_type": "code",
        "colab": {}
      },
      "source": [
        "imageX_Axis = [] # creating X label \n",
        "imageY_Axis = [] # creating Y label\n",
        "image_Path  = [] # All images Path\n",
        "image_width= 32\n",
        "image_height=32\n",
        "\n",
        "dim = (image_width,image_height)\n",
        "for label in labels:\n",
        "    \n",
        "    #path of the image folder\n",
        "    labelPath = dataset + label\n",
        "#     print(labelPath)\n",
        "    #making a list of all images in the image folder\n",
        "    image_Of_label = os.listdir(labelPath)\n",
        "    \n",
        "#     i=0\n",
        "    for singleImage in image_Of_label:\n",
        "        # single image path \n",
        "        imgPath = labelPath +'/'+singleImage\n",
        "#         print(imgPath)\n",
        "        image_ = cv2.imread(imgPath)  # reading a single Image\n",
        "#         resizing image to 32*32 \n",
        "        resize_image = cv2.resize(image_,dim,interpolation= cv2.INTER_CUBIC)  \n",
        "#         print(resize_image.shape)\n",
        "        imgArr = np.array(resize_image)       #converting it to numpyarray\n",
        "        imgArr = imgArr[:,:,0] #changing to 2 dimension (32,32)\n",
        "        \n",
        "        imgArr = imgArr.ravel() # flatten the numpy array 32*32 = 1024 pixels\n",
        "#         print(len(imgArr))\n",
        "        # adding it to a numpy array withits Label\n",
        "        imageX_Axis.append(imgArr)\n",
        "        image_Path.append(imgPath)\n",
        "        imageY_Axis.append(label)\n",
        "        \n",
        "#         if i==1:\n",
        "#             break\n",
        "#         i+=1\n",
        "imageX_Axis= np.array(imageX_Axis)\n",
        "imageY_Axis= np.array(imageY_Axis)\n",
        "image_Path= np.array(image_Path)\n",
        "\n",
        "\n"
      ],
      "execution_count": 0,
      "outputs": []
    },
    {
      "cell_type": "code",
      "metadata": {
        "id": "e-WHD4PZr8Qd",
        "colab_type": "code",
        "outputId": "1ae3033b-9ea8-4418-e6b8-8c193806b871",
        "colab": {
          "base_uri": "https://localhost:8080/",
          "height": 69
        }
      },
      "source": [
        "print(f\"X-axis Length : {len(imageX_Axis)}\")\n",
        "print(f\"Y-axis Length : {len(imageY_Axis)}\")\n",
        "print(f\"Total Images With Path Length : {len(image_Path)}\")\n"
      ],
      "execution_count": 12,
      "outputs": [
        {
          "output_type": "stream",
          "text": [
            "X-axis Length : 2431\n",
            "Y-axis Length : 2431\n",
            "Total Images With Path Length : 2431\n"
          ],
          "name": "stdout"
        }
      ]
    },
    {
      "cell_type": "code",
      "metadata": {
        "id": "aouAP51er8Qn",
        "colab_type": "code",
        "outputId": "49674681-2ef8-4244-cc4e-3551fb50c0f0",
        "colab": {
          "base_uri": "https://localhost:8080/",
          "height": 34
        }
      },
      "source": [
        "Pa = filter(lambda x:x == \"Pa\",imageY_Axis)\n",
        "len(list(Pa))"
      ],
      "execution_count": 13,
      "outputs": [
        {
          "output_type": "execute_result",
          "data": {
            "text/plain": [
              "45"
            ]
          },
          "metadata": {
            "tags": []
          },
          "execution_count": 13
        }
      ]
    },
    {
      "cell_type": "code",
      "metadata": {
        "id": "nIQmSO1tr8Qu",
        "colab_type": "code",
        "outputId": "621532a7-ddf8-4a04-e751-7121a032fdf8",
        "colab": {
          "base_uri": "https://localhost:8080/",
          "height": 34
        }
      },
      "source": [
        "pa = filter(lambda x:x == \"pa\",imageY_Axis)\n",
        "len(list(pa))"
      ],
      "execution_count": 14,
      "outputs": [
        {
          "output_type": "execute_result",
          "data": {
            "text/plain": [
              "133"
            ]
          },
          "metadata": {
            "tags": []
          },
          "execution_count": 14
        }
      ]
    },
    {
      "cell_type": "markdown",
      "metadata": {
        "id": "7tTnUwzLr8Q2",
        "colab_type": "text"
      },
      "source": [
        "#### Fixing the Labels with same name but different case\n",
        "- PA == Pa or pA or pa\n",
        "- BA == ba or Ba or bA"
      ]
    },
    {
      "cell_type": "code",
      "metadata": {
        "id": "lSq8bIHkr8Q4",
        "colab_type": "code",
        "colab": {}
      },
      "source": [
        "imageY_Axis = list(map(lambda x:x.upper() ,imageY_Axis))\n",
        "# imageY_Axis = list(map(lambda x: \"PA\" if x == \"Pa\" or x==\"pA\" or x==\"pa\" else x,imageY_Axis))"
      ],
      "execution_count": 0,
      "outputs": []
    },
    {
      "cell_type": "code",
      "metadata": {
        "id": "mMrxvgojr8RA",
        "colab_type": "code",
        "outputId": "1e69e449-e049-4641-b474-876f89a0e27c",
        "colab": {
          "base_uri": "https://localhost:8080/",
          "height": 34
        }
      },
      "source": [
        "Pa = filter(lambda x:x == \"PA\",imageY_Axis)\n",
        "len(list(Pa))"
      ],
      "execution_count": 17,
      "outputs": [
        {
          "output_type": "execute_result",
          "data": {
            "text/plain": [
              "206"
            ]
          },
          "metadata": {
            "tags": []
          },
          "execution_count": 17
        }
      ]
    },
    {
      "cell_type": "code",
      "metadata": {
        "id": "cpu7_hLar8RI",
        "colab_type": "code",
        "colab": {}
      },
      "source": [
        "imIndex=4\n",
        "testImg = imageX_Axis[imIndex]\n",
        "testImg_Label = imageY_Axis[imIndex]\n",
        "testImg_Path = image_Path[imIndex]\n",
        "\n",
        "testImg = testImg.reshape(32,32)"
      ],
      "execution_count": 0,
      "outputs": []
    },
    {
      "cell_type": "code",
      "metadata": {
        "id": "EWepm0Bjr8RR",
        "colab_type": "code",
        "outputId": "e540c69f-9510-4b6c-de04-ece5ebab42f5",
        "colab": {
          "base_uri": "https://localhost:8080/",
          "height": 301
        }
      },
      "source": [
        "plt.imshow(testImg,cmap=\"gray\")\n",
        "print(f\"True Label : {testImg_Label}\")\n",
        "print(f\"True Path : {testImg_Path}\")\n"
      ],
      "execution_count": 22,
      "outputs": [
        {
          "output_type": "stream",
          "text": [
            "True Label : 2\n",
            "True Path : NepalLicensePlateRecognition/Dataset/thresholdImages/2/1_114.png\n"
          ],
          "name": "stdout"
        },
        {
          "output_type": "display_data",
          "data": {
            "image/png": "[encoded data removed]",
            "text/plain": [
              "<Figure size 432x288 with 1 Axes>"
            ]
          },
          "metadata": {
            "tags": []
          }
        }
      ]
    },
    {
      "cell_type": "code",
      "metadata": {
        "id": "BadxERoE2mk1",
        "colab_type": "code",
        "colab": {}
      },
      "source": [
        ""
      ],
      "execution_count": 0,
      "outputs": []
    },
    {
      "cell_type": "code",
      "metadata": {
        "id": "w7K2sz1er8RZ",
        "colab_type": "code",
        "colab": {}
      },
      "source": [
        "# Using numpy's savez function to store our loaded data as NPZ files\n",
        "np.savez('NepalLicensePlateRecognition/imageX_Axis.npz', imageX_Axis)\n",
        "np.savez('NepalLicensePlateRecognition/imageY_Axis.npz', imageY_Axis)\n",
        "\n",
        "np.savez('NepalLicensePlateRecognition/image_Path.npz', image_Path)\n",
        "\n",
        "\n",
        "def load_dataset(): # Loads the saved numpy object and returns them as tuple\n",
        "    \n",
        "    npzfile = np.load(\"NepalLicensePlateRecognition/imageX_Axis.npz\",allow_pickle=True)\n",
        "    x_axis = npzfile['arr_0'] # x - axis\n",
        "    \n",
        "    npzfile = np.load(\"NepalLicensePlateRecognition/imageY_Axis.npz\",allow_pickle=True)\n",
        "    y_axis = npzfile['arr_0'] # y - axis\n",
        "\n",
        "    npzfile = np.load(\"NepalLicensePlateRecognition/image_Path.npz\",allow_pickle=True)\n",
        "\n",
        "    paths = npzfile['arr_0'] # y - axis\n",
        "\n",
        "    \n",
        "    return (x_axis,y_axis,paths)"
      ],
      "execution_count": 0,
      "outputs": []
    },
    {
      "cell_type": "code",
      "metadata": {
        "id": "cZuE0nQ5r8Rj",
        "colab_type": "code",
        "outputId": "523bdb5c-16d3-498b-eac7-af1d2c973dcc",
        "colab": {
          "base_uri": "https://localhost:8080/",
          "height": 69
        }
      },
      "source": [
        "x_Axis,y_Axis,paths= load_dataset()\n",
        "print(f\"X-axis Length : {len(x_Axis)}\")\n",
        "print(f\"Y-axis Length : {len(y_Axis)}\")\n",
        "print(f\"Path Length : {len(paths)}\")"
      ],
      "execution_count": 30,
      "outputs": [
        {
          "output_type": "stream",
          "text": [
            "X-axis Length : 2431\n",
            "Y-axis Length : 2431\n",
            "Path Length : 2431\n"
          ],
          "name": "stdout"
        }
      ]
    },
    {
      "cell_type": "code",
      "metadata": {
        "id": "VYgyK0D-r8Rp",
        "colab_type": "code",
        "outputId": "5dff444b-9d0b-4425-cc82-e198f304ca1a",
        "colab": {
          "base_uri": "https://localhost:8080/",
          "height": 301
        }
      },
      "source": [
        "imIndex=4\n",
        "testImg = x_Axis[imIndex]\n",
        "testImg_Label = y_Axis[imIndex]\n",
        "testImg_Path = paths[imIndex]\n",
        "\n",
        "testImg = testImg.reshape(32,32)\n",
        "plt.imshow(testImg,cmap=\"gray\")\n",
        "print(f\"True Label : {testImg_Label}\")\n",
        "print(f\"True Path : {testImg_Path}\")\n"
      ],
      "execution_count": 31,
      "outputs": [
        {
          "output_type": "stream",
          "text": [
            "True Label : 2\n",
            "True Path : NepalLicensePlateRecognition/Dataset/thresholdImages/2/1_114.png\n"
          ],
          "name": "stdout"
        },
        {
          "output_type": "display_data",
          "data": {
            "image/png": "[encoded data removed]",
            "text/plain": [
              "<Figure size 432x288 with 1 Axes>"
            ]
          },
          "metadata": {
            "tags": []
          }
        }
      ]
    },
    {
      "cell_type": "code",
      "metadata": {
        "id": "91K4vospskm2",
        "colab_type": "code",
        "colab": {
          "base_uri": "https://localhost:8080/",
          "height": 284
        },
        "outputId": "aaae2e32-88fc-4e40-cb76-a658ffec98dc"
      },
      "source": [
        "pathImgis = cv2.imread(testImg_Path)\n",
        "\n",
        "plt.imshow(pathImgis)\n",
        "pathImgis.shape"
      ],
      "execution_count": 34,
      "outputs": [
        {
          "output_type": "execute_result",
          "data": {
            "text/plain": [
              "(46, 36, 3)"
            ]
          },
          "metadata": {
            "tags": []
          },
          "execution_count": 34
        },
        {
          "output_type": "display_data",
          "data": {
            "image/png": "[encoded data removed]",
            "text/plain": [
              "<Figure size 432x288 with 1 Axes>"
            ]
          },
          "metadata": {
            "tags": []
          }
        }
      ]
    }
  ]
}