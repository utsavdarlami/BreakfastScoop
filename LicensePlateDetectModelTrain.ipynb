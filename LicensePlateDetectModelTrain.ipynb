{
  "nbformat": 4,
  "nbformat_minor": 0,
  "metadata": {
    "colab": {
      "name": "LicensePlateDetectModelTrain.ipynb",
      "provenance": [],
      "collapsed_sections": [],
      "toc_visible": true,
      "mount_file_id": "12YaVxa2OTR7Rp5J_Jyk6KeCdaJTscHwy",
      "authorship_tag": "ABX9TyMv0hSLd4DYHQrtAx/p44eE",
      "include_colab_link": true
    },
    "kernelspec": {
      "name": "python3",
      "display_name": "Python 3"
    },
    "accelerator": "GPU"
  },
  "cells": [
    {
      "cell_type": "markdown",
      "metadata": {
        "id": "view-in-github",
        "colab_type": "text"
      },
      "source": [
        "<a href=\"https://colab.research.google.com/github/utsavdarlami/BreakfastScoop/blob/master/LicensePlateDetectModelTrain.ipynb\" target=\"_parent\"><img src=\"https://colab.research.google.com/assets/colab-badge.svg\" alt=\"Open In Colab\"/></a>"
      ]
    },
    {
      "cell_type": "code",
      "metadata": {
        "id": "rry1TeE4UfYl",
        "colab_type": "code",
        "outputId": "75ef3e17-1cbf-4453-8d18-8595681c083e",
        "colab": {
          "base_uri": "https://localhost:8080/",
          "height": 124
        }
      },
      "source": [
        "## Start by connecting gdrive into the google colab\n",
        "from google.colab import drive\n",
        "drive.mount('/content/gdrive')"
      ],
      "execution_count": 0,
      "outputs": [
        {
          "output_type": "stream",
          "text": [
            "Go to this URL in a browser: https://accounts.google.com/o/oauth2/auth?client_id=947318989803-6bn6qk8qdgf4n4g3pfee6491hc0brc4i.apps.googleusercontent.com&redirect_uri=urn%3aietf%3awg%3aoauth%3a2.0%3aoob&response_type=code&scope=email%20https%3a%2f%2fwww.googleapis.com%2fauth%2fdocs.test%20https%3a%2f%2fwww.googleapis.com%2fauth%2fdrive%20https%3a%2f%2fwww.googleapis.com%2fauth%2fdrive.photos.readonly%20https%3a%2f%2fwww.googleapis.com%2fauth%2fpeopleapi.readonly\n",
            "\n",
            "Enter your authorization code:\n",
            "··········\n",
            "Mounted at /content/gdrive\n"
          ],
          "name": "stdout"
        }
      ]
    },
    {
      "cell_type": "code",
      "metadata": {
        "id": "plcsrWGiK30X",
        "colab_type": "code",
        "outputId": "b7f3bbb6-f076-48ef-e079-c5cf5ecc68f0",
        "colab": {
          "base_uri": "https://localhost:8080/",
          "height": 34
        }
      },
      "source": [
        "cd .."
      ],
      "execution_count": 0,
      "outputs": [
        {
          "output_type": "stream",
          "text": [
            "/content\n"
          ],
          "name": "stdout"
        }
      ]
    },
    {
      "cell_type": "code",
      "metadata": {
        "id": "c3-0bUzXLAH3",
        "colab_type": "code",
        "colab": {}
      },
      "source": [
        "!rm -R darkflow"
      ],
      "execution_count": 0,
      "outputs": []
    },
    {
      "cell_type": "markdown",
      "metadata": {
        "id": "StKjz4BH1nOY",
        "colab_type": "text"
      },
      "source": [
        ""
      ]
    },
    {
      "cell_type": "code",
      "metadata": {
        "id": "sNmlOgAcWjKv",
        "colab_type": "code",
        "outputId": "b5c26ea0-6537-4c99-c1e9-17b38db6ee00",
        "colab": {
          "base_uri": "https://localhost:8080/",
          "height": 104
        }
      },
      "source": [
        "!git clone https://github.com/thtrieu/darkflow.git"
      ],
      "execution_count": 0,
      "outputs": [
        {
          "output_type": "stream",
          "text": [
            "Cloning into 'darkflow'...\n",
            "remote: Enumerating objects: 2713, done.\u001b[K\n",
            "remote: Total 2713 (delta 0), reused 0 (delta 0), pack-reused 2713\u001b[K\n",
            "Receiving objects: 100% (2713/2713), 32.98 MiB | 35.66 MiB/s, done.\n",
            "Resolving deltas: 100% (1762/1762), done.\n"
          ],
          "name": "stdout"
        }
      ]
    },
    {
      "cell_type": "code",
      "metadata": {
        "id": "M4OAK1OtR0lv",
        "colab_type": "code",
        "outputId": "c48aff03-de85-44d7-ce24-a7a18476fc4c",
        "colab": {
          "base_uri": "https://localhost:8080/",
          "height": 34
        }
      },
      "source": [
        "cd ./darkflow/"
      ],
      "execution_count": 0,
      "outputs": [
        {
          "output_type": "stream",
          "text": [
            "/content/darkflow\n"
          ],
          "name": "stdout"
        }
      ]
    },
    {
      "cell_type": "code",
      "metadata": {
        "id": "CBA-sbDSWieD",
        "colab_type": "code",
        "colab": {}
      },
      "source": [
        ""
      ],
      "execution_count": 0,
      "outputs": []
    },
    {
      "cell_type": "code",
      "metadata": {
        "id": "zs4juMaGR2u9",
        "colab_type": "code",
        "outputId": "2d30c1fa-3cbf-487e-a261-36ad25df5939",
        "colab": {
          "base_uri": "https://localhost:8080/",
          "height": 52
        }
      },
      "source": [
        "!ls"
      ],
      "execution_count": 0,
      "outputs": [
        {
          "output_type": "stream",
          "text": [
            "cfg\t  demo.gif  labels.txt\tpreview.png  sample_img  test\n",
            "darkflow  flow\t    LICENSE\tREADME.md    setup.py\n"
          ],
          "name": "stdout"
        }
      ]
    },
    {
      "cell_type": "code",
      "metadata": {
        "id": "wXyAkhEvSmZD",
        "colab_type": "code",
        "outputId": "37e19703-fd9f-47d2-bf0d-df1bec644b64",
        "colab": {
          "base_uri": "https://localhost:8080/",
          "height": 957
        }
      },
      "source": [
        "! python3 setup.py build_ext --inplace"
      ],
      "execution_count": 0,
      "outputs": [
        {
          "output_type": "stream",
          "text": [
            "Compiling darkflow/cython_utils/nms.pyx because it changed.\n",
            "Compiling darkflow/cython_utils/cy_yolo2_findboxes.pyx because it changed.\n",
            "Compiling darkflow/cython_utils/cy_yolo_findboxes.pyx because it changed.\n",
            "[1/3] Cythonizing darkflow/cython_utils/cy_yolo2_findboxes.pyx\n",
            "/usr/local/lib/python3.6/dist-packages/Cython/Compiler/Main.py:369: FutureWarning: Cython directive 'language_level' not set, using 2 for now (Py2). This will change in a later release! File: /content/darkflow/darkflow/cython_utils/cy_yolo2_findboxes.pyx\n",
            "  tree = Parsing.p_module(s, pxd, full_module_name)\n",
            "[2/3] Cythonizing darkflow/cython_utils/cy_yolo_findboxes.pyx\n",
            "/usr/local/lib/python3.6/dist-packages/Cython/Compiler/Main.py:369: FutureWarning: Cython directive 'language_level' not set, using 2 for now (Py2). This will change in a later release! File: /content/darkflow/darkflow/cython_utils/cy_yolo_findboxes.pyx\n",
            "  tree = Parsing.p_module(s, pxd, full_module_name)\n",
            "[3/3] Cythonizing darkflow/cython_utils/nms.pyx\n",
            "/usr/local/lib/python3.6/dist-packages/Cython/Compiler/Main.py:369: FutureWarning: Cython directive 'language_level' not set, using 2 for now (Py2). This will change in a later release! File: /content/darkflow/darkflow/cython_utils/nms.pxd\n",
            "  tree = Parsing.p_module(s, pxd, full_module_name)\n",
            "running build_ext\n",
            "building 'darkflow.cython_utils.nms' extension\n",
            "creating build\n",
            "creating build/temp.linux-x86_64-3.6\n",
            "creating build/temp.linux-x86_64-3.6/darkflow\n",
            "creating build/temp.linux-x86_64-3.6/darkflow/cython_utils\n",
            "x86_64-linux-gnu-gcc -pthread -DNDEBUG -g -fwrapv -O2 -Wall -g -fstack-protector-strong -Wformat -Werror=format-security -Wdate-time -D_FORTIFY_SOURCE=2 -fPIC -I/usr/local/lib/python3.6/dist-packages/numpy/core/include -I/usr/include/python3.6m -c darkflow/cython_utils/nms.c -o build/temp.linux-x86_64-3.6/darkflow/cython_utils/nms.o\n",
            "In file included from \u001b[01m\u001b[K/usr/local/lib/python3.6/dist-packages/numpy/core/include/numpy/ndarraytypes.h:1830:0\u001b[m\u001b[K,\n",
            "                 from \u001b[01m\u001b[K/usr/local/lib/python3.6/dist-packages/numpy/core/include/numpy/ndarrayobject.h:12\u001b[m\u001b[K,\n",
            "                 from \u001b[01m\u001b[K/usr/local/lib/python3.6/dist-packages/numpy/core/include/numpy/arrayobject.h:4\u001b[m\u001b[K,\n",
            "                 from \u001b[01m\u001b[Kdarkflow/cython_utils/nms.c:620\u001b[m\u001b[K:\n",
            "\u001b[01m\u001b[K/usr/local/lib/python3.6/dist-packages/numpy/core/include/numpy/npy_1_7_deprecated_api.h:17:2:\u001b[m\u001b[K \u001b[01;35m\u001b[Kwarning: \u001b[m\u001b[K#warning \"Using deprecated NumPy API, disable it with \" \"#define NPY_NO_DEPRECATED_API NPY_1_7_API_VERSION\" [\u001b[01;35m\u001b[K-Wcpp\u001b[m\u001b[K]\n",
            " #\u001b[01;35m\u001b[Kwarning\u001b[m\u001b[K \"Using deprecated NumPy API, disable it with \" \\\n",
            "  \u001b[01;35m\u001b[K^~~~~~~\u001b[m\u001b[K\n",
            "creating build/lib.linux-x86_64-3.6\n",
            "creating build/lib.linux-x86_64-3.6/darkflow\n",
            "creating build/lib.linux-x86_64-3.6/darkflow/cython_utils\n",
            "x86_64-linux-gnu-gcc -pthread -shared -Wl,-O1 -Wl,-Bsymbolic-functions -Wl,-Bsymbolic-functions -Wl,-z,relro -Wl,-Bsymbolic-functions -Wl,-z,relro -g -fstack-protector-strong -Wformat -Werror=format-security -Wdate-time -D_FORTIFY_SOURCE=2 build/temp.linux-x86_64-3.6/darkflow/cython_utils/nms.o -lm -o build/lib.linux-x86_64-3.6/darkflow/cython_utils/nms.cpython-36m-x86_64-linux-gnu.so\n",
            "building 'darkflow.cython_utils.cy_yolo2_findboxes' extension\n",
            "x86_64-linux-gnu-gcc -pthread -DNDEBUG -g -fwrapv -O2 -Wall -g -fstack-protector-strong -Wformat -Werror=format-security -Wdate-time -D_FORTIFY_SOURCE=2 -fPIC -I/usr/local/lib/python3.6/dist-packages/numpy/core/include -I/usr/include/python3.6m -c darkflow/cython_utils/cy_yolo2_findboxes.c -o build/temp.linux-x86_64-3.6/darkflow/cython_utils/cy_yolo2_findboxes.o\n",
            "In file included from \u001b[01m\u001b[K/usr/local/lib/python3.6/dist-packages/numpy/core/include/numpy/ndarraytypes.h:1830:0\u001b[m\u001b[K,\n",
            "                 from \u001b[01m\u001b[K/usr/local/lib/python3.6/dist-packages/numpy/core/include/numpy/ndarrayobject.h:12\u001b[m\u001b[K,\n",
            "                 from \u001b[01m\u001b[K/usr/local/lib/python3.6/dist-packages/numpy/core/include/numpy/arrayobject.h:4\u001b[m\u001b[K,\n",
            "                 from \u001b[01m\u001b[Kdarkflow/cython_utils/cy_yolo2_findboxes.c:620\u001b[m\u001b[K:\n",
            "\u001b[01m\u001b[K/usr/local/lib/python3.6/dist-packages/numpy/core/include/numpy/npy_1_7_deprecated_api.h:17:2:\u001b[m\u001b[K \u001b[01;35m\u001b[Kwarning: \u001b[m\u001b[K#warning \"Using deprecated NumPy API, disable it with \" \"#define NPY_NO_DEPRECATED_API NPY_1_7_API_VERSION\" [\u001b[01;35m\u001b[K-Wcpp\u001b[m\u001b[K]\n",
            " #\u001b[01;35m\u001b[Kwarning\u001b[m\u001b[K \"Using deprecated NumPy API, disable it with \" \\\n",
            "  \u001b[01;35m\u001b[K^~~~~~~\u001b[m\u001b[K\n",
            "x86_64-linux-gnu-gcc -pthread -shared -Wl,-O1 -Wl,-Bsymbolic-functions -Wl,-Bsymbolic-functions -Wl,-z,relro -Wl,-Bsymbolic-functions -Wl,-z,relro -g -fstack-protector-strong -Wformat -Werror=format-security -Wdate-time -D_FORTIFY_SOURCE=2 build/temp.linux-x86_64-3.6/darkflow/cython_utils/cy_yolo2_findboxes.o -lm -o build/lib.linux-x86_64-3.6/darkflow/cython_utils/cy_yolo2_findboxes.cpython-36m-x86_64-linux-gnu.so\n",
            "building 'darkflow.cython_utils.cy_yolo_findboxes' extension\n",
            "x86_64-linux-gnu-gcc -pthread -DNDEBUG -g -fwrapv -O2 -Wall -g -fstack-protector-strong -Wformat -Werror=format-security -Wdate-time -D_FORTIFY_SOURCE=2 -fPIC -I/usr/local/lib/python3.6/dist-packages/numpy/core/include -I/usr/include/python3.6m -c darkflow/cython_utils/cy_yolo_findboxes.c -o build/temp.linux-x86_64-3.6/darkflow/cython_utils/cy_yolo_findboxes.o\n",
            "In file included from \u001b[01m\u001b[K/usr/local/lib/python3.6/dist-packages/numpy/core/include/numpy/ndarraytypes.h:1830:0\u001b[m\u001b[K,\n",
            "                 from \u001b[01m\u001b[K/usr/local/lib/python3.6/dist-packages/numpy/core/include/numpy/ndarrayobject.h:12\u001b[m\u001b[K,\n",
            "                 from \u001b[01m\u001b[K/usr/local/lib/python3.6/dist-packages/numpy/core/include/numpy/arrayobject.h:4\u001b[m\u001b[K,\n",
            "                 from \u001b[01m\u001b[Kdarkflow/cython_utils/cy_yolo_findboxes.c:620\u001b[m\u001b[K:\n",
            "\u001b[01m\u001b[K/usr/local/lib/python3.6/dist-packages/numpy/core/include/numpy/npy_1_7_deprecated_api.h:17:2:\u001b[m\u001b[K \u001b[01;35m\u001b[Kwarning: \u001b[m\u001b[K#warning \"Using deprecated NumPy API, disable it with \" \"#define NPY_NO_DEPRECATED_API NPY_1_7_API_VERSION\" [\u001b[01;35m\u001b[K-Wcpp\u001b[m\u001b[K]\n",
            " #\u001b[01;35m\u001b[Kwarning\u001b[m\u001b[K \"Using deprecated NumPy API, disable it with \" \\\n",
            "  \u001b[01;35m\u001b[K^~~~~~~\u001b[m\u001b[K\n",
            "x86_64-linux-gnu-gcc -pthread -shared -Wl,-O1 -Wl,-Bsymbolic-functions -Wl,-Bsymbolic-functions -Wl,-z,relro -Wl,-Bsymbolic-functions -Wl,-z,relro -g -fstack-protector-strong -Wformat -Werror=format-security -Wdate-time -D_FORTIFY_SOURCE=2 build/temp.linux-x86_64-3.6/darkflow/cython_utils/cy_yolo_findboxes.o -lm -o build/lib.linux-x86_64-3.6/darkflow/cython_utils/cy_yolo_findboxes.cpython-36m-x86_64-linux-gnu.so\n",
            "copying build/lib.linux-x86_64-3.6/darkflow/cython_utils/nms.cpython-36m-x86_64-linux-gnu.so -> darkflow/cython_utils\n",
            "copying build/lib.linux-x86_64-3.6/darkflow/cython_utils/cy_yolo2_findboxes.cpython-36m-x86_64-linux-gnu.so -> darkflow/cython_utils\n",
            "copying build/lib.linux-x86_64-3.6/darkflow/cython_utils/cy_yolo_findboxes.cpython-36m-x86_64-linux-gnu.so -> darkflow/cython_utils\n"
          ],
          "name": "stdout"
        }
      ]
    },
    {
      "cell_type": "code",
      "metadata": {
        "id": "Cb-ru53bS2VC",
        "colab_type": "code",
        "outputId": "ba79102b-ff61-4694-b0e7-8d5700951219",
        "colab": {
          "base_uri": "https://localhost:8080/",
          "height": 86
        }
      },
      "source": [
        "! pip install -e ."
      ],
      "execution_count": 0,
      "outputs": [
        {
          "output_type": "stream",
          "text": [
            "Obtaining file:///content/darkflow\n",
            "Installing collected packages: darkflow\n",
            "  Running setup.py develop for darkflow\n",
            "Successfully installed darkflow\n"
          ],
          "name": "stdout"
        }
      ]
    },
    {
      "cell_type": "code",
      "metadata": {
        "id": "Ks0CPSX-S9Hm",
        "colab_type": "code",
        "outputId": "63ab77ff-611b-4114-8414-88a4e9c1f467",
        "colab": {
          "base_uri": "https://localhost:8080/",
          "height": 211
        }
      },
      "source": [
        "! pip install ."
      ],
      "execution_count": 0,
      "outputs": [
        {
          "output_type": "stream",
          "text": [
            "Processing /content/darkflow\n",
            "Building wheels for collected packages: darkflow\n",
            "  Building wheel for darkflow (setup.py) ... \u001b[?25l\u001b[?25hdone\n",
            "  Created wheel for darkflow: filename=darkflow-1.0.0-cp36-cp36m-linux_x86_64.whl size=830395 sha256=ef196e983786c5b1c28f1d04292ca551bf6c71d54e8004fad12c2dac13bf40fc\n",
            "  Stored in directory: /tmp/pip-ephem-wheel-cache-ty5ix6jk/wheels/2f/3a/c5/e84e79d73d5a73aa1b5129a66a40947d9d77a32ebed501e431\n",
            "Successfully built darkflow\n",
            "Installing collected packages: darkflow\n",
            "  Found existing installation: darkflow 1.0.0\n",
            "    Can't uninstall 'darkflow'. No files were found to uninstall.\n",
            "Successfully installed darkflow-1.0.0\n"
          ],
          "name": "stdout"
        }
      ]
    },
    {
      "cell_type": "code",
      "metadata": {
        "id": "KCHt9filS_ZD",
        "colab_type": "code",
        "outputId": "8f5fa397-d4e1-46fd-a001-0c47213167df",
        "colab": {
          "base_uri": "https://localhost:8080/",
          "height": 52
        }
      },
      "source": [
        "!ls"
      ],
      "execution_count": 0,
      "outputs": [
        {
          "output_type": "stream",
          "text": [
            "build  darkflow\t\t  demo.gif  labels.txt\tpreview.png  sample_img  test\n",
            "cfg    darkflow.egg-info  flow\t    LICENSE\tREADME.md    setup.py\n"
          ],
          "name": "stdout"
        }
      ]
    },
    {
      "cell_type": "code",
      "metadata": {
        "id": "mSlxtzsqAR6X",
        "colab_type": "code",
        "colab": {}
      },
      "source": [
        "mkdir ckpt"
      ],
      "execution_count": 0,
      "outputs": []
    },
    {
      "cell_type": "code",
      "metadata": {
        "id": "9N8YBwiZAUpe",
        "colab_type": "code",
        "colab": {}
      },
      "source": [
        "mkdir ckpt/cfg"
      ],
      "execution_count": 0,
      "outputs": []
    },
    {
      "cell_type": "code",
      "metadata": {
        "id": "FghGpeMhR6c-",
        "colab_type": "code",
        "outputId": "ea165b86-57a5-47dd-a338-89f0f9c5512f",
        "colab": {
          "base_uri": "https://localhost:8080/",
          "height": 501
        }
      },
      "source": [
        "from darkflow.net.build import TFNet"
      ],
      "execution_count": 0,
      "outputs": [
        {
          "output_type": "display_data",
          "data": {
            "text/html": [
              "<p style=\"color: red;\">\n",
              "The default version of TensorFlow in Colab will soon switch to TensorFlow 2.x.<br>\n",
              "We recommend you <a href=\"https://www.tensorflow.org/guide/migrate\" target=\"_blank\">upgrade</a> now \n",
              "or ensure your notebook will continue to use TensorFlow 1.x via the <code>%tensorflow_version 1.x</code> magic:\n",
              "<a href=\"https://colab.research.google.com/notebooks/tensorflow_version.ipynb\" target=\"_blank\">more info</a>.</p>\n"
            ],
            "text/plain": [
              "<IPython.core.display.HTML object>"
            ]
          },
          "metadata": {
            "tags": []
          }
        },
        {
          "output_type": "stream",
          "text": [
            "WARNING:tensorflow:\n",
            "The TensorFlow contrib module will not be included in TensorFlow 2.0.\n",
            "For more information, please see:\n",
            "  * https://github.com/tensorflow/community/blob/master/rfcs/20180907-contrib-sunset.md\n",
            "  * https://github.com/tensorflow/addons\n",
            "  * https://github.com/tensorflow/io (for I/O related ops)\n",
            "If you depend on functionality not listed there, please file an issue.\n",
            "\n",
            "WARNING:tensorflow:From /content/darkflow/darkflow/net/build.py:15: The name tf.train.RMSPropOptimizer is deprecated. Please use tf.compat.v1.train.RMSPropOptimizer instead.\n",
            "\n",
            "WARNING:tensorflow:From /content/darkflow/darkflow/net/build.py:16: The name tf.train.AdadeltaOptimizer is deprecated. Please use tf.compat.v1.train.AdadeltaOptimizer instead.\n",
            "\n",
            "WARNING:tensorflow:From /content/darkflow/darkflow/net/build.py:17: The name tf.train.AdagradOptimizer is deprecated. Please use tf.compat.v1.train.AdagradOptimizer instead.\n",
            "\n",
            "WARNING:tensorflow:From /content/darkflow/darkflow/net/build.py:18: The name tf.train.AdagradDAOptimizer is deprecated. Please use tf.compat.v1.train.AdagradDAOptimizer instead.\n",
            "\n",
            "WARNING:tensorflow:From /content/darkflow/darkflow/net/build.py:19: The name tf.train.MomentumOptimizer is deprecated. Please use tf.compat.v1.train.MomentumOptimizer instead.\n",
            "\n",
            "WARNING:tensorflow:From /content/darkflow/darkflow/net/build.py:20: The name tf.train.AdamOptimizer is deprecated. Please use tf.compat.v1.train.AdamOptimizer instead.\n",
            "\n",
            "WARNING:tensorflow:From /content/darkflow/darkflow/net/build.py:21: The name tf.train.FtrlOptimizer is deprecated. Please use tf.compat.v1.train.FtrlOptimizer instead.\n",
            "\n",
            "WARNING:tensorflow:From /content/darkflow/darkflow/net/build.py:22: The name tf.train.GradientDescentOptimizer is deprecated. Please use tf.compat.v1.train.GradientDescentOptimizer instead.\n",
            "\n"
          ],
          "name": "stdout"
        }
      ]
    },
    {
      "cell_type": "code",
      "metadata": {
        "id": "37XeBQ0-KWYM",
        "colab_type": "code",
        "outputId": "e7bfd21d-bdee-464c-c54d-47b6f9b40375",
        "colab": {
          "base_uri": "https://localhost:8080/",
          "height": 191
        }
      },
      "source": [
        "import os \n",
        "driveLink = '../gdrive/My Drive/'\n",
        "os.listdir(driveLink)[:10]"
      ],
      "execution_count": 0,
      "outputs": [
        {
          "output_type": "execute_result",
          "data": {
            "text/plain": [
              "['felladog-ws',\n",
              " 'intro.html',\n",
              " 'DSA Email Confirmation.gsheet',\n",
              " 'KG (1).pdf',\n",
              " 'KG.pdf',\n",
              " 'To-do list (3).gsheet',\n",
              " 'hackathon',\n",
              " 'MAN08737.jpg',\n",
              " 'To-do list (2).gsheet',\n",
              " 'Resume (2).gdoc']"
            ]
          },
          "metadata": {
            "tags": []
          },
          "execution_count": 11
        }
      ]
    },
    {
      "cell_type": "code",
      "metadata": {
        "id": "5rh58AveIRka",
        "colab_type": "code",
        "outputId": "e796c306-4699-48f6-8eca-4d0d10ccb86f",
        "colab": {
          "base_uri": "https://localhost:8080/",
          "height": 1000
        }
      },
      "source": [
        "import numpy as np\n",
        "from darkflow.net.build import TFNet\n",
        "import cv2\n",
        "options = {\"model\":\"../yolo-1c.cfg\",\n",
        "           \"load\": driveLink+\"yolo.weights\",\n",
        "           \"batch\": 8,\n",
        "           \"epoch\": 8,\n",
        "           \"gpu\": 0.9,\n",
        "           \"train\": True,\n",
        "           \"annotation\": driveLink+\"LicensePlate/001plateXML\",\n",
        "           \"dataset\": driveLink+\"LicensePlate/001plate\"}\n",
        "tfnet = TFNet(options)\n",
        "tfnet.train()\n"
      ],
      "execution_count": 0,
      "outputs": [
        {
          "output_type": "stream",
          "text": [
            "Parsing ./cfg/yolo.cfg\n",
            "Parsing ../yolo-1c.cfg\n",
            "Loading ../gdrive/My Drive/yolo.weights ...\n",
            "Successfully identified 203934260 bytes\n",
            "Finished in 0.0668954849243164s\n",
            "\n",
            "Building net ...\n",
            "WARNING:tensorflow:From /content/darkflow/darkflow/net/build.py:105: The name tf.placeholder is deprecated. Please use tf.compat.v1.placeholder instead.\n",
            "\n",
            "Source | Train? | Layer description                | Output size\n",
            "-------+--------+----------------------------------+---------------\n",
            "WARNING:tensorflow:From /content/darkflow/darkflow/net/ops/baseop.py:70: The name tf.variable_scope is deprecated. Please use tf.compat.v1.variable_scope instead.\n",
            "\n",
            "WARNING:tensorflow:From /content/darkflow/darkflow/net/ops/baseop.py:71: The name tf.get_variable is deprecated. Please use tf.compat.v1.get_variable instead.\n",
            "\n",
            "WARNING:tensorflow:From /content/darkflow/darkflow/net/ops/baseop.py:84: The name tf.placeholder_with_default is deprecated. Please use tf.compat.v1.placeholder_with_default instead.\n",
            "\n",
            "       |        | input                            | (?, 608, 608, 3)\n",
            " Load  |  Yep!  | conv 3x3p1_1  +bnorm  leaky      | (?, 608, 608, 32)\n",
            "WARNING:tensorflow:From /content/darkflow/darkflow/net/ops/simple.py:106: The name tf.nn.max_pool is deprecated. Please use tf.nn.max_pool2d instead.\n",
            "\n",
            " Load  |  Yep!  | maxp 2x2p0_2                     | (?, 304, 304, 32)\n",
            " Load  |  Yep!  | conv 3x3p1_1  +bnorm  leaky      | (?, 304, 304, 64)\n",
            " Load  |  Yep!  | maxp 2x2p0_2                     | (?, 152, 152, 64)\n",
            " Load  |  Yep!  | conv 3x3p1_1  +bnorm  leaky      | (?, 152, 152, 128)\n",
            " Load  |  Yep!  | conv 1x1p0_1  +bnorm  leaky      | (?, 152, 152, 64)\n",
            " Load  |  Yep!  | conv 3x3p1_1  +bnorm  leaky      | (?, 152, 152, 128)\n",
            " Load  |  Yep!  | maxp 2x2p0_2                     | (?, 76, 76, 128)\n",
            " Load  |  Yep!  | conv 3x3p1_1  +bnorm  leaky      | (?, 76, 76, 256)\n",
            " Load  |  Yep!  | conv 1x1p0_1  +bnorm  leaky      | (?, 76, 76, 128)\n",
            " Load  |  Yep!  | conv 3x3p1_1  +bnorm  leaky      | (?, 76, 76, 256)\n",
            " Load  |  Yep!  | maxp 2x2p0_2                     | (?, 38, 38, 256)\n",
            " Load  |  Yep!  | conv 3x3p1_1  +bnorm  leaky      | (?, 38, 38, 512)\n",
            " Load  |  Yep!  | conv 1x1p0_1  +bnorm  leaky      | (?, 38, 38, 256)\n",
            " Load  |  Yep!  | conv 3x3p1_1  +bnorm  leaky      | (?, 38, 38, 512)\n",
            " Load  |  Yep!  | conv 1x1p0_1  +bnorm  leaky      | (?, 38, 38, 256)\n",
            " Load  |  Yep!  | conv 3x3p1_1  +bnorm  leaky      | (?, 38, 38, 512)\n",
            " Load  |  Yep!  | maxp 2x2p0_2                     | (?, 19, 19, 512)\n",
            " Load  |  Yep!  | conv 3x3p1_1  +bnorm  leaky      | (?, 19, 19, 1024)\n",
            " Load  |  Yep!  | conv 1x1p0_1  +bnorm  leaky      | (?, 19, 19, 512)\n",
            " Load  |  Yep!  | conv 3x3p1_1  +bnorm  leaky      | (?, 19, 19, 1024)\n",
            " Load  |  Yep!  | conv 1x1p0_1  +bnorm  leaky      | (?, 19, 19, 512)\n",
            " Load  |  Yep!  | conv 3x3p1_1  +bnorm  leaky      | (?, 19, 19, 1024)\n",
            " Load  |  Yep!  | conv 3x3p1_1  +bnorm  leaky      | (?, 19, 19, 1024)\n",
            " Load  |  Yep!  | conv 3x3p1_1  +bnorm  leaky      | (?, 19, 19, 1024)\n",
            " Load  |  Yep!  | concat [16]                      | (?, 38, 38, 512)\n",
            " Load  |  Yep!  | conv 1x1p0_1  +bnorm  leaky      | (?, 38, 38, 64)\n",
            "WARNING:tensorflow:From /content/darkflow/darkflow/net/ops/convolution.py:28: calling extract_image_patches (from tensorflow.python.ops.array_ops) with ksizes is deprecated and will be removed in a future version.\n",
            "Instructions for updating:\n",
            "ksizes is deprecated, use sizes instead\n",
            " Load  |  Yep!  | local flatten 2x2                | (?, 19, 19, 256)\n",
            " Load  |  Yep!  | concat [27, 24]                  | (?, 19, 19, 1280)\n",
            " Load  |  Yep!  | conv 3x3p1_1  +bnorm  leaky      | (?, 19, 19, 1024)\n",
            " Init  |  Yep!  | conv 1x1p0_1    linear           | (?, 19, 19, 30)\n",
            "-------+--------+----------------------------------+---------------\n",
            "GPU mode with 0.9 usage\n",
            "WARNING:tensorflow:From /content/darkflow/darkflow/net/build.py:132: The name tf.GPUOptions is deprecated. Please use tf.compat.v1.GPUOptions instead.\n",
            "\n",
            "../yolo-1c.cfg loss hyper-parameters:\n",
            "\tH       = 19\n",
            "\tW       = 19\n",
            "\tbox     = 5\n",
            "\tclasses = 1\n",
            "\tscales  = [1.0, 5.0, 1.0, 1.0]\n",
            "WARNING:tensorflow:From /content/darkflow/darkflow/net/yolov2/train.py:87: to_float (from tensorflow.python.ops.math_ops) is deprecated and will be removed in a future version.\n",
            "Instructions for updating:\n",
            "Use `tf.cast` instead.\n",
            "Building ../yolo-1c.cfg loss\n",
            "WARNING:tensorflow:From /content/darkflow/darkflow/net/yolov2/train.py:107: The name tf.summary.scalar is deprecated. Please use tf.compat.v1.summary.scalar instead.\n",
            "\n",
            "INFO:tensorflow:Summary name ../yolo-1c.cfg loss is illegal; using ../yolo-1c.cfg_loss instead.\n",
            "Building ../yolo-1c.cfg train op\n",
            "WARNING:tensorflow:From /usr/local/lib/python3.6/dist-packages/tensorflow_core/python/ops/math_grad.py:1375: where (from tensorflow.python.ops.array_ops) is deprecated and will be removed in a future version.\n",
            "Instructions for updating:\n",
            "Use tf.where in 2.0, which has the same broadcast rule as np.where\n",
            "WARNING:tensorflow:From /usr/local/lib/python3.6/dist-packages/tensorflow_core/python/training/rmsprop.py:119: calling Ones.__init__ (from tensorflow.python.ops.init_ops) with dtype is deprecated and will be removed in a future version.\n",
            "Instructions for updating:\n",
            "Call initializer instance with the dtype argument instead of passing it to the constructor\n",
            "WARNING:tensorflow:From /content/darkflow/darkflow/net/build.py:145: The name tf.Session is deprecated. Please use tf.compat.v1.Session instead.\n",
            "\n",
            "WARNING:tensorflow:From /content/darkflow/darkflow/net/build.py:145: The name tf.ConfigProto is deprecated. Please use tf.compat.v1.ConfigProto instead.\n",
            "\n",
            "WARNING:tensorflow:From /content/darkflow/darkflow/net/build.py:146: The name tf.global_variables_initializer is deprecated. Please use tf.compat.v1.global_variables_initializer instead.\n",
            "\n",
            "WARNING:tensorflow:From /content/darkflow/darkflow/net/build.py:149: The name tf.train.Saver is deprecated. Please use tf.compat.v1.train.Saver instead.\n",
            "\n",
            "WARNING:tensorflow:From /content/darkflow/darkflow/net/build.py:149: The name tf.global_variables is deprecated. Please use tf.compat.v1.global_variables instead.\n",
            "\n",
            "Finished in 18.237866640090942s\n",
            "\n",
            "\n",
            "../yolo-1c.cfg parsing ../gdrive/My Drive/LicensePlate/001plateXML\n",
            "Parsing for ['plate'] \n",
            "[====================>]100%  m436_1.xml\n",
            "Statistics:\n",
            "plate: 1418\n",
            "Dataset size: 1418\n",
            "Dataset of 1418 instance(s)\n",
            "Training statistics: \n",
            "\tLearning rate : 1e-05\n",
            "\tBatch size    : 8\n",
            "\tEpoch number  : 8\n",
            "\tBackup every  : 2000\n",
            "step 1 - loss 234.5941162109375 - moving ave loss 234.5941162109375\n",
            "step 2 - loss 232.84906005859375 - moving ave loss 234.41961059570312\n",
            "step 3 - loss 231.16085815429688 - moving ave loss 234.09373535156251\n",
            "step 4 - loss 229.15109252929688 - moving ave loss 233.59947106933595\n",
            "step 5 - loss 227.39988708496094 - moving ave loss 232.97951267089846\n",
            "step 6 - loss 227.15281677246094 - moving ave loss 232.39684308105473\n",
            "step 7 - loss 225.79495239257812 - moving ave loss 231.73665401220708\n",
            "step 8 - loss 224.74200439453125 - moving ave loss 231.0371890504395\n",
            "step 9 - loss 224.15872192382812 - moving ave loss 230.34934233777838\n",
            "step 10 - loss 223.11277770996094 - moving ave loss 229.62568587499663\n",
            "step 11 - loss 222.35308837890625 - moving ave loss 228.89842612538763\n",
            "step 12 - loss 221.56785583496094 - moving ave loss 228.16536909634496\n",
            "step 13 - loss 220.43148803710938 - moving ave loss 227.39198099042142\n",
            "step 14 - loss 219.50430297851562 - moving ave loss 226.60321318923084\n",
            "step 15 - loss 219.42764282226562 - moving ave loss 225.88565615253432\n",
            "step 16 - loss 218.60733032226562 - moving ave loss 225.15782356950746\n",
            "step 17 - loss 217.6810302734375 - moving ave loss 224.41014423990046\n",
            "step 18 - loss 216.61959838867188 - moving ave loss 223.6310896547776\n",
            "step 19 - loss 215.649658203125 - moving ave loss 222.83294650961236\n",
            "step 20 - loss 215.34779357910156 - moving ave loss 222.08443121656128\n",
            "step 21 - loss 215.22215270996094 - moving ave loss 221.39820336590125\n",
            "step 22 - loss 213.82342529296875 - moving ave loss 220.64072555860798\n",
            "step 23 - loss 212.59133911132812 - moving ave loss 219.83578691387999\n",
            "step 24 - loss 211.64501953125 - moving ave loss 219.016710175617\n",
            "step 25 - loss 211.078857421875 - moving ave loss 218.22292490024282\n",
            "step 26 - loss 210.80459594726562 - moving ave loss 217.4810920049451\n",
            "step 27 - loss 209.22283935546875 - moving ave loss 216.6552667399975\n",
            "step 28 - loss 208.52310180664062 - moving ave loss 215.8420502466618\n",
            "step 29 - loss 207.2126007080078 - moving ave loss 214.97910529279642\n",
            "step 30 - loss 206.57171630859375 - moving ave loss 214.13836639437616\n",
            "step 31 - loss 205.89974975585938 - moving ave loss 213.31450473052448\n",
            "step 32 - loss 204.7067108154297 - moving ave loss 212.453725339015\n",
            "step 33 - loss 206.04116821289062 - moving ave loss 211.81246962640256\n",
            "step 34 - loss 204.48104858398438 - moving ave loss 211.07932752216075\n",
            "step 35 - loss 203.43377685546875 - moving ave loss 210.31477245549155\n",
            "step 36 - loss 201.59243774414062 - moving ave loss 209.44253898435647\n",
            "step 37 - loss 200.95645141601562 - moving ave loss 208.59393022752238\n",
            "step 38 - loss 200.23907470703125 - moving ave loss 207.75844467547327\n",
            "step 39 - loss 200.0503387451172 - moving ave loss 206.98763408243767\n",
            "step 40 - loss 199.58660888671875 - moving ave loss 206.2475315628658\n",
            "step 41 - loss 199.41015625 - moving ave loss 205.56379403157922\n",
            "step 42 - loss 197.84222412109375 - moving ave loss 204.7916370405307\n",
            "step 43 - loss 196.24942016601562 - moving ave loss 203.9374153530792\n",
            "step 44 - loss 196.7236785888672 - moving ave loss 203.216041676658\n",
            "step 45 - loss 196.59397888183594 - moving ave loss 202.55383539717582\n",
            "step 46 - loss 194.04421997070312 - moving ave loss 201.70287385452855\n",
            "step 47 - loss 194.60780334472656 - moving ave loss 200.99336680354838\n",
            "step 48 - loss 194.2200469970703 - moving ave loss 200.31603482290058\n",
            "step 49 - loss 192.2286834716797 - moving ave loss 199.5072996877785\n",
            "step 50 - loss 191.96371459960938 - moving ave loss 198.7529411789616\n",
            "step 51 - loss 190.71456909179688 - moving ave loss 197.94910397024515\n",
            "step 52 - loss 190.00930786132812 - moving ave loss 197.15512435935344\n",
            "step 53 - loss 189.91177368164062 - moving ave loss 196.43078929158216\n",
            "step 54 - loss 188.07737731933594 - moving ave loss 195.59544809435755\n",
            "step 55 - loss 188.8377685546875 - moving ave loss 194.91968014039054\n",
            "step 56 - loss 185.7404022216797 - moving ave loss 194.00175234851946\n",
            "step 57 - loss 186.626220703125 - moving ave loss 193.26419918398003\n",
            "step 58 - loss 184.6947021484375 - moving ave loss 192.40724948042578\n",
            "step 59 - loss 183.60861206054688 - moving ave loss 191.52738573843789\n",
            "step 60 - loss 184.67153930664062 - moving ave loss 190.84180109525818\n",
            "step 61 - loss 183.92724609375 - moving ave loss 190.15034559510735\n",
            "step 62 - loss 181.83900451660156 - moving ave loss 189.31921148725678\n",
            "step 63 - loss 182.1527099609375 - moving ave loss 188.60256133462485\n",
            "step 64 - loss 179.97256469726562 - moving ave loss 187.73956167088892\n",
            "step 65 - loss 179.82205200195312 - moving ave loss 186.94781070399534\n",
            "step 66 - loss 178.80801391601562 - moving ave loss 186.13383102519737\n",
            "step 67 - loss 178.421630859375 - moving ave loss 185.36261100861515\n",
            "step 68 - loss 177.31358337402344 - moving ave loss 184.557708245156\n",
            "step 69 - loss 177.11705017089844 - moving ave loss 183.81364243773027\n",
            "step 70 - loss 175.76046752929688 - moving ave loss 183.00832494688694\n",
            "step 71 - loss 175.506103515625 - moving ave loss 182.25810280376078\n",
            "step 72 - loss 174.37130737304688 - moving ave loss 181.4694232606894\n",
            "step 73 - loss 172.65069580078125 - moving ave loss 180.5875505146986\n",
            "step 74 - loss 171.6297607421875 - moving ave loss 179.6917715374475\n",
            "step 75 - loss 171.28872680664062 - moving ave loss 178.85146706436683\n",
            "step 76 - loss 171.50857543945312 - moving ave loss 178.11717790187546\n",
            "step 77 - loss 169.2765350341797 - moving ave loss 177.23311361510588\n",
            "step 78 - loss 168.0681915283203 - moving ave loss 176.31662140642732\n",
            "step 79 - loss 167.97042846679688 - moving ave loss 175.48200211246427\n",
            "step 80 - loss 167.7168426513672 - moving ave loss 174.70548616635458\n",
            "step 81 - loss 167.1189727783203 - moving ave loss 173.94683482755116\n",
            "step 82 - loss 165.38290405273438 - moving ave loss 173.0904417500695\n",
            "step 83 - loss 164.79116821289062 - moving ave loss 172.26051439635162\n",
            "step 84 - loss 163.3079071044922 - moving ave loss 171.36525366716566\n",
            "step 85 - loss 162.4215087890625 - moving ave loss 170.47087917935534\n",
            "step 86 - loss 161.725830078125 - moving ave loss 169.5963742692323\n",
            "step 87 - loss 161.1507568359375 - moving ave loss 168.75181252590284\n",
            "step 88 - loss 160.08544921875 - moving ave loss 167.88517619518757\n",
            "step 89 - loss 159.84649658203125 - moving ave loss 167.08130823387194\n",
            "step 90 - loss 158.27786254882812 - moving ave loss 166.20096366536757\n",
            "step 91 - loss 157.1876678466797 - moving ave loss 165.29963408349877\n",
            "step 92 - loss 156.75534057617188 - moving ave loss 164.4452047327661\n",
            "step 93 - loss 154.95472717285156 - moving ave loss 163.49615697677464\n",
            "step 94 - loss 154.49993896484375 - moving ave loss 162.59653517558158\n",
            "step 95 - loss 153.51344299316406 - moving ave loss 161.68822595733982\n",
            "step 96 - loss 152.42294311523438 - moving ave loss 160.76169767312928\n",
            "step 97 - loss 152.70803833007812 - moving ave loss 159.95633173882416\n",
            "step 98 - loss 151.3542022705078 - moving ave loss 159.09611879199252\n",
            "step 99 - loss 152.05032348632812 - moving ave loss 158.3915392614261\n",
            "step 100 - loss 150.9568328857422 - moving ave loss 157.64806862385768\n",
            "step 101 - loss 149.0286407470703 - moving ave loss 156.78612583617894\n",
            "step 102 - loss 146.8070068359375 - moving ave loss 155.78821393615482\n",
            "step 103 - loss 146.0475616455078 - moving ave loss 154.81414870709014\n",
            "step 104 - loss 144.28668212890625 - moving ave loss 153.76140204927174\n",
            "step 105 - loss 143.59556579589844 - moving ave loss 152.74481842393442\n",
            "step 106 - loss 142.99887084960938 - moving ave loss 151.77022366650192\n",
            "step 107 - loss 143.01014709472656 - moving ave loss 150.8942160093244\n",
            "step 108 - loss 141.9593505859375 - moving ave loss 150.00072946698572\n",
            "step 109 - loss 139.31690979003906 - moving ave loss 148.93234749929107\n",
            "step 110 - loss 138.72494506835938 - moving ave loss 147.91160725619793\n",
            "step 111 - loss 139.5891571044922 - moving ave loss 147.07936224102735\n",
            "step 112 - loss 139.18299865722656 - moving ave loss 146.28972588264728\n",
            "step 113 - loss 137.681396484375 - moving ave loss 145.42889294282006\n",
            "step 114 - loss 134.45404052734375 - moving ave loss 144.33140770127244\n",
            "step 115 - loss 136.18875122070312 - moving ave loss 143.5171420532155\n",
            "step 116 - loss 134.92098999023438 - moving ave loss 142.6575268469174\n",
            "step 117 - loss 133.69244384765625 - moving ave loss 141.7610185469913\n",
            "step 118 - loss 131.51104736328125 - moving ave loss 140.7360214286203\n",
            "step 119 - loss 131.90869140625 - moving ave loss 139.85328842638327\n",
            "step 120 - loss 127.75688934326172 - moving ave loss 138.64364851807113\n",
            "step 121 - loss 128.5196533203125 - moving ave loss 137.63124899829526\n",
            "step 122 - loss 125.641845703125 - moving ave loss 136.43230866877823\n",
            "step 123 - loss 128.20989990234375 - moving ave loss 135.6100677921348\n",
            "step 124 - loss 125.93830871582031 - moving ave loss 134.64289188450337\n",
            "step 125 - loss 125.22381591796875 - moving ave loss 133.7009842878499\n",
            "step 126 - loss 124.20242309570312 - moving ave loss 132.75112816863523\n",
            "step 127 - loss 120.2558822631836 - moving ave loss 131.50160357809006\n",
            "step 128 - loss 121.48709106445312 - moving ave loss 130.50015232672638\n",
            "step 129 - loss 124.39421081542969 - moving ave loss 129.8895581755967\n",
            "step 130 - loss 120.08914184570312 - moving ave loss 128.90951654260735\n",
            "step 131 - loss 117.22499084472656 - moving ave loss 127.74106397281928\n",
            "step 132 - loss 115.32796478271484 - moving ave loss 126.49975405380883\n",
            "step 133 - loss 118.91600036621094 - moving ave loss 125.74137868504904\n",
            "step 134 - loss 114.49281311035156 - moving ave loss 124.61652212757929\n",
            "step 135 - loss 113.27960205078125 - moving ave loss 123.48283011989949\n",
            "step 136 - loss 115.01307678222656 - moving ave loss 122.6358547861322\n",
            "step 137 - loss 109.723388671875 - moving ave loss 121.34460817470648\n",
            "step 138 - loss 115.77618408203125 - moving ave loss 120.78776576543896\n",
            "step 139 - loss 110.14837646484375 - moving ave loss 119.72382683537946\n",
            "step 140 - loss 109.33116149902344 - moving ave loss 118.68456030174386\n",
            "step 141 - loss 110.99913024902344 - moving ave loss 117.91601729647182\n",
            "step 142 - loss 105.04686737060547 - moving ave loss 116.62910230388519\n",
            "step 143 - loss 105.45278930664062 - moving ave loss 115.51147100416074\n",
            "step 144 - loss 104.33091735839844 - moving ave loss 114.3934156395845\n",
            "step 145 - loss 105.66603088378906 - moving ave loss 113.52067716400497\n",
            "step 146 - loss 102.65138244628906 - moving ave loss 112.43374769223337\n",
            "step 147 - loss 101.50083923339844 - moving ave loss 111.34045684634988\n",
            "step 148 - loss 103.272216796875 - moving ave loss 110.5336328414024\n",
            "step 149 - loss 101.47021484375 - moving ave loss 109.62729104163716\n",
            "step 150 - loss 99.4697265625 - moving ave loss 108.61153459372345\n",
            "step 151 - loss 98.04034423828125 - moving ave loss 107.55441555817923\n",
            "step 152 - loss 98.49530029296875 - moving ave loss 106.64850403165818\n",
            "step 153 - loss 99.59867858886719 - moving ave loss 105.94352148737909\n",
            "step 154 - loss 98.85707092285156 - moving ave loss 105.23487643092633\n",
            "step 155 - loss 97.74597930908203 - moving ave loss 104.4859867187419\n",
            "step 156 - loss 93.24651336669922 - moving ave loss 103.36203938353762\n",
            "step 157 - loss 93.61355590820312 - moving ave loss 102.38719103600417\n",
            "step 158 - loss 92.76512908935547 - moving ave loss 101.4249848413393\n",
            "step 159 - loss 92.558837890625 - moving ave loss 100.53837014626787\n",
            "step 160 - loss 90.5889892578125 - moving ave loss 99.54343205742234\n",
            "step 161 - loss 96.1147232055664 - moving ave loss 99.20056117223675\n",
            "step 162 - loss 92.1650619506836 - moving ave loss 98.49701125008144\n",
            "step 163 - loss 90.86280822753906 - moving ave loss 97.73359094782721\n",
            "step 164 - loss 88.9952392578125 - moving ave loss 96.85975577882574\n",
            "step 165 - loss 88.37471008300781 - moving ave loss 96.01125120924395\n",
            "step 166 - loss 85.67789459228516 - moving ave loss 94.97791554754808\n",
            "step 167 - loss 87.64554595947266 - moving ave loss 94.24467858874053\n",
            "step 168 - loss 83.80416107177734 - moving ave loss 93.20062683704421\n",
            "step 169 - loss 92.8375473022461 - moving ave loss 93.1643188835644\n",
            "step 170 - loss 84.20414733886719 - moving ave loss 92.26830172909469\n",
            "step 171 - loss 83.03472900390625 - moving ave loss 91.34494445657585\n",
            "step 172 - loss 84.62767028808594 - moving ave loss 90.67321703972686\n",
            "step 173 - loss 81.18797302246094 - moving ave loss 89.72469263800028\n",
            "step 174 - loss 81.04902648925781 - moving ave loss 88.85712602312604\n",
            "step 175 - loss 82.08454895019531 - moving ave loss 88.17986831583296\n",
            "step 176 - loss 80.8211441040039 - moving ave loss 87.44399589465006\n",
            "step 177 - loss 79.55223083496094 - moving ave loss 86.65481938868115\n",
            "Finish 1 epoch(es)\n",
            "step 178 - loss 80.76348114013672 - moving ave loss 86.0656855638267\n",
            "step 179 - loss 79.09955596923828 - moving ave loss 85.36907260436786\n",
            "step 180 - loss 81.08068084716797 - moving ave loss 84.94023342864787\n",
            "step 181 - loss 82.43033599853516 - moving ave loss 84.68924368563661\n",
            "step 182 - loss 77.62770080566406 - moving ave loss 83.98308939763936\n",
            "step 183 - loss 77.28530883789062 - moving ave loss 83.31331134166449\n",
            "step 184 - loss 75.33573913574219 - moving ave loss 82.51555412107226\n",
            "step 185 - loss 75.81967163085938 - moving ave loss 81.84596587205097\n",
            "step 186 - loss 75.81742858886719 - moving ave loss 81.24311214373259\n",
            "step 187 - loss 77.91329956054688 - moving ave loss 80.91013088541402\n",
            "step 188 - loss 77.80365753173828 - moving ave loss 80.59948355004644\n",
            "step 189 - loss 77.67060852050781 - moving ave loss 80.30659604709258\n",
            "step 190 - loss 76.81718444824219 - moving ave loss 79.95765488720754\n",
            "step 191 - loss 72.78858947753906 - moving ave loss 79.2407483462407\n",
            "step 192 - loss 71.35096740722656 - moving ave loss 78.45177025233929\n",
            "step 193 - loss 74.720947265625 - moving ave loss 78.07868795366787\n",
            "step 194 - loss 72.0501708984375 - moving ave loss 77.47583624814483\n",
            "step 195 - loss 73.9112548828125 - moving ave loss 77.1193781116116\n",
            "step 196 - loss 72.45524597167969 - moving ave loss 76.6529648976184\n",
            "step 197 - loss 72.33097076416016 - moving ave loss 76.22076548427258\n",
            "step 198 - loss 72.1297607421875 - moving ave loss 75.81166501006406\n",
            "step 199 - loss 73.84153747558594 - moving ave loss 75.61465225661625\n",
            "step 200 - loss 72.31051635742188 - moving ave loss 75.28423866669682\n",
            "step 201 - loss 67.95545196533203 - moving ave loss 74.55135999656034\n",
            "step 202 - loss 67.4385757446289 - moving ave loss 73.8400815713672\n",
            "step 203 - loss 69.45245361328125 - moving ave loss 73.4013187755586\n",
            "step 204 - loss 68.599609375 - moving ave loss 72.92114783550274\n",
            "step 205 - loss 69.46769714355469 - moving ave loss 72.57580276630793\n",
            "step 206 - loss 68.72494506835938 - moving ave loss 72.19071699651307\n",
            "step 207 - loss 64.96165466308594 - moving ave loss 71.46781076317036\n",
            "step 208 - loss 66.0212631225586 - moving ave loss 70.92315599910918\n",
            "step 209 - loss 78.12004089355469 - moving ave loss 71.64284448855373\n",
            "step 210 - loss 64.52226257324219 - moving ave loss 70.93078629702258\n",
            "step 211 - loss 65.79525756835938 - moving ave loss 70.41723342415627\n",
            "step 212 - loss 65.33268737792969 - moving ave loss 69.90877881953361\n",
            "step 213 - loss 65.63453674316406 - moving ave loss 69.48135461189665\n",
            "step 214 - loss 63.71297836303711 - moving ave loss 68.9045169870107\n",
            "step 215 - loss 64.99000549316406 - moving ave loss 68.51306583762603\n",
            "step 216 - loss 62.9886474609375 - moving ave loss 67.96062399995718\n",
            "step 217 - loss 64.17122650146484 - moving ave loss 67.58168425010794\n",
            "step 218 - loss 61.77314376831055 - moving ave loss 67.0008302019282\n",
            "step 219 - loss 62.29851150512695 - moving ave loss 66.53059833224808\n",
            "step 220 - loss 60.15216064453125 - moving ave loss 65.89275456347639\n",
            "step 221 - loss 61.91204833984375 - moving ave loss 65.49468394111312\n",
            "step 222 - loss 60.960365295410156 - moving ave loss 65.04125207654283\n",
            "step 223 - loss 59.1681022644043 - moving ave loss 64.45393709532898\n",
            "step 224 - loss 61.17487335205078 - moving ave loss 64.12603072100117\n",
            "step 225 - loss 59.16194534301758 - moving ave loss 63.62962218320281\n",
            "step 226 - loss 60.4605827331543 - moving ave loss 63.31271823819797\n",
            "step 227 - loss 57.84674072265625 - moving ave loss 62.76612048664379\n",
            "step 228 - loss 59.62617492675781 - moving ave loss 62.4521259306552\n",
            "step 229 - loss 56.28724670410156 - moving ave loss 61.83563800799984\n",
            "step 230 - loss 57.789154052734375 - moving ave loss 61.4309896124733\n",
            "step 231 - loss 56.155487060546875 - moving ave loss 60.90343935728066\n",
            "step 232 - loss 58.32121658325195 - moving ave loss 60.645217079877796\n",
            "step 233 - loss 60.26519775390625 - moving ave loss 60.60721514728064\n",
            "step 234 - loss 56.74369812011719 - moving ave loss 60.220863444564294\n",
            "step 235 - loss 56.443294525146484 - moving ave loss 59.843106552622515\n",
            "step 236 - loss 57.33742904663086 - moving ave loss 59.592538802023356\n",
            "step 237 - loss 57.22080993652344 - moving ave loss 59.35536591547337\n",
            "step 238 - loss 54.509803771972656 - moving ave loss 58.87080970112331\n",
            "step 239 - loss 54.68278884887695 - moving ave loss 58.45200761589867\n",
            "step 240 - loss 56.16259765625 - moving ave loss 58.22306661993381\n",
            "step 241 - loss 52.352294921875 - moving ave loss 57.63598945012793\n",
            "step 242 - loss 53.31373596191406 - moving ave loss 57.20376410130654\n",
            "step 243 - loss 52.92778396606445 - moving ave loss 56.77616608778233\n",
            "step 244 - loss 55.436283111572266 - moving ave loss 56.64217779016133\n",
            "step 245 - loss 52.120567321777344 - moving ave loss 56.19001674332293\n",
            "step 246 - loss 51.13254928588867 - moving ave loss 55.684269997579506\n",
            "step 247 - loss 52.05051040649414 - moving ave loss 55.320894038470975\n",
            "step 248 - loss 52.09560012817383 - moving ave loss 54.998364647441264\n",
            "step 249 - loss 51.587303161621094 - moving ave loss 54.65725849885925\n",
            "step 250 - loss 50.82321548461914 - moving ave loss 54.27385419743524\n",
            "Checkpoint at step 250\n",
            "step 251 - loss 50.2548828125 - moving ave loss 53.87195705894172\n",
            "step 252 - loss 51.35793685913086 - moving ave loss 53.62055503896063\n",
            "step 253 - loss 50.55158233642578 - moving ave loss 53.31365776870715\n",
            "step 254 - loss 50.766693115234375 - moving ave loss 53.05896130335988\n",
            "step 255 - loss 48.599525451660156 - moving ave loss 52.61301771818991\n",
            "step 256 - loss 49.45658493041992 - moving ave loss 52.297374439412906\n",
            "step 257 - loss 47.58013153076172 - moving ave loss 51.82565014854779\n",
            "step 258 - loss 49.31218719482422 - moving ave loss 51.57430385317543\n",
            "step 259 - loss 48.02508544921875 - moving ave loss 51.21938201277977\n",
            "step 260 - loss 47.76776123046875 - moving ave loss 50.87421993454866\n",
            "step 261 - loss 48.487152099609375 - moving ave loss 50.63551315105473\n",
            "step 262 - loss 48.124549865722656 - moving ave loss 50.38441682252153\n",
            "step 263 - loss 47.04581069946289 - moving ave loss 50.05055621021567\n",
            "step 264 - loss 46.287845611572266 - moving ave loss 49.674285150351324\n",
            "step 265 - loss 47.716278076171875 - moving ave loss 49.47848444293338\n",
            "step 266 - loss 47.486351013183594 - moving ave loss 49.2792710999584\n",
            "step 267 - loss 45.928192138671875 - moving ave loss 48.944163203829746\n",
            "step 268 - loss 45.67371368408203 - moving ave loss 48.617118251854976\n",
            "step 269 - loss 44.75505065917969 - moving ave loss 48.23091149258745\n",
            "step 270 - loss 44.07508850097656 - moving ave loss 47.815329193426365\n",
            "step 271 - loss 44.31199645996094 - moving ave loss 47.46499592007982\n",
            "step 272 - loss 44.23926544189453 - moving ave loss 47.1424228722613\n",
            "step 273 - loss 45.5799560546875 - moving ave loss 46.98617619050392\n",
            "step 274 - loss 44.4122314453125 - moving ave loss 46.72878171598478\n",
            "step 275 - loss 44.440216064453125 - moving ave loss 46.499925150831615\n",
            "step 276 - loss 44.68639373779297 - moving ave loss 46.31857200952775\n",
            "step 277 - loss 44.126434326171875 - moving ave loss 46.099358241192164\n",
            "step 278 - loss 44.84014129638672 - moving ave loss 45.973436546711625\n",
            "step 279 - loss 42.80134963989258 - moving ave loss 45.656227856029716\n",
            "step 280 - loss 42.974456787109375 - moving ave loss 45.38805074913768\n",
            "step 281 - loss 50.11390686035156 - moving ave loss 45.86063636025907\n",
            "step 282 - loss 42.030189514160156 - moving ave loss 45.47759167564918\n",
            "step 283 - loss 42.97301483154297 - moving ave loss 45.22713399123856\n",
            "step 284 - loss 41.357139587402344 - moving ave loss 44.84013455085494\n",
            "step 285 - loss 40.1815185546875 - moving ave loss 44.3742729512382\n",
            "step 286 - loss 41.30059051513672 - moving ave loss 44.06690470762805\n",
            "step 287 - loss 41.85924530029297 - moving ave loss 43.84613876689454\n",
            "step 288 - loss 40.72102355957031 - moving ave loss 43.53362724616212\n",
            "step 289 - loss 41.728668212890625 - moving ave loss 43.35313134283497\n",
            "step 290 - loss 40.292510986328125 - moving ave loss 43.04706930718429\n",
            "step 291 - loss 41.8909912109375 - moving ave loss 42.93146149755961\n",
            "step 292 - loss 39.844268798828125 - moving ave loss 42.62274222768646\n",
            "step 293 - loss 38.975921630859375 - moving ave loss 42.25806016800375\n",
            "step 294 - loss 39.6922607421875 - moving ave loss 42.00148022542213\n"
          ],
          "name": "stdout"
        },
        {
          "output_type": "error",
          "ename": "KeyboardInterrupt",
          "evalue": "ignored",
          "traceback": [
            "\u001b[0;31m---------------------------------------------------------------------------\u001b[0m",
            "\u001b[0;31mKeyboardInterrupt\u001b[0m                         Traceback (most recent call last)",
            "\u001b[0;32m<ipython-input-13-4dfce9e736fe>\u001b[0m in \u001b[0;36m<module>\u001b[0;34m()\u001b[0m\n\u001b[1;32m     11\u001b[0m            \"dataset\": driveLink+\"LicensePlate/001plate\"}\n\u001b[1;32m     12\u001b[0m \u001b[0mtfnet\u001b[0m \u001b[0;34m=\u001b[0m \u001b[0mTFNet\u001b[0m\u001b[0;34m(\u001b[0m\u001b[0moptions\u001b[0m\u001b[0;34m)\u001b[0m\u001b[0;34m\u001b[0m\u001b[0;34m\u001b[0m\u001b[0m\n\u001b[0;32m---> 13\u001b[0;31m \u001b[0mtfnet\u001b[0m\u001b[0;34m.\u001b[0m\u001b[0mtrain\u001b[0m\u001b[0;34m(\u001b[0m\u001b[0;34m)\u001b[0m\u001b[0;34m\u001b[0m\u001b[0;34m\u001b[0m\u001b[0m\n\u001b[0m",
            "\u001b[0;32m/content/darkflow/darkflow/net/flow.py\u001b[0m in \u001b[0;36mtrain\u001b[0;34m(self)\u001b[0m\n\u001b[1;32m     37\u001b[0m     \u001b[0mloss_op\u001b[0m \u001b[0;34m=\u001b[0m \u001b[0mself\u001b[0m\u001b[0;34m.\u001b[0m\u001b[0mframework\u001b[0m\u001b[0;34m.\u001b[0m\u001b[0mloss\u001b[0m\u001b[0;34m\u001b[0m\u001b[0;34m\u001b[0m\u001b[0m\n\u001b[1;32m     38\u001b[0m \u001b[0;34m\u001b[0m\u001b[0m\n\u001b[0;32m---> 39\u001b[0;31m     \u001b[0;32mfor\u001b[0m \u001b[0mi\u001b[0m\u001b[0;34m,\u001b[0m \u001b[0;34m(\u001b[0m\u001b[0mx_batch\u001b[0m\u001b[0;34m,\u001b[0m \u001b[0mdatum\u001b[0m\u001b[0;34m)\u001b[0m \u001b[0;32min\u001b[0m \u001b[0menumerate\u001b[0m\u001b[0;34m(\u001b[0m\u001b[0mbatches\u001b[0m\u001b[0;34m)\u001b[0m\u001b[0;34m:\u001b[0m\u001b[0;34m\u001b[0m\u001b[0;34m\u001b[0m\u001b[0m\n\u001b[0m\u001b[1;32m     40\u001b[0m         if not i: self.say(train_stats.format(\n\u001b[1;32m     41\u001b[0m             \u001b[0mself\u001b[0m\u001b[0;34m.\u001b[0m\u001b[0mFLAGS\u001b[0m\u001b[0;34m.\u001b[0m\u001b[0mlr\u001b[0m\u001b[0;34m,\u001b[0m \u001b[0mself\u001b[0m\u001b[0;34m.\u001b[0m\u001b[0mFLAGS\u001b[0m\u001b[0;34m.\u001b[0m\u001b[0mbatch\u001b[0m\u001b[0;34m,\u001b[0m\u001b[0;34m\u001b[0m\u001b[0;34m\u001b[0m\u001b[0m\n",
            "\u001b[0;32m/content/darkflow/darkflow/net/yolo/data.py\u001b[0m in \u001b[0;36mshuffle\u001b[0;34m(self)\u001b[0m\n\u001b[1;32m    112\u001b[0m                 \u001b[0mtrain_instance\u001b[0m \u001b[0;34m=\u001b[0m \u001b[0mdata\u001b[0m\u001b[0;34m[\u001b[0m\u001b[0mshuffle_idx\u001b[0m\u001b[0;34m[\u001b[0m\u001b[0mj\u001b[0m\u001b[0;34m]\u001b[0m\u001b[0;34m]\u001b[0m\u001b[0;34m\u001b[0m\u001b[0;34m\u001b[0m\u001b[0m\n\u001b[1;32m    113\u001b[0m                 \u001b[0;32mtry\u001b[0m\u001b[0;34m:\u001b[0m\u001b[0;34m\u001b[0m\u001b[0;34m\u001b[0m\u001b[0m\n\u001b[0;32m--> 114\u001b[0;31m                     \u001b[0minp\u001b[0m\u001b[0;34m,\u001b[0m \u001b[0mnew_feed\u001b[0m \u001b[0;34m=\u001b[0m \u001b[0mself\u001b[0m\u001b[0;34m.\u001b[0m\u001b[0m_batch\u001b[0m\u001b[0;34m(\u001b[0m\u001b[0mtrain_instance\u001b[0m\u001b[0;34m)\u001b[0m\u001b[0;34m\u001b[0m\u001b[0;34m\u001b[0m\u001b[0m\n\u001b[0m\u001b[1;32m    115\u001b[0m                 \u001b[0;32mexcept\u001b[0m \u001b[0mZeroDivisionError\u001b[0m\u001b[0;34m:\u001b[0m\u001b[0;34m\u001b[0m\u001b[0;34m\u001b[0m\u001b[0m\n\u001b[1;32m    116\u001b[0m                     \u001b[0mprint\u001b[0m\u001b[0;34m(\u001b[0m\u001b[0;34m\"This image's width or height are zeros: \"\u001b[0m\u001b[0;34m,\u001b[0m \u001b[0mtrain_instance\u001b[0m\u001b[0;34m[\u001b[0m\u001b[0;36m0\u001b[0m\u001b[0;34m]\u001b[0m\u001b[0;34m)\u001b[0m\u001b[0;34m\u001b[0m\u001b[0;34m\u001b[0m\u001b[0m\n",
            "\u001b[0;32m/content/darkflow/darkflow/net/yolov2/data.py\u001b[0m in \u001b[0;36m_batch\u001b[0;34m(self, chunk)\u001b[0m\n\u001b[1;32m     25\u001b[0m     \u001b[0mallobj\u001b[0m \u001b[0;34m=\u001b[0m \u001b[0mdeepcopy\u001b[0m\u001b[0;34m(\u001b[0m\u001b[0mallobj_\u001b[0m\u001b[0;34m)\u001b[0m\u001b[0;34m\u001b[0m\u001b[0;34m\u001b[0m\u001b[0m\n\u001b[1;32m     26\u001b[0m     \u001b[0mpath\u001b[0m \u001b[0;34m=\u001b[0m \u001b[0mos\u001b[0m\u001b[0;34m.\u001b[0m\u001b[0mpath\u001b[0m\u001b[0;34m.\u001b[0m\u001b[0mjoin\u001b[0m\u001b[0;34m(\u001b[0m\u001b[0mself\u001b[0m\u001b[0;34m.\u001b[0m\u001b[0mFLAGS\u001b[0m\u001b[0;34m.\u001b[0m\u001b[0mdataset\u001b[0m\u001b[0;34m,\u001b[0m \u001b[0mjpg\u001b[0m\u001b[0;34m)\u001b[0m\u001b[0;34m\u001b[0m\u001b[0;34m\u001b[0m\u001b[0m\n\u001b[0;32m---> 27\u001b[0;31m     \u001b[0mimg\u001b[0m \u001b[0;34m=\u001b[0m \u001b[0mself\u001b[0m\u001b[0;34m.\u001b[0m\u001b[0mpreprocess\u001b[0m\u001b[0;34m(\u001b[0m\u001b[0mpath\u001b[0m\u001b[0;34m,\u001b[0m \u001b[0mallobj\u001b[0m\u001b[0;34m)\u001b[0m\u001b[0;34m\u001b[0m\u001b[0;34m\u001b[0m\u001b[0m\n\u001b[0m\u001b[1;32m     28\u001b[0m \u001b[0;34m\u001b[0m\u001b[0m\n\u001b[1;32m     29\u001b[0m     \u001b[0;31m# Calculate regression target\u001b[0m\u001b[0;34m\u001b[0m\u001b[0;34m\u001b[0m\u001b[0;34m\u001b[0m\u001b[0m\n",
            "\u001b[0;32m/content/darkflow/darkflow/net/yolo/predict.py\u001b[0m in \u001b[0;36mpreprocess\u001b[0;34m(self, im, allobj)\u001b[0m\n\u001b[1;32m     60\u001b[0m \u001b[0;34m\u001b[0m\u001b[0m\n\u001b[1;32m     61\u001b[0m         \u001b[0;32mif\u001b[0m \u001b[0mallobj\u001b[0m \u001b[0;32mis\u001b[0m \u001b[0;32mnot\u001b[0m \u001b[0;32mNone\u001b[0m\u001b[0;34m:\u001b[0m \u001b[0;31m# in training mode\u001b[0m\u001b[0;34m\u001b[0m\u001b[0;34m\u001b[0m\u001b[0m\n\u001b[0;32m---> 62\u001b[0;31m                 \u001b[0mresult\u001b[0m \u001b[0;34m=\u001b[0m \u001b[0mimcv2_affine_trans\u001b[0m\u001b[0;34m(\u001b[0m\u001b[0mim\u001b[0m\u001b[0;34m)\u001b[0m\u001b[0;34m\u001b[0m\u001b[0;34m\u001b[0m\u001b[0m\n\u001b[0m\u001b[1;32m     63\u001b[0m                 \u001b[0mim\u001b[0m\u001b[0;34m,\u001b[0m \u001b[0mdims\u001b[0m\u001b[0;34m,\u001b[0m \u001b[0mtrans_param\u001b[0m \u001b[0;34m=\u001b[0m \u001b[0mresult\u001b[0m\u001b[0;34m\u001b[0m\u001b[0;34m\u001b[0m\u001b[0m\n\u001b[1;32m     64\u001b[0m                 \u001b[0mscale\u001b[0m\u001b[0;34m,\u001b[0m \u001b[0moffs\u001b[0m\u001b[0;34m,\u001b[0m \u001b[0mflip\u001b[0m \u001b[0;34m=\u001b[0m \u001b[0mtrans_param\u001b[0m\u001b[0;34m\u001b[0m\u001b[0;34m\u001b[0m\u001b[0m\n",
            "\u001b[0;32m/content/darkflow/darkflow/utils/im_transform.py\u001b[0m in \u001b[0;36mimcv2_affine_trans\u001b[0;34m(im)\u001b[0m\n\u001b[1;32m     28\u001b[0m         \u001b[0mim\u001b[0m \u001b[0;34m=\u001b[0m \u001b[0mim\u001b[0m\u001b[0;34m[\u001b[0m\u001b[0moffy\u001b[0m \u001b[0;34m:\u001b[0m \u001b[0;34m(\u001b[0m\u001b[0moffy\u001b[0m \u001b[0;34m+\u001b[0m \u001b[0mh\u001b[0m\u001b[0;34m)\u001b[0m\u001b[0;34m,\u001b[0m \u001b[0moffx\u001b[0m \u001b[0;34m:\u001b[0m \u001b[0;34m(\u001b[0m\u001b[0moffx\u001b[0m \u001b[0;34m+\u001b[0m \u001b[0mw\u001b[0m\u001b[0;34m)\u001b[0m\u001b[0;34m]\u001b[0m\u001b[0;34m\u001b[0m\u001b[0;34m\u001b[0m\u001b[0m\n\u001b[1;32m     29\u001b[0m         \u001b[0mflip\u001b[0m \u001b[0;34m=\u001b[0m \u001b[0mnp\u001b[0m\u001b[0;34m.\u001b[0m\u001b[0mrandom\u001b[0m\u001b[0;34m.\u001b[0m\u001b[0mbinomial\u001b[0m\u001b[0;34m(\u001b[0m\u001b[0;36m1\u001b[0m\u001b[0;34m,\u001b[0m \u001b[0;36m.5\u001b[0m\u001b[0;34m)\u001b[0m\u001b[0;34m\u001b[0m\u001b[0;34m\u001b[0m\u001b[0m\n\u001b[0;32m---> 30\u001b[0;31m         \u001b[0;32mif\u001b[0m \u001b[0mflip\u001b[0m\u001b[0;34m:\u001b[0m \u001b[0mim\u001b[0m \u001b[0;34m=\u001b[0m \u001b[0mcv2\u001b[0m\u001b[0;34m.\u001b[0m\u001b[0mflip\u001b[0m\u001b[0;34m(\u001b[0m\u001b[0mim\u001b[0m\u001b[0;34m,\u001b[0m \u001b[0;36m1\u001b[0m\u001b[0;34m)\u001b[0m\u001b[0;34m\u001b[0m\u001b[0;34m\u001b[0m\u001b[0m\n\u001b[0m\u001b[1;32m     31\u001b[0m         \u001b[0;32mreturn\u001b[0m \u001b[0mim\u001b[0m\u001b[0;34m,\u001b[0m \u001b[0;34m[\u001b[0m\u001b[0mw\u001b[0m\u001b[0;34m,\u001b[0m \u001b[0mh\u001b[0m\u001b[0;34m,\u001b[0m \u001b[0mc\u001b[0m\u001b[0;34m]\u001b[0m\u001b[0;34m,\u001b[0m \u001b[0;34m[\u001b[0m\u001b[0mscale\u001b[0m\u001b[0;34m,\u001b[0m \u001b[0;34m[\u001b[0m\u001b[0moffx\u001b[0m\u001b[0;34m,\u001b[0m \u001b[0moffy\u001b[0m\u001b[0;34m]\u001b[0m\u001b[0;34m,\u001b[0m \u001b[0mflip\u001b[0m\u001b[0;34m]\u001b[0m\u001b[0;34m\u001b[0m\u001b[0;34m\u001b[0m\u001b[0m\n",
            "\u001b[0;31mKeyboardInterrupt\u001b[0m: "
          ]
        }
      ]
    },
    {
      "cell_type": "code",
      "metadata": {
        "id": "xib4qNAHSlKh",
        "colab_type": "code",
        "outputId": "c9312bec-cd1b-45da-c5ff-b5101ceda526",
        "colab": {
          "base_uri": "https://localhost:8080/",
          "height": 34
        }
      },
      "source": [
        "tfnet.load_from_ckpt()"
      ],
      "execution_count": 23,
      "outputs": [
        {
          "output_type": "stream",
          "text": [
            "INFO:tensorflow:Restoring parameters from ./ckpt/yolo-1c-0\n"
          ],
          "name": "stdout"
        }
      ]
    },
    {
      "cell_type": "code",
      "metadata": {
        "id": "XpR_PZLjAMg7",
        "colab_type": "code",
        "outputId": "dde0be2b-2725-4b7c-96b2-ba657b735e49",
        "colab": {
          "base_uri": "https://localhost:8080/",
          "height": 314
        }
      },
      "source": [
        "tfnet.train()\n"
      ],
      "execution_count": 24,
      "outputs": [
        {
          "output_type": "error",
          "ename": "NameError",
          "evalue": "ignored",
          "traceback": [
            "\u001b[0;31m---------------------------------------------------------------------------\u001b[0m",
            "\u001b[0;31mNameError\u001b[0m                                 Traceback (most recent call last)",
            "\u001b[0;32m<ipython-input-24-b9fb94a28d0a>\u001b[0m in \u001b[0;36m<module>\u001b[0;34m()\u001b[0m\n\u001b[0;32m----> 1\u001b[0;31m \u001b[0mtfnet\u001b[0m\u001b[0;34m.\u001b[0m\u001b[0mtrain\u001b[0m\u001b[0;34m(\u001b[0m\u001b[0;34m)\u001b[0m\u001b[0;34m\u001b[0m\u001b[0;34m\u001b[0m\u001b[0m\n\u001b[0m",
            "\u001b[0;32m/content/darkflow/darkflow/net/flow.py\u001b[0m in \u001b[0;36mtrain\u001b[0;34m(self)\u001b[0m\n\u001b[1;32m     37\u001b[0m     \u001b[0mloss_op\u001b[0m \u001b[0;34m=\u001b[0m \u001b[0mself\u001b[0m\u001b[0;34m.\u001b[0m\u001b[0mframework\u001b[0m\u001b[0;34m.\u001b[0m\u001b[0mloss\u001b[0m\u001b[0;34m\u001b[0m\u001b[0;34m\u001b[0m\u001b[0m\n\u001b[1;32m     38\u001b[0m \u001b[0;34m\u001b[0m\u001b[0m\n\u001b[0;32m---> 39\u001b[0;31m     \u001b[0;32mfor\u001b[0m \u001b[0mi\u001b[0m\u001b[0;34m,\u001b[0m \u001b[0;34m(\u001b[0m\u001b[0mx_batch\u001b[0m\u001b[0;34m,\u001b[0m \u001b[0mdatum\u001b[0m\u001b[0;34m)\u001b[0m \u001b[0;32min\u001b[0m \u001b[0menumerate\u001b[0m\u001b[0;34m(\u001b[0m\u001b[0mbatches\u001b[0m\u001b[0;34m)\u001b[0m\u001b[0;34m:\u001b[0m\u001b[0;34m\u001b[0m\u001b[0;34m\u001b[0m\u001b[0m\n\u001b[0m\u001b[1;32m     40\u001b[0m         if not i: self.say(train_stats.format(\n\u001b[1;32m     41\u001b[0m             \u001b[0mself\u001b[0m\u001b[0;34m.\u001b[0m\u001b[0mFLAGS\u001b[0m\u001b[0;34m.\u001b[0m\u001b[0mlr\u001b[0m\u001b[0;34m,\u001b[0m \u001b[0mself\u001b[0m\u001b[0;34m.\u001b[0m\u001b[0mFLAGS\u001b[0m\u001b[0;34m.\u001b[0m\u001b[0mbatch\u001b[0m\u001b[0;34m,\u001b[0m\u001b[0;34m\u001b[0m\u001b[0;34m\u001b[0m\u001b[0m\n",
            "\u001b[0;32m/content/darkflow/darkflow/net/yolo/data.py\u001b[0m in \u001b[0;36mshuffle\u001b[0;34m(self)\u001b[0m\n\u001b[1;32m     95\u001b[0m \u001b[0;32mdef\u001b[0m \u001b[0mshuffle\u001b[0m\u001b[0;34m(\u001b[0m\u001b[0mself\u001b[0m\u001b[0;34m)\u001b[0m\u001b[0;34m:\u001b[0m\u001b[0;34m\u001b[0m\u001b[0;34m\u001b[0m\u001b[0m\n\u001b[1;32m     96\u001b[0m     \u001b[0mbatch\u001b[0m \u001b[0;34m=\u001b[0m \u001b[0mself\u001b[0m\u001b[0;34m.\u001b[0m\u001b[0mFLAGS\u001b[0m\u001b[0;34m.\u001b[0m\u001b[0mbatch\u001b[0m\u001b[0;34m\u001b[0m\u001b[0;34m\u001b[0m\u001b[0m\n\u001b[0;32m---> 97\u001b[0;31m     \u001b[0mdata\u001b[0m \u001b[0;34m=\u001b[0m \u001b[0mself\u001b[0m\u001b[0;34m.\u001b[0m\u001b[0mparse\u001b[0m\u001b[0;34m(\u001b[0m\u001b[0;34m)\u001b[0m\u001b[0;34m\u001b[0m\u001b[0;34m\u001b[0m\u001b[0m\n\u001b[0m\u001b[1;32m     98\u001b[0m     \u001b[0msize\u001b[0m \u001b[0;34m=\u001b[0m \u001b[0mlen\u001b[0m\u001b[0;34m(\u001b[0m\u001b[0mdata\u001b[0m\u001b[0;34m)\u001b[0m\u001b[0;34m\u001b[0m\u001b[0;34m\u001b[0m\u001b[0m\n\u001b[1;32m     99\u001b[0m \u001b[0;34m\u001b[0m\u001b[0m\n",
            "\u001b[0;32m/content/darkflow/darkflow/net/yolo/data.py\u001b[0m in \u001b[0;36mparse\u001b[0;34m(self, exclusive)\u001b[0m\n\u001b[1;32m     14\u001b[0m     \u001b[0;32mif\u001b[0m \u001b[0;32mnot\u001b[0m \u001b[0mos\u001b[0m\u001b[0;34m.\u001b[0m\u001b[0mpath\u001b[0m\u001b[0;34m.\u001b[0m\u001b[0misdir\u001b[0m\u001b[0;34m(\u001b[0m\u001b[0mann\u001b[0m\u001b[0;34m)\u001b[0m\u001b[0;34m:\u001b[0m\u001b[0;34m\u001b[0m\u001b[0;34m\u001b[0m\u001b[0m\n\u001b[1;32m     15\u001b[0m         \u001b[0mmsg\u001b[0m \u001b[0;34m=\u001b[0m \u001b[0;34m'Annotation directory not found {} .'\u001b[0m\u001b[0;34m\u001b[0m\u001b[0;34m\u001b[0m\u001b[0m\n\u001b[0;32m---> 16\u001b[0;31m         \u001b[0mexit\u001b[0m\u001b[0;34m(\u001b[0m\u001b[0;34m'Error: {}'\u001b[0m\u001b[0;34m.\u001b[0m\u001b[0mformat\u001b[0m\u001b[0;34m(\u001b[0m\u001b[0mmsg\u001b[0m\u001b[0;34m.\u001b[0m\u001b[0mformat\u001b[0m\u001b[0;34m(\u001b[0m\u001b[0mann\u001b[0m\u001b[0;34m)\u001b[0m\u001b[0;34m)\u001b[0m\u001b[0;34m)\u001b[0m\u001b[0;34m\u001b[0m\u001b[0;34m\u001b[0m\u001b[0m\n\u001b[0m\u001b[1;32m     17\u001b[0m     \u001b[0mprint\u001b[0m\u001b[0;34m(\u001b[0m\u001b[0;34m'\\n{} parsing {}'\u001b[0m\u001b[0;34m.\u001b[0m\u001b[0mformat\u001b[0m\u001b[0;34m(\u001b[0m\u001b[0mmeta\u001b[0m\u001b[0;34m[\u001b[0m\u001b[0;34m'model'\u001b[0m\u001b[0;34m]\u001b[0m\u001b[0;34m,\u001b[0m \u001b[0mann\u001b[0m\u001b[0;34m)\u001b[0m\u001b[0;34m)\u001b[0m\u001b[0;34m\u001b[0m\u001b[0;34m\u001b[0m\u001b[0m\n\u001b[1;32m     18\u001b[0m     \u001b[0mdumps\u001b[0m \u001b[0;34m=\u001b[0m \u001b[0mpascal_voc_clean_xml\u001b[0m\u001b[0;34m(\u001b[0m\u001b[0mann\u001b[0m\u001b[0;34m,\u001b[0m \u001b[0mmeta\u001b[0m\u001b[0;34m[\u001b[0m\u001b[0;34m'labels'\u001b[0m\u001b[0;34m]\u001b[0m\u001b[0;34m,\u001b[0m \u001b[0mexclusive\u001b[0m\u001b[0;34m)\u001b[0m\u001b[0;34m\u001b[0m\u001b[0;34m\u001b[0m\u001b[0m\n",
            "\u001b[0;31mNameError\u001b[0m: name 'exit' is not defined"
          ]
        }
      ]
    },
    {
      "cell_type": "code",
      "metadata": {
        "id": "W-slkXOSQyS7",
        "colab_type": "code",
        "colab": {}
      },
      "source": [
        "tfnet.savepb()"
      ],
      "execution_count": 0,
      "outputs": []
    }
  ]
}