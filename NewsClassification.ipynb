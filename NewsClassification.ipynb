{
 "cells": [
  {
   "cell_type": "markdown",
   "metadata": {},
   "source": [
    "# NEWS CLASSIFICATION"
   ]
  },
  {
   "cell_type": "code",
   "execution_count": 1,
   "metadata": {},
   "outputs": [],
   "source": [
    "import pandas as pd\n",
    "import seaborn as sns\n",
    "from sklearn.model_selection import train_test_split\n",
    "import numpy as np\n",
    "from sklearn.feature_extraction.text import TfidfVectorizer\n",
    "from sklearn import svm\n",
    "from sklearn.feature_extraction.text import TfidfTransformer\n",
    "from sklearn.pipeline import Pipeline\n"
   ]
  },
  {
   "cell_type": "markdown",
   "metadata": {},
   "source": [
    "### The Dataset : NewsDataset.json news=2,00,853"
   ]
  },
  {
   "cell_type": "code",
   "execution_count": 2,
   "metadata": {},
   "outputs": [],
   "source": [
    "allNews = pd.read_json('NewsDataset.json',lines=True)"
   ]
  },
  {
   "cell_type": "code",
   "execution_count": 3,
   "metadata": {},
   "outputs": [
    {
     "name": "stdout",
     "output_type": "stream",
     "text": [
      "<class 'pandas.core.frame.DataFrame'>\n",
      "RangeIndex: 200853 entries, 0 to 200852\n",
      "Data columns (total 6 columns):\n",
      "authors              200853 non-null object\n",
      "category             200853 non-null object\n",
      "date                 200853 non-null datetime64[ns]\n",
      "headline             200853 non-null object\n",
      "link                 200853 non-null object\n",
      "short_description    200853 non-null object\n",
      "dtypes: datetime64[ns](1), object(5)\n",
      "memory usage: 9.2+ MB\n"
     ]
    }
   ],
   "source": [
    "allNews.info()"
   ]
  },
  {
   "cell_type": "code",
   "execution_count": 4,
   "metadata": {},
   "outputs": [
    {
     "data": {
      "text/html": [
       "<div>\n",
       "<style scoped>\n",
       "    .dataframe tbody tr th:only-of-type {\n",
       "        vertical-align: middle;\n",
       "    }\n",
       "\n",
       "    .dataframe tbody tr th {\n",
       "        vertical-align: top;\n",
       "    }\n",
       "\n",
       "    .dataframe thead th {\n",
       "        text-align: right;\n",
       "    }\n",
       "</style>\n",
       "<table border=\"1\" class=\"dataframe\">\n",
       "  <thead>\n",
       "    <tr style=\"text-align: right;\">\n",
       "      <th></th>\n",
       "      <th>authors</th>\n",
       "      <th>category</th>\n",
       "      <th>date</th>\n",
       "      <th>headline</th>\n",
       "      <th>link</th>\n",
       "      <th>short_description</th>\n",
       "    </tr>\n",
       "  </thead>\n",
       "  <tbody>\n",
       "    <tr>\n",
       "      <th>0</th>\n",
       "      <td>Melissa Jeltsen</td>\n",
       "      <td>CRIME</td>\n",
       "      <td>2018-05-26</td>\n",
       "      <td>There Were 2 Mass Shootings In Texas Last Week...</td>\n",
       "      <td>https://www.huffingtonpost.com/entry/texas-ama...</td>\n",
       "      <td>She left her husband. He killed their children...</td>\n",
       "    </tr>\n",
       "    <tr>\n",
       "      <th>1</th>\n",
       "      <td>Andy McDonald</td>\n",
       "      <td>ENTERTAINMENT</td>\n",
       "      <td>2018-05-26</td>\n",
       "      <td>Will Smith Joins Diplo And Nicky Jam For The 2...</td>\n",
       "      <td>https://www.huffingtonpost.com/entry/will-smit...</td>\n",
       "      <td>Of course it has a song.</td>\n",
       "    </tr>\n",
       "    <tr>\n",
       "      <th>2</th>\n",
       "      <td>Ron Dicker</td>\n",
       "      <td>ENTERTAINMENT</td>\n",
       "      <td>2018-05-26</td>\n",
       "      <td>Hugh Grant Marries For The First Time At Age 57</td>\n",
       "      <td>https://www.huffingtonpost.com/entry/hugh-gran...</td>\n",
       "      <td>The actor and his longtime girlfriend Anna Ebe...</td>\n",
       "    </tr>\n",
       "    <tr>\n",
       "      <th>3</th>\n",
       "      <td>Ron Dicker</td>\n",
       "      <td>ENTERTAINMENT</td>\n",
       "      <td>2018-05-26</td>\n",
       "      <td>Jim Carrey Blasts 'Castrato' Adam Schiff And D...</td>\n",
       "      <td>https://www.huffingtonpost.com/entry/jim-carre...</td>\n",
       "      <td>The actor gives Dems an ass-kicking for not fi...</td>\n",
       "    </tr>\n",
       "    <tr>\n",
       "      <th>4</th>\n",
       "      <td>Ron Dicker</td>\n",
       "      <td>ENTERTAINMENT</td>\n",
       "      <td>2018-05-26</td>\n",
       "      <td>Julianna Margulies Uses Donald Trump Poop Bags...</td>\n",
       "      <td>https://www.huffingtonpost.com/entry/julianna-...</td>\n",
       "      <td>The \"Dietland\" actress said using the bags is ...</td>\n",
       "    </tr>\n",
       "  </tbody>\n",
       "</table>\n",
       "</div>"
      ],
      "text/plain": [
       "           authors       category       date  \\\n",
       "0  Melissa Jeltsen          CRIME 2018-05-26   \n",
       "1    Andy McDonald  ENTERTAINMENT 2018-05-26   \n",
       "2       Ron Dicker  ENTERTAINMENT 2018-05-26   \n",
       "3       Ron Dicker  ENTERTAINMENT 2018-05-26   \n",
       "4       Ron Dicker  ENTERTAINMENT 2018-05-26   \n",
       "\n",
       "                                            headline  \\\n",
       "0  There Were 2 Mass Shootings In Texas Last Week...   \n",
       "1  Will Smith Joins Diplo And Nicky Jam For The 2...   \n",
       "2    Hugh Grant Marries For The First Time At Age 57   \n",
       "3  Jim Carrey Blasts 'Castrato' Adam Schiff And D...   \n",
       "4  Julianna Margulies Uses Donald Trump Poop Bags...   \n",
       "\n",
       "                                                link  \\\n",
       "0  https://www.huffingtonpost.com/entry/texas-ama...   \n",
       "1  https://www.huffingtonpost.com/entry/will-smit...   \n",
       "2  https://www.huffingtonpost.com/entry/hugh-gran...   \n",
       "3  https://www.huffingtonpost.com/entry/jim-carre...   \n",
       "4  https://www.huffingtonpost.com/entry/julianna-...   \n",
       "\n",
       "                                   short_description  \n",
       "0  She left her husband. He killed their children...  \n",
       "1                           Of course it has a song.  \n",
       "2  The actor and his longtime girlfriend Anna Ebe...  \n",
       "3  The actor gives Dems an ass-kicking for not fi...  \n",
       "4  The \"Dietland\" actress said using the bags is ...  "
      ]
     },
     "execution_count": 4,
     "metadata": {},
     "output_type": "execute_result"
    }
   ],
   "source": [
    "allNews.head()"
   ]
  },
  {
   "cell_type": "code",
   "execution_count": 5,
   "metadata": {},
   "outputs": [
    {
     "data": {
      "text/html": [
       "<div>\n",
       "<style scoped>\n",
       "    .dataframe tbody tr th:only-of-type {\n",
       "        vertical-align: middle;\n",
       "    }\n",
       "\n",
       "    .dataframe tbody tr th {\n",
       "        vertical-align: top;\n",
       "    }\n",
       "\n",
       "    .dataframe thead th {\n",
       "        text-align: right;\n",
       "    }\n",
       "</style>\n",
       "<table border=\"1\" class=\"dataframe\">\n",
       "  <thead>\n",
       "    <tr style=\"text-align: right;\">\n",
       "      <th></th>\n",
       "      <th>authors</th>\n",
       "      <th>category</th>\n",
       "      <th>date</th>\n",
       "      <th>headline</th>\n",
       "      <th>link</th>\n",
       "      <th>short_description</th>\n",
       "    </tr>\n",
       "  </thead>\n",
       "  <tbody>\n",
       "    <tr>\n",
       "      <th>count</th>\n",
       "      <td>200853</td>\n",
       "      <td>200853</td>\n",
       "      <td>200853</td>\n",
       "      <td>200853</td>\n",
       "      <td>200853</td>\n",
       "      <td>200853</td>\n",
       "    </tr>\n",
       "    <tr>\n",
       "      <th>unique</th>\n",
       "      <td>27993</td>\n",
       "      <td>41</td>\n",
       "      <td>2309</td>\n",
       "      <td>199344</td>\n",
       "      <td>200812</td>\n",
       "      <td>178353</td>\n",
       "    </tr>\n",
       "    <tr>\n",
       "      <th>top</th>\n",
       "      <td></td>\n",
       "      <td>POLITICS</td>\n",
       "      <td>2013-01-17 00:00:00</td>\n",
       "      <td>Sunday Roundup</td>\n",
       "      <td>https://www.huffingtonpost.comhttp://highline....</td>\n",
       "      <td></td>\n",
       "    </tr>\n",
       "    <tr>\n",
       "      <th>freq</th>\n",
       "      <td>36620</td>\n",
       "      <td>32739</td>\n",
       "      <td>100</td>\n",
       "      <td>90</td>\n",
       "      <td>2</td>\n",
       "      <td>19712</td>\n",
       "    </tr>\n",
       "    <tr>\n",
       "      <th>first</th>\n",
       "      <td>NaN</td>\n",
       "      <td>NaN</td>\n",
       "      <td>2012-01-28 00:00:00</td>\n",
       "      <td>NaN</td>\n",
       "      <td>NaN</td>\n",
       "      <td>NaN</td>\n",
       "    </tr>\n",
       "    <tr>\n",
       "      <th>last</th>\n",
       "      <td>NaN</td>\n",
       "      <td>NaN</td>\n",
       "      <td>2018-05-26 00:00:00</td>\n",
       "      <td>NaN</td>\n",
       "      <td>NaN</td>\n",
       "      <td>NaN</td>\n",
       "    </tr>\n",
       "  </tbody>\n",
       "</table>\n",
       "</div>"
      ],
      "text/plain": [
       "       authors  category                 date        headline  \\\n",
       "count   200853    200853               200853          200853   \n",
       "unique   27993        41                 2309          199344   \n",
       "top             POLITICS  2013-01-17 00:00:00  Sunday Roundup   \n",
       "freq     36620     32739                  100              90   \n",
       "first      NaN       NaN  2012-01-28 00:00:00             NaN   \n",
       "last       NaN       NaN  2018-05-26 00:00:00             NaN   \n",
       "\n",
       "                                                     link short_description  \n",
       "count                                              200853            200853  \n",
       "unique                                             200812            178353  \n",
       "top     https://www.huffingtonpost.comhttp://highline....                    \n",
       "freq                                                    2             19712  \n",
       "first                                                 NaN               NaN  \n",
       "last                                                  NaN               NaN  "
      ]
     },
     "execution_count": 5,
     "metadata": {},
     "output_type": "execute_result"
    }
   ],
   "source": [
    "allNews.describe()"
   ]
  },
  {
   "cell_type": "markdown",
   "metadata": {},
   "source": [
    "#### Dropping The Unwanted Features from the dataset"
   ]
  },
  {
   "cell_type": "code",
   "execution_count": 6,
   "metadata": {},
   "outputs": [],
   "source": [
    "droplist=['authors','date','link']\n",
    "for todrop in droplist:\n",
    "    allNews = allNews.drop(todrop,1)"
   ]
  },
  {
   "cell_type": "code",
   "execution_count": 7,
   "metadata": {},
   "outputs": [
    {
     "name": "stdout",
     "output_type": "stream",
     "text": [
      "<class 'pandas.core.frame.DataFrame'>\n",
      "RangeIndex: 200853 entries, 0 to 200852\n",
      "Data columns (total 3 columns):\n",
      "category             200853 non-null object\n",
      "headline             200853 non-null object\n",
      "short_description    200853 non-null object\n",
      "dtypes: object(3)\n",
      "memory usage: 4.6+ MB\n"
     ]
    }
   ],
   "source": [
    "allNews.info()"
   ]
  },
  {
   "cell_type": "code",
   "execution_count": 8,
   "metadata": {},
   "outputs": [
    {
     "data": {
      "text/html": [
       "<div>\n",
       "<style scoped>\n",
       "    .dataframe tbody tr th:only-of-type {\n",
       "        vertical-align: middle;\n",
       "    }\n",
       "\n",
       "    .dataframe tbody tr th {\n",
       "        vertical-align: top;\n",
       "    }\n",
       "\n",
       "    .dataframe thead th {\n",
       "        text-align: right;\n",
       "    }\n",
       "</style>\n",
       "<table border=\"1\" class=\"dataframe\">\n",
       "  <thead>\n",
       "    <tr style=\"text-align: right;\">\n",
       "      <th></th>\n",
       "      <th>category</th>\n",
       "      <th>headline</th>\n",
       "      <th>short_description</th>\n",
       "    </tr>\n",
       "  </thead>\n",
       "  <tbody>\n",
       "    <tr>\n",
       "      <th>0</th>\n",
       "      <td>CRIME</td>\n",
       "      <td>There Were 2 Mass Shootings In Texas Last Week...</td>\n",
       "      <td>She left her husband. He killed their children...</td>\n",
       "    </tr>\n",
       "    <tr>\n",
       "      <th>1</th>\n",
       "      <td>ENTERTAINMENT</td>\n",
       "      <td>Will Smith Joins Diplo And Nicky Jam For The 2...</td>\n",
       "      <td>Of course it has a song.</td>\n",
       "    </tr>\n",
       "    <tr>\n",
       "      <th>2</th>\n",
       "      <td>ENTERTAINMENT</td>\n",
       "      <td>Hugh Grant Marries For The First Time At Age 57</td>\n",
       "      <td>The actor and his longtime girlfriend Anna Ebe...</td>\n",
       "    </tr>\n",
       "    <tr>\n",
       "      <th>3</th>\n",
       "      <td>ENTERTAINMENT</td>\n",
       "      <td>Jim Carrey Blasts 'Castrato' Adam Schiff And D...</td>\n",
       "      <td>The actor gives Dems an ass-kicking for not fi...</td>\n",
       "    </tr>\n",
       "    <tr>\n",
       "      <th>4</th>\n",
       "      <td>ENTERTAINMENT</td>\n",
       "      <td>Julianna Margulies Uses Donald Trump Poop Bags...</td>\n",
       "      <td>The \"Dietland\" actress said using the bags is ...</td>\n",
       "    </tr>\n",
       "  </tbody>\n",
       "</table>\n",
       "</div>"
      ],
      "text/plain": [
       "        category                                           headline  \\\n",
       "0          CRIME  There Were 2 Mass Shootings In Texas Last Week...   \n",
       "1  ENTERTAINMENT  Will Smith Joins Diplo And Nicky Jam For The 2...   \n",
       "2  ENTERTAINMENT    Hugh Grant Marries For The First Time At Age 57   \n",
       "3  ENTERTAINMENT  Jim Carrey Blasts 'Castrato' Adam Schiff And D...   \n",
       "4  ENTERTAINMENT  Julianna Margulies Uses Donald Trump Poop Bags...   \n",
       "\n",
       "                                   short_description  \n",
       "0  She left her husband. He killed their children...  \n",
       "1                           Of course it has a song.  \n",
       "2  The actor and his longtime girlfriend Anna Ebe...  \n",
       "3  The actor gives Dems an ass-kicking for not fi...  \n",
       "4  The \"Dietland\" actress said using the bags is ...  "
      ]
     },
     "execution_count": 8,
     "metadata": {},
     "output_type": "execute_result"
    }
   ],
   "source": [
    "allNews.head()"
   ]
  },
  {
   "cell_type": "code",
   "execution_count": 9,
   "metadata": {},
   "outputs": [
    {
     "data": {
      "text/plain": [
       "Index(['category', 'headline', 'short_description'], dtype='object')"
      ]
     },
     "execution_count": 9,
     "metadata": {},
     "output_type": "execute_result"
    }
   ],
   "source": [
    "allNews.columns"
   ]
  },
  {
   "cell_type": "code",
   "execution_count": 10,
   "metadata": {},
   "outputs": [],
   "source": [
    "allNews.columns=['CATEGORY','TITLE','DESC']"
   ]
  },
  {
   "cell_type": "code",
   "execution_count": 11,
   "metadata": {},
   "outputs": [
    {
     "data": {
      "text/html": [
       "<div>\n",
       "<style scoped>\n",
       "    .dataframe tbody tr th:only-of-type {\n",
       "        vertical-align: middle;\n",
       "    }\n",
       "\n",
       "    .dataframe tbody tr th {\n",
       "        vertical-align: top;\n",
       "    }\n",
       "\n",
       "    .dataframe thead th {\n",
       "        text-align: right;\n",
       "    }\n",
       "</style>\n",
       "<table border=\"1\" class=\"dataframe\">\n",
       "  <thead>\n",
       "    <tr style=\"text-align: right;\">\n",
       "      <th></th>\n",
       "      <th>CATEGORY</th>\n",
       "      <th>TITLE</th>\n",
       "      <th>DESC</th>\n",
       "    </tr>\n",
       "  </thead>\n",
       "  <tbody>\n",
       "    <tr>\n",
       "      <th>0</th>\n",
       "      <td>CRIME</td>\n",
       "      <td>There Were 2 Mass Shootings In Texas Last Week...</td>\n",
       "      <td>She left her husband. He killed their children...</td>\n",
       "    </tr>\n",
       "    <tr>\n",
       "      <th>1</th>\n",
       "      <td>ENTERTAINMENT</td>\n",
       "      <td>Will Smith Joins Diplo And Nicky Jam For The 2...</td>\n",
       "      <td>Of course it has a song.</td>\n",
       "    </tr>\n",
       "    <tr>\n",
       "      <th>2</th>\n",
       "      <td>ENTERTAINMENT</td>\n",
       "      <td>Hugh Grant Marries For The First Time At Age 57</td>\n",
       "      <td>The actor and his longtime girlfriend Anna Ebe...</td>\n",
       "    </tr>\n",
       "    <tr>\n",
       "      <th>3</th>\n",
       "      <td>ENTERTAINMENT</td>\n",
       "      <td>Jim Carrey Blasts 'Castrato' Adam Schiff And D...</td>\n",
       "      <td>The actor gives Dems an ass-kicking for not fi...</td>\n",
       "    </tr>\n",
       "    <tr>\n",
       "      <th>4</th>\n",
       "      <td>ENTERTAINMENT</td>\n",
       "      <td>Julianna Margulies Uses Donald Trump Poop Bags...</td>\n",
       "      <td>The \"Dietland\" actress said using the bags is ...</td>\n",
       "    </tr>\n",
       "  </tbody>\n",
       "</table>\n",
       "</div>"
      ],
      "text/plain": [
       "        CATEGORY                                              TITLE  \\\n",
       "0          CRIME  There Were 2 Mass Shootings In Texas Last Week...   \n",
       "1  ENTERTAINMENT  Will Smith Joins Diplo And Nicky Jam For The 2...   \n",
       "2  ENTERTAINMENT    Hugh Grant Marries For The First Time At Age 57   \n",
       "3  ENTERTAINMENT  Jim Carrey Blasts 'Castrato' Adam Schiff And D...   \n",
       "4  ENTERTAINMENT  Julianna Margulies Uses Donald Trump Poop Bags...   \n",
       "\n",
       "                                                DESC  \n",
       "0  She left her husband. He killed their children...  \n",
       "1                           Of course it has a song.  \n",
       "2  The actor and his longtime girlfriend Anna Ebe...  \n",
       "3  The actor gives Dems an ass-kicking for not fi...  \n",
       "4  The \"Dietland\" actress said using the bags is ...  "
      ]
     },
     "execution_count": 11,
     "metadata": {},
     "output_type": "execute_result"
    }
   ],
   "source": [
    "allNews.head()"
   ]
  },
  {
   "cell_type": "code",
   "execution_count": 12,
   "metadata": {},
   "outputs": [
    {
     "name": "stdout",
     "output_type": "stream",
     "text": [
      "<class 'pandas.core.frame.DataFrame'>\n",
      "RangeIndex: 200853 entries, 0 to 200852\n",
      "Data columns (total 3 columns):\n",
      "CATEGORY    200853 non-null object\n",
      "TITLE       200853 non-null object\n",
      "DESC        200853 non-null object\n",
      "dtypes: object(3)\n",
      "memory usage: 4.6+ MB\n"
     ]
    }
   ],
   "source": [
    "allNews.info()"
   ]
  },
  {
   "cell_type": "code",
   "execution_count": 13,
   "metadata": {},
   "outputs": [],
   "source": [
    "labels_of_news=[]\n",
    "x = allNews['CATEGORY'].value_counts()\n",
    "for i in x.index:\n",
    "    labels_of_news.append(i)"
   ]
  },
  {
   "cell_type": "code",
   "execution_count": 14,
   "metadata": {},
   "outputs": [
    {
     "data": {
      "text/plain": [
       "POLITICS          32739\n",
       "WELLNESS          17827\n",
       "ENTERTAINMENT     16058\n",
       "TRAVEL             9887\n",
       "STYLE & BEAUTY     9649\n",
       "PARENTING          8677\n",
       "HEALTHY LIVING     6694\n",
       "QUEER VOICES       6314\n",
       "FOOD & DRINK       6226\n",
       "BUSINESS           5937\n",
       "COMEDY             5175\n",
       "SPORTS             4884\n",
       "BLACK VOICES       4528\n",
       "HOME & LIVING      4195\n",
       "PARENTS            3955\n",
       "THE WORLDPOST      3664\n",
       "WEDDINGS           3651\n",
       "WOMEN              3490\n",
       "IMPACT             3459\n",
       "DIVORCE            3426\n",
       "CRIME              3405\n",
       "MEDIA              2815\n",
       "WEIRD NEWS         2670\n",
       "GREEN              2622\n",
       "WORLDPOST          2579\n",
       "RELIGION           2556\n",
       "STYLE              2254\n",
       "SCIENCE            2178\n",
       "WORLD NEWS         2177\n",
       "TASTE              2096\n",
       "TECH               2082\n",
       "MONEY              1707\n",
       "ARTS               1509\n",
       "FIFTY              1401\n",
       "GOOD NEWS          1398\n",
       "ARTS & CULTURE     1339\n",
       "ENVIRONMENT        1323\n",
       "COLLEGE            1144\n",
       "LATINO VOICES      1129\n",
       "CULTURE & ARTS     1030\n",
       "EDUCATION          1004\n",
       "Name: CATEGORY, dtype: int64"
      ]
     },
     "execution_count": 14,
     "metadata": {},
     "output_type": "execute_result"
    }
   ],
   "source": [
    "allNews['CATEGORY'].value_counts()"
   ]
  },
  {
   "cell_type": "code",
   "execution_count": 15,
   "metadata": {},
   "outputs": [
    {
     "name": "stdout",
     "output_type": "stream",
     "text": [
      "value_counts 41\n",
      "label_of_news 41\n"
     ]
    }
   ],
   "source": [
    "print(\"value_counts\",len(allNews['CATEGORY'].value_counts()))\n",
    "print(\"label_of_news\",len(labels_of_news))"
   ]
  },
  {
   "cell_type": "code",
   "execution_count": 16,
   "metadata": {},
   "outputs": [
    {
     "data": {
      "text/plain": [
       "['POLITICS',\n",
       " 'WELLNESS',\n",
       " 'ENTERTAINMENT',\n",
       " 'TRAVEL',\n",
       " 'STYLE & BEAUTY',\n",
       " 'PARENTING',\n",
       " 'HEALTHY LIVING',\n",
       " 'QUEER VOICES',\n",
       " 'FOOD & DRINK',\n",
       " 'BUSINESS',\n",
       " 'COMEDY',\n",
       " 'SPORTS',\n",
       " 'BLACK VOICES',\n",
       " 'HOME & LIVING',\n",
       " 'PARENTS',\n",
       " 'THE WORLDPOST',\n",
       " 'WEDDINGS',\n",
       " 'WOMEN',\n",
       " 'IMPACT',\n",
       " 'DIVORCE',\n",
       " 'CRIME',\n",
       " 'MEDIA',\n",
       " 'WEIRD NEWS',\n",
       " 'GREEN',\n",
       " 'WORLDPOST',\n",
       " 'RELIGION',\n",
       " 'STYLE',\n",
       " 'SCIENCE',\n",
       " 'WORLD NEWS',\n",
       " 'TASTE',\n",
       " 'TECH',\n",
       " 'MONEY',\n",
       " 'ARTS',\n",
       " 'FIFTY',\n",
       " 'GOOD NEWS',\n",
       " 'ARTS & CULTURE',\n",
       " 'ENVIRONMENT',\n",
       " 'COLLEGE',\n",
       " 'LATINO VOICES',\n",
       " 'CULTURE & ARTS',\n",
       " 'EDUCATION']"
      ]
     },
     "execution_count": 16,
     "metadata": {},
     "output_type": "execute_result"
    }
   ],
   "source": [
    "labels_of_news"
   ]
  },
  {
   "cell_type": "markdown",
   "metadata": {},
   "source": [
    "- Checking the category and their title and description"
   ]
  },
  {
   "cell_type": "code",
   "execution_count": 17,
   "metadata": {},
   "outputs": [
    {
     "data": {
      "text/html": [
       "<div>\n",
       "<style scoped>\n",
       "    .dataframe tbody tr th:only-of-type {\n",
       "        vertical-align: middle;\n",
       "    }\n",
       "\n",
       "    .dataframe tbody tr th {\n",
       "        vertical-align: top;\n",
       "    }\n",
       "\n",
       "    .dataframe thead th {\n",
       "        text-align: right;\n",
       "    }\n",
       "</style>\n",
       "<table border=\"1\" class=\"dataframe\">\n",
       "  <thead>\n",
       "    <tr style=\"text-align: right;\">\n",
       "      <th></th>\n",
       "      <th>CATEGORY</th>\n",
       "      <th>TITLE</th>\n",
       "      <th>DESC</th>\n",
       "    </tr>\n",
       "  </thead>\n",
       "  <tbody>\n",
       "    <tr>\n",
       "      <th>124989</th>\n",
       "      <td>WELLNESS</td>\n",
       "      <td>Why Overeating Doesn't Make You Fat</td>\n",
       "      <td>If you take the right approach to ending your ...</td>\n",
       "    </tr>\n",
       "    <tr>\n",
       "      <th>124990</th>\n",
       "      <td>WELLNESS</td>\n",
       "      <td>14 Habits Of People With A Healthy Relationshi...</td>\n",
       "      <td>After a long list of rules and habits like the...</td>\n",
       "    </tr>\n",
       "    <tr>\n",
       "      <th>124993</th>\n",
       "      <td>WELLNESS</td>\n",
       "      <td>5 Things That Could Be Stealing Your Joy</td>\n",
       "      <td>Listen to yourself all day today -- are you an...</td>\n",
       "    </tr>\n",
       "    <tr>\n",
       "      <th>124994</th>\n",
       "      <td>WELLNESS</td>\n",
       "      <td>Moments Make a Life</td>\n",
       "      <td>Consciously constructing positive habits -- or...</td>\n",
       "    </tr>\n",
       "    <tr>\n",
       "      <th>124996</th>\n",
       "      <td>WELLNESS</td>\n",
       "      <td>Fat Facts</td>\n",
       "      <td>Human fat cells, photo by Dr. Peeke Here's how...</td>\n",
       "    </tr>\n",
       "  </tbody>\n",
       "</table>\n",
       "</div>"
      ],
      "text/plain": [
       "        CATEGORY                                              TITLE  \\\n",
       "124989  WELLNESS                Why Overeating Doesn't Make You Fat   \n",
       "124990  WELLNESS  14 Habits Of People With A Healthy Relationshi...   \n",
       "124993  WELLNESS           5 Things That Could Be Stealing Your Joy   \n",
       "124994  WELLNESS                                Moments Make a Life   \n",
       "124996  WELLNESS                                          Fat Facts   \n",
       "\n",
       "                                                     DESC  \n",
       "124989  If you take the right approach to ending your ...  \n",
       "124990  After a long list of rules and habits like the...  \n",
       "124993  Listen to yourself all day today -- are you an...  \n",
       "124994  Consciously constructing positive habits -- or...  \n",
       "124996  Human fat cells, photo by Dr. Peeke Here's how...  "
      ]
     },
     "execution_count": 17,
     "metadata": {},
     "output_type": "execute_result"
    }
   ],
   "source": [
    "wellness = allNews.loc[allNews['CATEGORY'] == \"WELLNESS\"]\n",
    "wellness.head() #Remove it "
   ]
  },
  {
   "cell_type": "code",
   "execution_count": 18,
   "metadata": {},
   "outputs": [
    {
     "data": {
      "text/html": [
       "<div>\n",
       "<style scoped>\n",
       "    .dataframe tbody tr th:only-of-type {\n",
       "        vertical-align: middle;\n",
       "    }\n",
       "\n",
       "    .dataframe tbody tr th {\n",
       "        vertical-align: top;\n",
       "    }\n",
       "\n",
       "    .dataframe thead th {\n",
       "        text-align: right;\n",
       "    }\n",
       "</style>\n",
       "<table border=\"1\" class=\"dataframe\">\n",
       "  <thead>\n",
       "    <tr style=\"text-align: right;\">\n",
       "      <th></th>\n",
       "      <th>CATEGORY</th>\n",
       "      <th>TITLE</th>\n",
       "      <th>DESC</th>\n",
       "    </tr>\n",
       "  </thead>\n",
       "  <tbody>\n",
       "    <tr>\n",
       "      <th>6194</th>\n",
       "      <td>PARENTS</td>\n",
       "      <td>40 Tweets That Sum Up Life With 4-Year-Olds</td>\n",
       "      <td>\"Hell hath no fury like a 4yo whose apple slic...</td>\n",
       "    </tr>\n",
       "    <tr>\n",
       "      <th>6524</th>\n",
       "      <td>PARENTS</td>\n",
       "      <td>These Were The Trendiest Baby Names In The Lat...</td>\n",
       "      <td>Shout out to the Jessicas and Ambers of the wo...</td>\n",
       "    </tr>\n",
       "    <tr>\n",
       "      <th>6625</th>\n",
       "      <td>PARENTS</td>\n",
       "      <td>These Quotes From Kids Are Hilarious, Adorable...</td>\n",
       "      <td>\"Mommy, this song sounds a lot like the McDonn...</td>\n",
       "    </tr>\n",
       "    <tr>\n",
       "      <th>6848</th>\n",
       "      <td>PARENTS</td>\n",
       "      <td>30 'Star Wars'-Inspired Names Parents Are Givi...</td>\n",
       "      <td>Get ready to meet some more Kylos and Anakins.</td>\n",
       "    </tr>\n",
       "    <tr>\n",
       "      <th>6955</th>\n",
       "      <td>PARENTS</td>\n",
       "      <td>Parents Are Honoring Their Favorite Musicians ...</td>\n",
       "      <td>From Wilco and Beyonce to Jagger and Bowie.</td>\n",
       "    </tr>\n",
       "  </tbody>\n",
       "</table>\n",
       "</div>"
      ],
      "text/plain": [
       "     CATEGORY                                              TITLE  \\\n",
       "6194  PARENTS        40 Tweets That Sum Up Life With 4-Year-Olds   \n",
       "6524  PARENTS  These Were The Trendiest Baby Names In The Lat...   \n",
       "6625  PARENTS  These Quotes From Kids Are Hilarious, Adorable...   \n",
       "6848  PARENTS  30 'Star Wars'-Inspired Names Parents Are Givi...   \n",
       "6955  PARENTS  Parents Are Honoring Their Favorite Musicians ...   \n",
       "\n",
       "                                                   DESC  \n",
       "6194  \"Hell hath no fury like a 4yo whose apple slic...  \n",
       "6524  Shout out to the Jessicas and Ambers of the wo...  \n",
       "6625  \"Mommy, this song sounds a lot like the McDonn...  \n",
       "6848     Get ready to meet some more Kylos and Anakins.  \n",
       "6955        From Wilco and Beyonce to Jagger and Bowie.  "
      ]
     },
     "execution_count": 18,
     "metadata": {},
     "output_type": "execute_result"
    }
   ],
   "source": [
    "parent =  allNews.loc[allNews['CATEGORY'] == \"PARENTS\"]\n",
    "parent.head() # remove it \n"
   ]
  },
  {
   "cell_type": "code",
   "execution_count": 19,
   "metadata": {},
   "outputs": [
    {
     "data": {
      "text/html": [
       "<div>\n",
       "<style scoped>\n",
       "    .dataframe tbody tr th:only-of-type {\n",
       "        vertical-align: middle;\n",
       "    }\n",
       "\n",
       "    .dataframe tbody tr th {\n",
       "        vertical-align: top;\n",
       "    }\n",
       "\n",
       "    .dataframe thead th {\n",
       "        text-align: right;\n",
       "    }\n",
       "</style>\n",
       "<table border=\"1\" class=\"dataframe\">\n",
       "  <thead>\n",
       "    <tr style=\"text-align: right;\">\n",
       "      <th></th>\n",
       "      <th>CATEGORY</th>\n",
       "      <th>TITLE</th>\n",
       "      <th>DESC</th>\n",
       "    </tr>\n",
       "  </thead>\n",
       "  <tbody>\n",
       "    <tr>\n",
       "      <th>125421</th>\n",
       "      <td>ENVIRONMENT</td>\n",
       "      <td>Sky Vets Perform Incredible Rescue To Save Wil...</td>\n",
       "      <td>Warning: This video contains graphic images of...</td>\n",
       "    </tr>\n",
       "    <tr>\n",
       "      <th>125422</th>\n",
       "      <td>ENVIRONMENT</td>\n",
       "      <td>Animal Photos Of The Week: Baby Panda Goes For...</td>\n",
       "      <td>This week has been an interesting one in the w...</td>\n",
       "    </tr>\n",
       "    <tr>\n",
       "      <th>125423</th>\n",
       "      <td>ENVIRONMENT</td>\n",
       "      <td>Washington Mudslide Menacing Fabled Pacific No...</td>\n",
       "      <td>The tribe - whose name means \"the river people...</td>\n",
       "    </tr>\n",
       "    <tr>\n",
       "      <th>125424</th>\n",
       "      <td>ENVIRONMENT</td>\n",
       "      <td>America's Exotic Pet Obsession Is Out Of Contr...</td>\n",
       "      <td>Nearly two-thirds of Americans own at least on...</td>\n",
       "    </tr>\n",
       "    <tr>\n",
       "      <th>125494</th>\n",
       "      <td>ENVIRONMENT</td>\n",
       "      <td>Time to Leave Our Bad Carbon Boyfriend</td>\n",
       "      <td>But break-ups happen all the time and we find ...</td>\n",
       "    </tr>\n",
       "  </tbody>\n",
       "</table>\n",
       "</div>"
      ],
      "text/plain": [
       "           CATEGORY                                              TITLE  \\\n",
       "125421  ENVIRONMENT  Sky Vets Perform Incredible Rescue To Save Wil...   \n",
       "125422  ENVIRONMENT  Animal Photos Of The Week: Baby Panda Goes For...   \n",
       "125423  ENVIRONMENT  Washington Mudslide Menacing Fabled Pacific No...   \n",
       "125424  ENVIRONMENT  America's Exotic Pet Obsession Is Out Of Contr...   \n",
       "125494  ENVIRONMENT             Time to Leave Our Bad Carbon Boyfriend   \n",
       "\n",
       "                                                     DESC  \n",
       "125421  Warning: This video contains graphic images of...  \n",
       "125422  This week has been an interesting one in the w...  \n",
       "125423  The tribe - whose name means \"the river people...  \n",
       "125424  Nearly two-thirds of Americans own at least on...  \n",
       "125494  But break-ups happen all the time and we find ...  "
      ]
     },
     "execution_count": 19,
     "metadata": {},
     "output_type": "execute_result"
    }
   ],
   "source": [
    "env =  allNews.loc[allNews['CATEGORY'] == \"ENVIRONMENT\"]\n",
    "env.head() # merge with ENTERTAINMENT"
   ]
  },
  {
   "cell_type": "code",
   "execution_count": 20,
   "metadata": {},
   "outputs": [
    {
     "data": {
      "text/html": [
       "<div>\n",
       "<style scoped>\n",
       "    .dataframe tbody tr th:only-of-type {\n",
       "        vertical-align: middle;\n",
       "    }\n",
       "\n",
       "    .dataframe tbody tr th {\n",
       "        vertical-align: top;\n",
       "    }\n",
       "\n",
       "    .dataframe thead th {\n",
       "        text-align: right;\n",
       "    }\n",
       "</style>\n",
       "<table border=\"1\" class=\"dataframe\">\n",
       "  <thead>\n",
       "    <tr style=\"text-align: right;\">\n",
       "      <th></th>\n",
       "      <th>CATEGORY</th>\n",
       "      <th>TITLE</th>\n",
       "      <th>DESC</th>\n",
       "    </tr>\n",
       "  </thead>\n",
       "  <tbody>\n",
       "    <tr>\n",
       "      <th>125009</th>\n",
       "      <td>DIVORCE</td>\n",
       "      <td>50 Empowering Songs To Help Get You Through A ...</td>\n",
       "      <td>Breakups are a very special and pointed type o...</td>\n",
       "    </tr>\n",
       "    <tr>\n",
       "      <th>125012</th>\n",
       "      <td>DIVORCE</td>\n",
       "      <td>I'm Sleeping With A Cheater, Only Complicating...</td>\n",
       "      <td>I’ve been a sex worker for six years–my entire...</td>\n",
       "    </tr>\n",
       "    <tr>\n",
       "      <th>125022</th>\n",
       "      <td>DIVORCE</td>\n",
       "      <td>Blake And Miranda Respond To Divorce Rumors In...</td>\n",
       "      <td>Worried about the state of Blake Shelton and M...</td>\n",
       "    </tr>\n",
       "    <tr>\n",
       "      <th>125028</th>\n",
       "      <td>DIVORCE</td>\n",
       "      <td>What 'Grey's Anatomy' Taught Me About Moving O...</td>\n",
       "      <td>If there's ever a time you need a little distr...</td>\n",
       "    </tr>\n",
       "    <tr>\n",
       "      <th>125043</th>\n",
       "      <td>DIVORCE</td>\n",
       "      <td>How to Revitalize Love and Passion With Your P...</td>\n",
       "      <td>Let's face it, when we fall in love and commit...</td>\n",
       "    </tr>\n",
       "  </tbody>\n",
       "</table>\n",
       "</div>"
      ],
      "text/plain": [
       "       CATEGORY                                              TITLE  \\\n",
       "125009  DIVORCE  50 Empowering Songs To Help Get You Through A ...   \n",
       "125012  DIVORCE  I'm Sleeping With A Cheater, Only Complicating...   \n",
       "125022  DIVORCE  Blake And Miranda Respond To Divorce Rumors In...   \n",
       "125028  DIVORCE  What 'Grey's Anatomy' Taught Me About Moving O...   \n",
       "125043  DIVORCE  How to Revitalize Love and Passion With Your P...   \n",
       "\n",
       "                                                     DESC  \n",
       "125009  Breakups are a very special and pointed type o...  \n",
       "125012  I’ve been a sex worker for six years–my entire...  \n",
       "125022  Worried about the state of Blake Shelton and M...  \n",
       "125028  If there's ever a time you need a little distr...  \n",
       "125043  Let's face it, when we fall in love and commit...  "
      ]
     },
     "execution_count": 20,
     "metadata": {},
     "output_type": "execute_result"
    }
   ],
   "source": [
    "divorce =  allNews.loc[allNews['CATEGORY'] == \"DIVORCE\"]\n",
    "divorce.head() # remove it "
   ]
  },
  {
   "cell_type": "code",
   "execution_count": 21,
   "metadata": {},
   "outputs": [
    {
     "data": {
      "text/html": [
       "<div>\n",
       "<style scoped>\n",
       "    .dataframe tbody tr th:only-of-type {\n",
       "        vertical-align: middle;\n",
       "    }\n",
       "\n",
       "    .dataframe tbody tr th {\n",
       "        vertical-align: top;\n",
       "    }\n",
       "\n",
       "    .dataframe thead th {\n",
       "        text-align: right;\n",
       "    }\n",
       "</style>\n",
       "<table border=\"1\" class=\"dataframe\">\n",
       "  <thead>\n",
       "    <tr style=\"text-align: right;\">\n",
       "      <th></th>\n",
       "      <th>CATEGORY</th>\n",
       "      <th>TITLE</th>\n",
       "      <th>DESC</th>\n",
       "    </tr>\n",
       "  </thead>\n",
       "  <tbody>\n",
       "    <tr>\n",
       "      <th>7499</th>\n",
       "      <td>TASTE</td>\n",
       "      <td>It's Weird That American Restaurants Serve Ice...</td>\n",
       "      <td>But why do we even have ice in our drinks in t...</td>\n",
       "    </tr>\n",
       "    <tr>\n",
       "      <th>7568</th>\n",
       "      <td>TASTE</td>\n",
       "      <td>Pineapple Casserole, The Southern Dish That's ...</td>\n",
       "      <td>It's got pineapple, cheddar and a whole lot of...</td>\n",
       "    </tr>\n",
       "    <tr>\n",
       "      <th>7842</th>\n",
       "      <td>TASTE</td>\n",
       "      <td>How To Actually Get A Bartender's Attention</td>\n",
       "      <td>Plus other things they wish you knew.</td>\n",
       "    </tr>\n",
       "    <tr>\n",
       "      <th>7925</th>\n",
       "      <td>TASTE</td>\n",
       "      <td>Diet Coke's Millennial-Inspired Makeover Leave...</td>\n",
       "      <td>It's not like a regular soda, it's a cool soda.</td>\n",
       "    </tr>\n",
       "    <tr>\n",
       "      <th>8102</th>\n",
       "      <td>TASTE</td>\n",
       "      <td>We Tested The New 'Tearless' Onions To See If ...</td>\n",
       "      <td>Put away your goggles, people.</td>\n",
       "    </tr>\n",
       "  </tbody>\n",
       "</table>\n",
       "</div>"
      ],
      "text/plain": [
       "     CATEGORY                                              TITLE  \\\n",
       "7499    TASTE  It's Weird That American Restaurants Serve Ice...   \n",
       "7568    TASTE  Pineapple Casserole, The Southern Dish That's ...   \n",
       "7842    TASTE        How To Actually Get A Bartender's Attention   \n",
       "7925    TASTE  Diet Coke's Millennial-Inspired Makeover Leave...   \n",
       "8102    TASTE  We Tested The New 'Tearless' Onions To See If ...   \n",
       "\n",
       "                                                   DESC  \n",
       "7499  But why do we even have ice in our drinks in t...  \n",
       "7568  It's got pineapple, cheddar and a whole lot of...  \n",
       "7842              Plus other things they wish you knew.  \n",
       "7925    It's not like a regular soda, it's a cool soda.  \n",
       "8102                     Put away your goggles, people.  "
      ]
     },
     "execution_count": 21,
     "metadata": {},
     "output_type": "execute_result"
    }
   ],
   "source": [
    "taste =  allNews.loc[allNews['CATEGORY'] == \"TASTE\"]\n",
    "taste.head() # remove it"
   ]
  },
  {
   "cell_type": "code",
   "execution_count": 22,
   "metadata": {},
   "outputs": [
    {
     "data": {
      "text/html": [
       "<div>\n",
       "<style scoped>\n",
       "    .dataframe tbody tr th:only-of-type {\n",
       "        vertical-align: middle;\n",
       "    }\n",
       "\n",
       "    .dataframe tbody tr th {\n",
       "        vertical-align: top;\n",
       "    }\n",
       "\n",
       "    .dataframe thead th {\n",
       "        text-align: right;\n",
       "    }\n",
       "</style>\n",
       "<table border=\"1\" class=\"dataframe\">\n",
       "  <thead>\n",
       "    <tr style=\"text-align: right;\">\n",
       "      <th></th>\n",
       "      <th>CATEGORY</th>\n",
       "      <th>TITLE</th>\n",
       "      <th>DESC</th>\n",
       "    </tr>\n",
       "  </thead>\n",
       "  <tbody>\n",
       "    <tr>\n",
       "      <th>12</th>\n",
       "      <td>IMPACT</td>\n",
       "      <td>With Its Way Of Life At Risk, This Remote Oyst...</td>\n",
       "      <td>The revolution is coming to rural New Brunswick.</td>\n",
       "    </tr>\n",
       "    <tr>\n",
       "      <th>66</th>\n",
       "      <td>IMPACT</td>\n",
       "      <td>Monsanto And Bayer Are Set To Merge. Here's Wh...</td>\n",
       "      <td>“Together they will influence markets all over...</td>\n",
       "    </tr>\n",
       "    <tr>\n",
       "      <th>125</th>\n",
       "      <td>IMPACT</td>\n",
       "      <td>You're Going To Use That Self-Checkout Machine...</td>\n",
       "      <td>We may not realize it, but retailers are condi...</td>\n",
       "    </tr>\n",
       "    <tr>\n",
       "      <th>193</th>\n",
       "      <td>IMPACT</td>\n",
       "      <td>Machines Don't Always Steal Our Jobs. Increasi...</td>\n",
       "      <td>Your next boss could be an algorithm</td>\n",
       "    </tr>\n",
       "    <tr>\n",
       "      <th>286</th>\n",
       "      <td>IMPACT</td>\n",
       "      <td>She Started A Suicide Prevention Site At Age 1...</td>\n",
       "      <td>“People didn’t view me seriously because I was...</td>\n",
       "    </tr>\n",
       "  </tbody>\n",
       "</table>\n",
       "</div>"
      ],
      "text/plain": [
       "    CATEGORY                                              TITLE  \\\n",
       "12    IMPACT  With Its Way Of Life At Risk, This Remote Oyst...   \n",
       "66    IMPACT  Monsanto And Bayer Are Set To Merge. Here's Wh...   \n",
       "125   IMPACT  You're Going To Use That Self-Checkout Machine...   \n",
       "193   IMPACT  Machines Don't Always Steal Our Jobs. Increasi...   \n",
       "286   IMPACT  She Started A Suicide Prevention Site At Age 1...   \n",
       "\n",
       "                                                  DESC  \n",
       "12    The revolution is coming to rural New Brunswick.  \n",
       "66   “Together they will influence markets all over...  \n",
       "125  We may not realize it, but retailers are condi...  \n",
       "193               Your next boss could be an algorithm  \n",
       "286  “People didn’t view me seriously because I was...  "
      ]
     },
     "execution_count": 22,
     "metadata": {},
     "output_type": "execute_result"
    }
   ],
   "source": [
    "impact =  allNews.loc[allNews['CATEGORY'] == \"IMPACT\"]\n",
    "impact.head() # remove it"
   ]
  },
  {
   "cell_type": "code",
   "execution_count": 23,
   "metadata": {},
   "outputs": [
    {
     "data": {
      "text/html": [
       "<div>\n",
       "<style scoped>\n",
       "    .dataframe tbody tr th:only-of-type {\n",
       "        vertical-align: middle;\n",
       "    }\n",
       "\n",
       "    .dataframe tbody tr th {\n",
       "        vertical-align: top;\n",
       "    }\n",
       "\n",
       "    .dataframe thead th {\n",
       "        text-align: right;\n",
       "    }\n",
       "</style>\n",
       "<table border=\"1\" class=\"dataframe\">\n",
       "  <thead>\n",
       "    <tr style=\"text-align: right;\">\n",
       "      <th></th>\n",
       "      <th>CATEGORY</th>\n",
       "      <th>TITLE</th>\n",
       "      <th>DESC</th>\n",
       "    </tr>\n",
       "  </thead>\n",
       "  <tbody>\n",
       "    <tr>\n",
       "      <th>125013</th>\n",
       "      <td>WEDDINGS</td>\n",
       "      <td>This Wedding Guest Is The Cutest Little Thief ...</td>\n",
       "      <td>We're onto you, little one. [H/T Reddit user b...</td>\n",
       "    </tr>\n",
       "    <tr>\n",
       "      <th>125023</th>\n",
       "      <td>WEDDINGS</td>\n",
       "      <td>Girls Are Already Lining Up To Marry Prince Ge...</td>\n",
       "      <td>Keep in touch! Check out HuffPost Weddings on ...</td>\n",
       "    </tr>\n",
       "    <tr>\n",
       "      <th>125045</th>\n",
       "      <td>WEDDINGS</td>\n",
       "      <td>Wedding Party Reenacts Leonardo da Vinci's 'La...</td>\n",
       "      <td>\"Everyone was great and went with it because t...</td>\n",
       "    </tr>\n",
       "    <tr>\n",
       "      <th>125049</th>\n",
       "      <td>WEDDINGS</td>\n",
       "      <td>The Ultimate Spring Wedding Inspiration</td>\n",
       "      <td>Check out these inspirational photos to make y...</td>\n",
       "    </tr>\n",
       "    <tr>\n",
       "      <th>125077</th>\n",
       "      <td>WEDDINGS</td>\n",
       "      <td>The Case for Separate Beds</td>\n",
       "      <td>The other night I slept on a twin bed in the g...</td>\n",
       "    </tr>\n",
       "  </tbody>\n",
       "</table>\n",
       "</div>"
      ],
      "text/plain": [
       "        CATEGORY                                              TITLE  \\\n",
       "125013  WEDDINGS  This Wedding Guest Is The Cutest Little Thief ...   \n",
       "125023  WEDDINGS  Girls Are Already Lining Up To Marry Prince Ge...   \n",
       "125045  WEDDINGS  Wedding Party Reenacts Leonardo da Vinci's 'La...   \n",
       "125049  WEDDINGS            The Ultimate Spring Wedding Inspiration   \n",
       "125077  WEDDINGS                         The Case for Separate Beds   \n",
       "\n",
       "                                                     DESC  \n",
       "125013  We're onto you, little one. [H/T Reddit user b...  \n",
       "125023  Keep in touch! Check out HuffPost Weddings on ...  \n",
       "125045  \"Everyone was great and went with it because t...  \n",
       "125049  Check out these inspirational photos to make y...  \n",
       "125077  The other night I slept on a twin bed in the g...  "
      ]
     },
     "execution_count": 23,
     "metadata": {},
     "output_type": "execute_result"
    }
   ],
   "source": [
    "# WEDDINGS\n",
    "wed =  allNews.loc[allNews['CATEGORY'] == \"WEDDINGS\"]\n",
    "wed.head() # remove it"
   ]
  },
  {
   "cell_type": "code",
   "execution_count": null,
   "metadata": {},
   "outputs": [],
   "source": []
  },
  {
   "cell_type": "code",
   "execution_count": 24,
   "metadata": {},
   "outputs": [],
   "source": [
    "## Merging Categories\n"
   ]
  },
  {
   "cell_type": "code",
   "execution_count": 25,
   "metadata": {},
   "outputs": [],
   "source": [
    "#worldpost and 'the worldpost'\n",
    "allNews.CATEGORY = allNews.CATEGORY.map(lambda x: \"WORLDPOST\" if x == \"THE WORLDPOST\" else x)\n",
    "allNews.CATEGORY = allNews.CATEGORY.map(lambda x: \"ENTERTAINMENT\" if x == \"COMEDY\" else x)\n",
    "allNews.CATEGORY = allNews.CATEGORY.map(lambda x: \"ARTS_CULTURE\" if x == \"ARTS\" or x==\"CULTURE & ARTS\" or x==\"ARTS & CULTURE\" else x)\n"
   ]
  },
  {
   "cell_type": "code",
   "execution_count": 26,
   "metadata": {},
   "outputs": [],
   "source": [
    "allNews.CATEGORY = allNews.CATEGORY.map(lambda x: \"WORLDNEWS\" if x == \"WORLDPOST\" or x == \"WORLD NEWS\"  else x)\n"
   ]
  },
  {
   "cell_type": "code",
   "execution_count": 27,
   "metadata": {},
   "outputs": [
    {
     "data": {
      "text/plain": [
       "36"
      ]
     },
     "execution_count": 27,
     "metadata": {},
     "output_type": "execute_result"
    }
   ],
   "source": [
    "len(allNews.CATEGORY.value_counts())"
   ]
  },
  {
   "cell_type": "code",
   "execution_count": 28,
   "metadata": {},
   "outputs": [
    {
     "data": {
      "text/plain": [
       "POLITICS          32739\n",
       "ENTERTAINMENT     21233\n",
       "WELLNESS          17827\n",
       "TRAVEL             9887\n",
       "STYLE & BEAUTY     9649\n",
       "PARENTING          8677\n",
       "WORLDNEWS          8420\n",
       "HEALTHY LIVING     6694\n",
       "QUEER VOICES       6314\n",
       "FOOD & DRINK       6226\n",
       "BUSINESS           5937\n",
       "SPORTS             4884\n",
       "BLACK VOICES       4528\n",
       "HOME & LIVING      4195\n",
       "PARENTS            3955\n",
       "ARTS_CULTURE       3878\n",
       "WEDDINGS           3651\n",
       "WOMEN              3490\n",
       "IMPACT             3459\n",
       "DIVORCE            3426\n",
       "CRIME              3405\n",
       "MEDIA              2815\n",
       "WEIRD NEWS         2670\n",
       "GREEN              2622\n",
       "RELIGION           2556\n",
       "STYLE              2254\n",
       "SCIENCE            2178\n",
       "TASTE              2096\n",
       "TECH               2082\n",
       "MONEY              1707\n",
       "FIFTY              1401\n",
       "GOOD NEWS          1398\n",
       "ENVIRONMENT        1323\n",
       "COLLEGE            1144\n",
       "LATINO VOICES      1129\n",
       "EDUCATION          1004\n",
       "Name: CATEGORY, dtype: int64"
      ]
     },
     "execution_count": 28,
     "metadata": {},
     "output_type": "execute_result"
    }
   ],
   "source": [
    "(allNews.CATEGORY.value_counts())"
   ]
  },
  {
   "cell_type": "markdown",
   "metadata": {},
   "source": [
    "- ### NEEDED LABELS ONLY"
   ]
  },
  {
   "cell_type": "code",
   "execution_count": 29,
   "metadata": {},
   "outputs": [
    {
     "data": {
      "text/plain": [
       "8"
      ]
     },
     "execution_count": 29,
     "metadata": {},
     "output_type": "execute_result"
    }
   ],
   "source": [
    "final_category = [\"POLITICS\",\"ENTERTAINMENT\",\"WORLDNEWS\",\"SPORTS\",\"BUSINESS\",\"TECH\",\"SCIENCE\",\"ARTS_CULTURE\"]\n",
    "len(final_category)"
   ]
  },
  {
   "cell_type": "code",
   "execution_count": 30,
   "metadata": {},
   "outputs": [
    {
     "data": {
      "text/html": [
       "<div>\n",
       "<style scoped>\n",
       "    .dataframe tbody tr th:only-of-type {\n",
       "        vertical-align: middle;\n",
       "    }\n",
       "\n",
       "    .dataframe tbody tr th {\n",
       "        vertical-align: top;\n",
       "    }\n",
       "\n",
       "    .dataframe thead th {\n",
       "        text-align: right;\n",
       "    }\n",
       "</style>\n",
       "<table border=\"1\" class=\"dataframe\">\n",
       "  <thead>\n",
       "    <tr style=\"text-align: right;\">\n",
       "      <th></th>\n",
       "      <th>CATEGORY</th>\n",
       "      <th>TITLE</th>\n",
       "      <th>DESC</th>\n",
       "    </tr>\n",
       "  </thead>\n",
       "  <tbody>\n",
       "    <tr>\n",
       "      <th>1</th>\n",
       "      <td>ENTERTAINMENT</td>\n",
       "      <td>Will Smith Joins Diplo And Nicky Jam For The 2...</td>\n",
       "      <td>Of course it has a song.</td>\n",
       "    </tr>\n",
       "    <tr>\n",
       "      <th>2</th>\n",
       "      <td>ENTERTAINMENT</td>\n",
       "      <td>Hugh Grant Marries For The First Time At Age 57</td>\n",
       "      <td>The actor and his longtime girlfriend Anna Ebe...</td>\n",
       "    </tr>\n",
       "    <tr>\n",
       "      <th>3</th>\n",
       "      <td>ENTERTAINMENT</td>\n",
       "      <td>Jim Carrey Blasts 'Castrato' Adam Schiff And D...</td>\n",
       "      <td>The actor gives Dems an ass-kicking for not fi...</td>\n",
       "    </tr>\n",
       "    <tr>\n",
       "      <th>4</th>\n",
       "      <td>ENTERTAINMENT</td>\n",
       "      <td>Julianna Margulies Uses Donald Trump Poop Bags...</td>\n",
       "      <td>The \"Dietland\" actress said using the bags is ...</td>\n",
       "    </tr>\n",
       "    <tr>\n",
       "      <th>5</th>\n",
       "      <td>ENTERTAINMENT</td>\n",
       "      <td>Morgan Freeman 'Devastated' That Sexual Harass...</td>\n",
       "      <td>\"It is not right to equate horrific incidents ...</td>\n",
       "    </tr>\n",
       "  </tbody>\n",
       "</table>\n",
       "</div>"
      ],
      "text/plain": [
       "        CATEGORY                                              TITLE  \\\n",
       "1  ENTERTAINMENT  Will Smith Joins Diplo And Nicky Jam For The 2...   \n",
       "2  ENTERTAINMENT    Hugh Grant Marries For The First Time At Age 57   \n",
       "3  ENTERTAINMENT  Jim Carrey Blasts 'Castrato' Adam Schiff And D...   \n",
       "4  ENTERTAINMENT  Julianna Margulies Uses Donald Trump Poop Bags...   \n",
       "5  ENTERTAINMENT  Morgan Freeman 'Devastated' That Sexual Harass...   \n",
       "\n",
       "                                                DESC  \n",
       "1                           Of course it has a song.  \n",
       "2  The actor and his longtime girlfriend Anna Ebe...  \n",
       "3  The actor gives Dems an ass-kicking for not fi...  \n",
       "4  The \"Dietland\" actress said using the bags is ...  \n",
       "5  \"It is not right to equate horrific incidents ...  "
      ]
     },
     "execution_count": 30,
     "metadata": {},
     "output_type": "execute_result"
    }
   ],
   "source": [
    "myNewsDataset =  allNews.loc[allNews['CATEGORY'].isin(final_category)]\n",
    "myNewsDataset.head()"
   ]
  },
  {
   "cell_type": "code",
   "execution_count": 31,
   "metadata": {},
   "outputs": [
    {
     "name": "stdout",
     "output_type": "stream",
     "text": [
      "<class 'pandas.core.frame.DataFrame'>\n",
      "Int64Index: 81351 entries, 1 to 200852\n",
      "Data columns (total 3 columns):\n",
      "CATEGORY    81351 non-null object\n",
      "TITLE       81351 non-null object\n",
      "DESC        81351 non-null object\n",
      "dtypes: object(3)\n",
      "memory usage: 2.5+ MB\n"
     ]
    }
   ],
   "source": [
    "myNewsDataset.info()\n"
   ]
  },
  {
   "cell_type": "code",
   "execution_count": 32,
   "metadata": {},
   "outputs": [
    {
     "data": {
      "text/html": [
       "<div>\n",
       "<style scoped>\n",
       "    .dataframe tbody tr th:only-of-type {\n",
       "        vertical-align: middle;\n",
       "    }\n",
       "\n",
       "    .dataframe tbody tr th {\n",
       "        vertical-align: top;\n",
       "    }\n",
       "\n",
       "    .dataframe thead th {\n",
       "        text-align: right;\n",
       "    }\n",
       "</style>\n",
       "<table border=\"1\" class=\"dataframe\">\n",
       "  <thead>\n",
       "    <tr style=\"text-align: right;\">\n",
       "      <th></th>\n",
       "      <th>CATEGORY</th>\n",
       "      <th>TITLE</th>\n",
       "      <th>DESC</th>\n",
       "    </tr>\n",
       "  </thead>\n",
       "  <tbody>\n",
       "    <tr>\n",
       "      <th>count</th>\n",
       "      <td>81351</td>\n",
       "      <td>81351</td>\n",
       "      <td>81351</td>\n",
       "    </tr>\n",
       "    <tr>\n",
       "      <th>unique</th>\n",
       "      <td>8</td>\n",
       "      <td>81041</td>\n",
       "      <td>70108</td>\n",
       "    </tr>\n",
       "    <tr>\n",
       "      <th>top</th>\n",
       "      <td>POLITICS</td>\n",
       "      <td>Sunday Roundup</td>\n",
       "      <td></td>\n",
       "    </tr>\n",
       "    <tr>\n",
       "      <th>freq</th>\n",
       "      <td>32739</td>\n",
       "      <td>90</td>\n",
       "      <td>10430</td>\n",
       "    </tr>\n",
       "  </tbody>\n",
       "</table>\n",
       "</div>"
      ],
      "text/plain": [
       "        CATEGORY           TITLE   DESC\n",
       "count      81351           81351  81351\n",
       "unique         8           81041  70108\n",
       "top     POLITICS  Sunday Roundup       \n",
       "freq       32739              90  10430"
      ]
     },
     "execution_count": 32,
     "metadata": {},
     "output_type": "execute_result"
    }
   ],
   "source": [
    "myNewsDataset.describe()"
   ]
  },
  {
   "cell_type": "code",
   "execution_count": 33,
   "metadata": {},
   "outputs": [
    {
     "data": {
      "text/plain": [
       "POLITICS         32739\n",
       "ENTERTAINMENT    21233\n",
       "WORLDNEWS         8420\n",
       "BUSINESS          5937\n",
       "SPORTS            4884\n",
       "ARTS_CULTURE      3878\n",
       "SCIENCE           2178\n",
       "TECH              2082\n",
       "Name: CATEGORY, dtype: int64"
      ]
     },
     "execution_count": 33,
     "metadata": {},
     "output_type": "execute_result"
    }
   ],
   "source": [
    "myNewsDataset.CATEGORY.value_counts()"
   ]
  },
  {
   "cell_type": "code",
   "execution_count": 34,
   "metadata": {},
   "outputs": [
    {
     "name": "stderr",
     "output_type": "stream",
     "text": [
      "/home/felladog/anaconda3/lib/python3.7/site-packages/ipykernel_launcher.py:1: SettingWithCopyWarning: \n",
      "A value is trying to be set on a copy of a slice from a DataFrame.\n",
      "Try using .loc[row_indexer,col_indexer] = value instead\n",
      "\n",
      "See the caveats in the documentation: http://pandas.pydata.org/pandas-docs/stable/indexing.html#indexing-view-versus-copy\n",
      "  \"\"\"Entry point for launching an IPython kernel.\n"
     ]
    }
   ],
   "source": [
    "myNewsDataset[\"data_unparsed\"]=myNewsDataset[\"TITLE\"] + \" \" + myNewsDataset[\"DESC\"]"
   ]
  },
  {
   "cell_type": "code",
   "execution_count": 35,
   "metadata": {},
   "outputs": [],
   "source": [
    "droplist=['TITLE','DESC']\n",
    "for todrop in droplist:\n",
    "    myNewsDataset = myNewsDataset.drop(todrop,1)"
   ]
  },
  {
   "cell_type": "code",
   "execution_count": 36,
   "metadata": {},
   "outputs": [],
   "source": [
    "myNewsDataset['data_unparsed']=myNewsDataset.data_unparsed.str.lower()"
   ]
  },
  {
   "cell_type": "code",
   "execution_count": 37,
   "metadata": {},
   "outputs": [
    {
     "name": "stdout",
     "output_type": "stream",
     "text": [
      "<class 'pandas.core.frame.DataFrame'>\n",
      "Int64Index: 81351 entries, 1 to 200852\n",
      "Data columns (total 2 columns):\n",
      "CATEGORY         81351 non-null object\n",
      "data_unparsed    81351 non-null object\n",
      "dtypes: object(2)\n",
      "memory usage: 1.9+ MB\n"
     ]
    }
   ],
   "source": [
    "## final news count = 81,351\n",
    "\n",
    "myNewsDataset.info()\n"
   ]
  },
  {
   "cell_type": "code",
   "execution_count": 38,
   "metadata": {},
   "outputs": [
    {
     "data": {
      "text/html": [
       "<div>\n",
       "<style scoped>\n",
       "    .dataframe tbody tr th:only-of-type {\n",
       "        vertical-align: middle;\n",
       "    }\n",
       "\n",
       "    .dataframe tbody tr th {\n",
       "        vertical-align: top;\n",
       "    }\n",
       "\n",
       "    .dataframe thead th {\n",
       "        text-align: right;\n",
       "    }\n",
       "</style>\n",
       "<table border=\"1\" class=\"dataframe\">\n",
       "  <thead>\n",
       "    <tr style=\"text-align: right;\">\n",
       "      <th></th>\n",
       "      <th>CATEGORY</th>\n",
       "      <th>data_unparsed</th>\n",
       "    </tr>\n",
       "  </thead>\n",
       "  <tbody>\n",
       "    <tr>\n",
       "      <th>count</th>\n",
       "      <td>81351</td>\n",
       "      <td>81351</td>\n",
       "    </tr>\n",
       "    <tr>\n",
       "      <th>unique</th>\n",
       "      <td>8</td>\n",
       "      <td>81263</td>\n",
       "    </tr>\n",
       "    <tr>\n",
       "      <th>top</th>\n",
       "      <td>POLITICS</td>\n",
       "      <td>watch the top 9 youtube videos of the week if ...</td>\n",
       "    </tr>\n",
       "    <tr>\n",
       "      <th>freq</th>\n",
       "      <td>32739</td>\n",
       "      <td>46</td>\n",
       "    </tr>\n",
       "  </tbody>\n",
       "</table>\n",
       "</div>"
      ],
      "text/plain": [
       "        CATEGORY                                      data_unparsed\n",
       "count      81351                                              81351\n",
       "unique         8                                              81263\n",
       "top     POLITICS  watch the top 9 youtube videos of the week if ...\n",
       "freq       32739                                                 46"
      ]
     },
     "execution_count": 38,
     "metadata": {},
     "output_type": "execute_result"
    }
   ],
   "source": [
    "myNewsDataset.describe()\n"
   ]
  },
  {
   "cell_type": "code",
   "execution_count": 39,
   "metadata": {},
   "outputs": [
    {
     "data": {
      "text/html": [
       "<div>\n",
       "<style scoped>\n",
       "    .dataframe tbody tr th:only-of-type {\n",
       "        vertical-align: middle;\n",
       "    }\n",
       "\n",
       "    .dataframe tbody tr th {\n",
       "        vertical-align: top;\n",
       "    }\n",
       "\n",
       "    .dataframe thead th {\n",
       "        text-align: right;\n",
       "    }\n",
       "</style>\n",
       "<table border=\"1\" class=\"dataframe\">\n",
       "  <thead>\n",
       "    <tr style=\"text-align: right;\">\n",
       "      <th></th>\n",
       "      <th>CATEGORY</th>\n",
       "      <th>data_unparsed</th>\n",
       "    </tr>\n",
       "  </thead>\n",
       "  <tbody>\n",
       "    <tr>\n",
       "      <th>1</th>\n",
       "      <td>ENTERTAINMENT</td>\n",
       "      <td>will smith joins diplo and nicky jam for the 2...</td>\n",
       "    </tr>\n",
       "    <tr>\n",
       "      <th>2</th>\n",
       "      <td>ENTERTAINMENT</td>\n",
       "      <td>hugh grant marries for the first time at age 5...</td>\n",
       "    </tr>\n",
       "    <tr>\n",
       "      <th>3</th>\n",
       "      <td>ENTERTAINMENT</td>\n",
       "      <td>jim carrey blasts 'castrato' adam schiff and d...</td>\n",
       "    </tr>\n",
       "    <tr>\n",
       "      <th>4</th>\n",
       "      <td>ENTERTAINMENT</td>\n",
       "      <td>julianna margulies uses donald trump poop bags...</td>\n",
       "    </tr>\n",
       "    <tr>\n",
       "      <th>5</th>\n",
       "      <td>ENTERTAINMENT</td>\n",
       "      <td>morgan freeman 'devastated' that sexual harass...</td>\n",
       "    </tr>\n",
       "  </tbody>\n",
       "</table>\n",
       "</div>"
      ],
      "text/plain": [
       "        CATEGORY                                      data_unparsed\n",
       "1  ENTERTAINMENT  will smith joins diplo and nicky jam for the 2...\n",
       "2  ENTERTAINMENT  hugh grant marries for the first time at age 5...\n",
       "3  ENTERTAINMENT  jim carrey blasts 'castrato' adam schiff and d...\n",
       "4  ENTERTAINMENT  julianna margulies uses donald trump poop bags...\n",
       "5  ENTERTAINMENT  morgan freeman 'devastated' that sexual harass..."
      ]
     },
     "execution_count": 39,
     "metadata": {},
     "output_type": "execute_result"
    }
   ],
   "source": [
    "myNewsDataset.head()"
   ]
  },
  {
   "cell_type": "code",
   "execution_count": 40,
   "metadata": {},
   "outputs": [],
   "source": [
    "remove_this=(\"“\",\"’s\",\"s’\",\"’t\")\n",
    "punctuation_sign = (\"!\",\"?\",\"@\",\"?\",\".\",\":\",\";\",\"-\",\"&\",\",\",\"%\") "
   ]
  },
  {
   "cell_type": "code",
   "execution_count": 41,
   "metadata": {},
   "outputs": [],
   "source": [
    "myNewsDataset['data']=myNewsDataset['data_unparsed'].str.replace(\"\\n\",\" \")\n",
    "\n",
    "myNewsDataset['data']=myNewsDataset['data'].str.replace(\"\\r\",\" \")\n",
    "\n",
    "myNewsDataset['data']=myNewsDataset['data'].str.replace('\"','')\n",
    "\n",
    "for remove_ in remove_this:    \n",
    "    myNewsDataset['data']=myNewsDataset['data'].str.replace(remove_,\"\")\n",
    "for punc_ in punctuation_sign:\n",
    "    myNewsDataset['data']=myNewsDataset['data'].str.replace(punc_,\"\")\n",
    "myNewsDataset['data']=myNewsDataset['data'].str.replace(\"'t\",\"\")\n",
    "myNewsDataset['data']=myNewsDataset['data'].str.replace(\"'s\",\"\")\n",
    "myNewsDataset['data']=myNewsDataset['data'].str.replace(\"'\",\"\")\n"
   ]
  },
  {
   "cell_type": "code",
   "execution_count": 42,
   "metadata": {},
   "outputs": [
    {
     "data": {
      "text/html": [
       "<div>\n",
       "<style scoped>\n",
       "    .dataframe tbody tr th:only-of-type {\n",
       "        vertical-align: middle;\n",
       "    }\n",
       "\n",
       "    .dataframe tbody tr th {\n",
       "        vertical-align: top;\n",
       "    }\n",
       "\n",
       "    .dataframe thead th {\n",
       "        text-align: right;\n",
       "    }\n",
       "</style>\n",
       "<table border=\"1\" class=\"dataframe\">\n",
       "  <thead>\n",
       "    <tr style=\"text-align: right;\">\n",
       "      <th></th>\n",
       "      <th>CATEGORY</th>\n",
       "      <th>data_unparsed</th>\n",
       "      <th>data</th>\n",
       "    </tr>\n",
       "  </thead>\n",
       "  <tbody>\n",
       "    <tr>\n",
       "      <th>1</th>\n",
       "      <td>ENTERTAINMENT</td>\n",
       "      <td>will smith joins diplo and nicky jam for the 2...</td>\n",
       "      <td>will smith joins diplo and nicky jam for the 2...</td>\n",
       "    </tr>\n",
       "    <tr>\n",
       "      <th>2</th>\n",
       "      <td>ENTERTAINMENT</td>\n",
       "      <td>hugh grant marries for the first time at age 5...</td>\n",
       "      <td>hugh grant marries for the first time at age 5...</td>\n",
       "    </tr>\n",
       "    <tr>\n",
       "      <th>3</th>\n",
       "      <td>ENTERTAINMENT</td>\n",
       "      <td>jim carrey blasts 'castrato' adam schiff and d...</td>\n",
       "      <td>jim carrey blasts castrato adam schiff and dem...</td>\n",
       "    </tr>\n",
       "    <tr>\n",
       "      <th>4</th>\n",
       "      <td>ENTERTAINMENT</td>\n",
       "      <td>julianna margulies uses donald trump poop bags...</td>\n",
       "      <td>julianna margulies uses donald trump poop bags...</td>\n",
       "    </tr>\n",
       "    <tr>\n",
       "      <th>5</th>\n",
       "      <td>ENTERTAINMENT</td>\n",
       "      <td>morgan freeman 'devastated' that sexual harass...</td>\n",
       "      <td>morgan freeman devastated that sexual harassme...</td>\n",
       "    </tr>\n",
       "  </tbody>\n",
       "</table>\n",
       "</div>"
      ],
      "text/plain": [
       "        CATEGORY                                      data_unparsed  \\\n",
       "1  ENTERTAINMENT  will smith joins diplo and nicky jam for the 2...   \n",
       "2  ENTERTAINMENT  hugh grant marries for the first time at age 5...   \n",
       "3  ENTERTAINMENT  jim carrey blasts 'castrato' adam schiff and d...   \n",
       "4  ENTERTAINMENT  julianna margulies uses donald trump poop bags...   \n",
       "5  ENTERTAINMENT  morgan freeman 'devastated' that sexual harass...   \n",
       "\n",
       "                                                data  \n",
       "1  will smith joins diplo and nicky jam for the 2...  \n",
       "2  hugh grant marries for the first time at age 5...  \n",
       "3  jim carrey blasts castrato adam schiff and dem...  \n",
       "4  julianna margulies uses donald trump poop bags...  \n",
       "5  morgan freeman devastated that sexual harassme...  "
      ]
     },
     "execution_count": 42,
     "metadata": {},
     "output_type": "execute_result"
    }
   ],
   "source": [
    "myNewsDataset.head()"
   ]
  },
  {
   "cell_type": "code",
   "execution_count": 43,
   "metadata": {},
   "outputs": [],
   "source": [
    "myNewsDataset = myNewsDataset.drop(\"data_unparsed\",1)\n"
   ]
  },
  {
   "cell_type": "code",
   "execution_count": 44,
   "metadata": {},
   "outputs": [
    {
     "data": {
      "text/plain": [
       "'katy perry insists her new album won have a bad blood diss track but don forget that everything has a reaction'"
      ]
     },
     "execution_count": 44,
     "metadata": {},
     "output_type": "execute_result"
    }
   ],
   "source": [
    "text=myNewsDataset.loc[27205]['data']\n",
    "# print(text)\n",
    "# text.replace(\"\\'\",\"\")\n",
    "text"
   ]
  },
  {
   "cell_type": "code",
   "execution_count": 45,
   "metadata": {},
   "outputs": [
    {
     "data": {
      "text/html": [
       "<div>\n",
       "<style scoped>\n",
       "    .dataframe tbody tr th:only-of-type {\n",
       "        vertical-align: middle;\n",
       "    }\n",
       "\n",
       "    .dataframe tbody tr th {\n",
       "        vertical-align: top;\n",
       "    }\n",
       "\n",
       "    .dataframe thead th {\n",
       "        text-align: right;\n",
       "    }\n",
       "</style>\n",
       "<table border=\"1\" class=\"dataframe\">\n",
       "  <thead>\n",
       "    <tr style=\"text-align: right;\">\n",
       "      <th></th>\n",
       "      <th>CATEGORY</th>\n",
       "      <th>data</th>\n",
       "    </tr>\n",
       "  </thead>\n",
       "  <tbody>\n",
       "    <tr>\n",
       "      <th>count</th>\n",
       "      <td>81351</td>\n",
       "      <td>81351</td>\n",
       "    </tr>\n",
       "    <tr>\n",
       "      <th>unique</th>\n",
       "      <td>8</td>\n",
       "      <td>81261</td>\n",
       "    </tr>\n",
       "    <tr>\n",
       "      <th>top</th>\n",
       "      <td>POLITICS</td>\n",
       "      <td>watch the top 9 youtube videos of the week if ...</td>\n",
       "    </tr>\n",
       "    <tr>\n",
       "      <th>freq</th>\n",
       "      <td>32739</td>\n",
       "      <td>46</td>\n",
       "    </tr>\n",
       "  </tbody>\n",
       "</table>\n",
       "</div>"
      ],
      "text/plain": [
       "        CATEGORY                                               data\n",
       "count      81351                                              81351\n",
       "unique         8                                              81261\n",
       "top     POLITICS  watch the top 9 youtube videos of the week if ...\n",
       "freq       32739                                                 46"
      ]
     },
     "execution_count": 45,
     "metadata": {},
     "output_type": "execute_result"
    }
   ],
   "source": [
    "myNewsDataset.describe()\n"
   ]
  },
  {
   "cell_type": "code",
   "execution_count": 46,
   "metadata": {},
   "outputs": [],
   "source": [
    "myNewsDataset.drop_duplicates(keep=False, inplace=True)"
   ]
  },
  {
   "cell_type": "code",
   "execution_count": 47,
   "metadata": {},
   "outputs": [
    {
     "data": {
      "text/html": [
       "<div>\n",
       "<style scoped>\n",
       "    .dataframe tbody tr th:only-of-type {\n",
       "        vertical-align: middle;\n",
       "    }\n",
       "\n",
       "    .dataframe tbody tr th {\n",
       "        vertical-align: top;\n",
       "    }\n",
       "\n",
       "    .dataframe thead th {\n",
       "        text-align: right;\n",
       "    }\n",
       "</style>\n",
       "<table border=\"1\" class=\"dataframe\">\n",
       "  <thead>\n",
       "    <tr style=\"text-align: right;\">\n",
       "      <th></th>\n",
       "      <th>CATEGORY</th>\n",
       "      <th>data</th>\n",
       "    </tr>\n",
       "  </thead>\n",
       "  <tbody>\n",
       "    <tr>\n",
       "      <th>count</th>\n",
       "      <td>81225</td>\n",
       "      <td>81225</td>\n",
       "    </tr>\n",
       "    <tr>\n",
       "      <th>unique</th>\n",
       "      <td>8</td>\n",
       "      <td>81223</td>\n",
       "    </tr>\n",
       "    <tr>\n",
       "      <th>top</th>\n",
       "      <td>POLITICS</td>\n",
       "      <td></td>\n",
       "    </tr>\n",
       "    <tr>\n",
       "      <th>freq</th>\n",
       "      <td>32701</td>\n",
       "      <td>3</td>\n",
       "    </tr>\n",
       "  </tbody>\n",
       "</table>\n",
       "</div>"
      ],
      "text/plain": [
       "        CATEGORY   data\n",
       "count      81225  81225\n",
       "unique         8  81223\n",
       "top     POLITICS       \n",
       "freq       32701      3"
      ]
     },
     "execution_count": 47,
     "metadata": {},
     "output_type": "execute_result"
    }
   ],
   "source": [
    "myNewsDataset.describe()\n"
   ]
  },
  {
   "cell_type": "code",
   "execution_count": 48,
   "metadata": {},
   "outputs": [],
   "source": [
    "myNewsDataset=myNewsDataset[myNewsDataset.data != \" \"]"
   ]
  },
  {
   "cell_type": "code",
   "execution_count": 49,
   "metadata": {},
   "outputs": [
    {
     "data": {
      "text/html": [
       "<div>\n",
       "<style scoped>\n",
       "    .dataframe tbody tr th:only-of-type {\n",
       "        vertical-align: middle;\n",
       "    }\n",
       "\n",
       "    .dataframe tbody tr th {\n",
       "        vertical-align: top;\n",
       "    }\n",
       "\n",
       "    .dataframe thead th {\n",
       "        text-align: right;\n",
       "    }\n",
       "</style>\n",
       "<table border=\"1\" class=\"dataframe\">\n",
       "  <thead>\n",
       "    <tr style=\"text-align: right;\">\n",
       "      <th></th>\n",
       "      <th>CATEGORY</th>\n",
       "      <th>data</th>\n",
       "    </tr>\n",
       "  </thead>\n",
       "  <tbody>\n",
       "    <tr>\n",
       "      <th>count</th>\n",
       "      <td>81222</td>\n",
       "      <td>81222</td>\n",
       "    </tr>\n",
       "    <tr>\n",
       "      <th>unique</th>\n",
       "      <td>8</td>\n",
       "      <td>81222</td>\n",
       "    </tr>\n",
       "    <tr>\n",
       "      <th>top</th>\n",
       "      <td>POLITICS</td>\n",
       "      <td>gop rep tries rare tactic touting her bipartis...</td>\n",
       "    </tr>\n",
       "    <tr>\n",
       "      <th>freq</th>\n",
       "      <td>32700</td>\n",
       "      <td>1</td>\n",
       "    </tr>\n",
       "  </tbody>\n",
       "</table>\n",
       "</div>"
      ],
      "text/plain": [
       "        CATEGORY                                               data\n",
       "count      81222                                              81222\n",
       "unique         8                                              81222\n",
       "top     POLITICS  gop rep tries rare tactic touting her bipartis...\n",
       "freq       32700                                                  1"
      ]
     },
     "execution_count": 49,
     "metadata": {},
     "output_type": "execute_result"
    }
   ],
   "source": [
    "myNewsDataset.describe()\n"
   ]
  },
  {
   "cell_type": "code",
   "execution_count": 50,
   "metadata": {},
   "outputs": [
    {
     "data": {
      "text/html": [
       "<div>\n",
       "<style scoped>\n",
       "    .dataframe tbody tr th:only-of-type {\n",
       "        vertical-align: middle;\n",
       "    }\n",
       "\n",
       "    .dataframe tbody tr th {\n",
       "        vertical-align: top;\n",
       "    }\n",
       "\n",
       "    .dataframe thead th {\n",
       "        text-align: right;\n",
       "    }\n",
       "</style>\n",
       "<table border=\"1\" class=\"dataframe\">\n",
       "  <thead>\n",
       "    <tr style=\"text-align: right;\">\n",
       "      <th></th>\n",
       "      <th>CATEGORY</th>\n",
       "      <th>data</th>\n",
       "    </tr>\n",
       "  </thead>\n",
       "  <tbody>\n",
       "    <tr>\n",
       "      <th>1</th>\n",
       "      <td>ENTERTAINMENT</td>\n",
       "      <td>will smith joins diplo and nicky jam for the 2...</td>\n",
       "    </tr>\n",
       "    <tr>\n",
       "      <th>2</th>\n",
       "      <td>ENTERTAINMENT</td>\n",
       "      <td>hugh grant marries for the first time at age 5...</td>\n",
       "    </tr>\n",
       "    <tr>\n",
       "      <th>3</th>\n",
       "      <td>ENTERTAINMENT</td>\n",
       "      <td>jim carrey blasts castrato adam schiff and dem...</td>\n",
       "    </tr>\n",
       "    <tr>\n",
       "      <th>4</th>\n",
       "      <td>ENTERTAINMENT</td>\n",
       "      <td>julianna margulies uses donald trump poop bags...</td>\n",
       "    </tr>\n",
       "    <tr>\n",
       "      <th>5</th>\n",
       "      <td>ENTERTAINMENT</td>\n",
       "      <td>morgan freeman devastated that sexual harassme...</td>\n",
       "    </tr>\n",
       "  </tbody>\n",
       "</table>\n",
       "</div>"
      ],
      "text/plain": [
       "        CATEGORY                                               data\n",
       "1  ENTERTAINMENT  will smith joins diplo and nicky jam for the 2...\n",
       "2  ENTERTAINMENT  hugh grant marries for the first time at age 5...\n",
       "3  ENTERTAINMENT  jim carrey blasts castrato adam schiff and dem...\n",
       "4  ENTERTAINMENT  julianna margulies uses donald trump poop bags...\n",
       "5  ENTERTAINMENT  morgan freeman devastated that sexual harassme..."
      ]
     },
     "execution_count": 50,
     "metadata": {},
     "output_type": "execute_result"
    }
   ],
   "source": [
    "myNewsDataset.head()"
   ]
  },
  {
   "cell_type": "code",
   "execution_count": 51,
   "metadata": {},
   "outputs": [],
   "source": [
    "myNewsDataset['Category_label']  =myNewsDataset.CATEGORY.map({'POLITICS':0,\n",
    "                            'ENTERTAINMENT':1,\n",
    "                            'WORLDNEWS':2,         \n",
    "                            'BUSINESS':3,          \n",
    "                            'SPORTS':4,            \n",
    "                            'ARTS_CULTURE':5,      \n",
    "                            'SCIENCE':6,           \n",
    "                            'TECH':7})"
   ]
  },
  {
   "cell_type": "code",
   "execution_count": 52,
   "metadata": {},
   "outputs": [
    {
     "data": {
      "text/plain": [
       "Index(['CATEGORY', 'data', 'Category_label'], dtype='object')"
      ]
     },
     "execution_count": 52,
     "metadata": {},
     "output_type": "execute_result"
    }
   ],
   "source": [
    "myNewsDataset.columns"
   ]
  },
  {
   "cell_type": "code",
   "execution_count": 53,
   "metadata": {},
   "outputs": [
    {
     "name": "stderr",
     "output_type": "stream",
     "text": [
      "/home/felladog/anaconda3/lib/python3.7/site-packages/ipykernel_launcher.py:1: FutureWarning: Method .as_matrix will be removed in a future version. Use .values instead.\n",
      "  \"\"\"Entry point for launching an IPython kernel.\n"
     ]
    }
   ],
   "source": [
    "n_array=myNewsDataset.as_matrix()\n",
    "x_data =n_array[:,1]\n",
    "y_label =n_array[:,2]\n",
    "y_label = y_label.astype('int')"
   ]
  },
  {
   "cell_type": "code",
   "execution_count": 54,
   "metadata": {},
   "outputs": [
    {
     "data": {
      "text/html": [
       "<div>\n",
       "<style scoped>\n",
       "    .dataframe tbody tr th:only-of-type {\n",
       "        vertical-align: middle;\n",
       "    }\n",
       "\n",
       "    .dataframe tbody tr th {\n",
       "        vertical-align: top;\n",
       "    }\n",
       "\n",
       "    .dataframe thead th {\n",
       "        text-align: right;\n",
       "    }\n",
       "</style>\n",
       "<table border=\"1\" class=\"dataframe\">\n",
       "  <thead>\n",
       "    <tr style=\"text-align: right;\">\n",
       "      <th></th>\n",
       "      <th>CATEGORY</th>\n",
       "      <th>data</th>\n",
       "      <th>Category_label</th>\n",
       "    </tr>\n",
       "  </thead>\n",
       "  <tbody>\n",
       "    <tr>\n",
       "      <th>1</th>\n",
       "      <td>ENTERTAINMENT</td>\n",
       "      <td>will smith joins diplo and nicky jam for the 2...</td>\n",
       "      <td>1</td>\n",
       "    </tr>\n",
       "    <tr>\n",
       "      <th>2</th>\n",
       "      <td>ENTERTAINMENT</td>\n",
       "      <td>hugh grant marries for the first time at age 5...</td>\n",
       "      <td>1</td>\n",
       "    </tr>\n",
       "    <tr>\n",
       "      <th>3</th>\n",
       "      <td>ENTERTAINMENT</td>\n",
       "      <td>jim carrey blasts castrato adam schiff and dem...</td>\n",
       "      <td>1</td>\n",
       "    </tr>\n",
       "    <tr>\n",
       "      <th>4</th>\n",
       "      <td>ENTERTAINMENT</td>\n",
       "      <td>julianna margulies uses donald trump poop bags...</td>\n",
       "      <td>1</td>\n",
       "    </tr>\n",
       "    <tr>\n",
       "      <th>5</th>\n",
       "      <td>ENTERTAINMENT</td>\n",
       "      <td>morgan freeman devastated that sexual harassme...</td>\n",
       "      <td>1</td>\n",
       "    </tr>\n",
       "  </tbody>\n",
       "</table>\n",
       "</div>"
      ],
      "text/plain": [
       "        CATEGORY                                               data  \\\n",
       "1  ENTERTAINMENT  will smith joins diplo and nicky jam for the 2...   \n",
       "2  ENTERTAINMENT  hugh grant marries for the first time at age 5...   \n",
       "3  ENTERTAINMENT  jim carrey blasts castrato adam schiff and dem...   \n",
       "4  ENTERTAINMENT  julianna margulies uses donald trump poop bags...   \n",
       "5  ENTERTAINMENT  morgan freeman devastated that sexual harassme...   \n",
       "\n",
       "   Category_label  \n",
       "1               1  \n",
       "2               1  \n",
       "3               1  \n",
       "4               1  \n",
       "5               1  "
      ]
     },
     "execution_count": 54,
     "metadata": {},
     "output_type": "execute_result"
    }
   ],
   "source": [
    "myNewsDataset.head()"
   ]
  },
  {
   "cell_type": "code",
   "execution_count": null,
   "metadata": {},
   "outputs": [],
   "source": []
  },
  {
   "cell_type": "markdown",
   "metadata": {},
   "source": [
    "### ----------------- Cleaning Ends ---------------"
   ]
  },
  {
   "cell_type": "code",
   "execution_count": 55,
   "metadata": {},
   "outputs": [],
   "source": [
    "# visualizing"
   ]
  },
  {
   "cell_type": "code",
   "execution_count": 56,
   "metadata": {},
   "outputs": [],
   "source": [
    "sns.set_style(\"whitegrid\")\n"
   ]
  },
  {
   "cell_type": "code",
   "execution_count": 57,
   "metadata": {},
   "outputs": [
    {
     "data": {
      "text/plain": [
       "<matplotlib.axes._subplots.AxesSubplot at 0x7f81fa0ffba8>"
      ]
     },
     "execution_count": 57,
     "metadata": {},
     "output_type": "execute_result"
    },
    {
     "data": {
      "image/png": "[encoded data removed]",
      "text/plain": [
       "<Figure size 432x288 with 1 Axes>"
      ]
     },
     "metadata": {},
     "output_type": "display_data"
    }
   ],
   "source": [
    "sns.countplot(y=myNewsDataset.CATEGORY,linewidth=5,)"
   ]
  },
  {
   "cell_type": "code",
   "execution_count": 58,
   "metadata": {},
   "outputs": [
    {
     "data": {
      "text/plain": [
       "81222"
      ]
     },
     "execution_count": 58,
     "metadata": {},
     "output_type": "execute_result"
    }
   ],
   "source": [
    "len(myNewsDataset.CATEGORY)\n"
   ]
  },
  {
   "cell_type": "code",
   "execution_count": 59,
   "metadata": {},
   "outputs": [
    {
     "name": "stdout",
     "output_type": "stream",
     "text": [
      "32700\n",
      "21209\n",
      "8417\n",
      "5932\n",
      "4884\n",
      "3874\n",
      "2178\n",
      "2028\n"
     ]
    }
   ],
   "source": [
    "value_counts=myNewsDataset.CATEGORY.value_counts()\n",
    "# int(value_counts)\n",
    "for v in value_counts:\n",
    "    print(int(v))"
   ]
  },
  {
   "cell_type": "code",
   "execution_count": null,
   "metadata": {},
   "outputs": [],
   "source": []
  },
  {
   "cell_type": "markdown",
   "metadata": {},
   "source": [
    "# Spliting The Dataset"
   ]
  },
  {
   "cell_type": "code",
   "execution_count": 60,
   "metadata": {},
   "outputs": [],
   "source": [
    "train_set,test_set = train_test_split(myNewsDataset,test_size=0.2,random_state=42)"
   ]
  },
  {
   "cell_type": "code",
   "execution_count": 61,
   "metadata": {},
   "outputs": [
    {
     "data": {
      "text/plain": [
       "POLITICS         26189\n",
       "ENTERTAINMENT    16974\n",
       "WORLDNEWS         6709\n",
       "BUSINESS          4737\n",
       "SPORTS            3923\n",
       "ARTS_CULTURE      3084\n",
       "SCIENCE           1732\n",
       "TECH              1629\n",
       "Name: CATEGORY, dtype: int64"
      ]
     },
     "execution_count": 61,
     "metadata": {},
     "output_type": "execute_result"
    }
   ],
   "source": [
    "train_set.CATEGORY.value_counts()\n",
    "# test_set.CATEGORY.value_counts()"
   ]
  },
  {
   "cell_type": "code",
   "execution_count": 62,
   "metadata": {},
   "outputs": [
    {
     "data": {
      "text/html": [
       "<div>\n",
       "<style scoped>\n",
       "    .dataframe tbody tr th:only-of-type {\n",
       "        vertical-align: middle;\n",
       "    }\n",
       "\n",
       "    .dataframe tbody tr th {\n",
       "        vertical-align: top;\n",
       "    }\n",
       "\n",
       "    .dataframe thead th {\n",
       "        text-align: right;\n",
       "    }\n",
       "</style>\n",
       "<table border=\"1\" class=\"dataframe\">\n",
       "  <thead>\n",
       "    <tr style=\"text-align: right;\">\n",
       "      <th></th>\n",
       "      <th>CATEGORY</th>\n",
       "      <th>data</th>\n",
       "      <th>Category_label</th>\n",
       "    </tr>\n",
       "  </thead>\n",
       "  <tbody>\n",
       "    <tr>\n",
       "      <th>71201</th>\n",
       "      <td>ARTS_CULTURE</td>\n",
       "      <td>what experts got wrong about the relationship ...</td>\n",
       "      <td>5</td>\n",
       "    </tr>\n",
       "    <tr>\n",
       "      <th>180721</th>\n",
       "      <td>ENTERTAINMENT</td>\n",
       "      <td>i don give a rat ass about the republican nati...</td>\n",
       "      <td>1</td>\n",
       "    </tr>\n",
       "    <tr>\n",
       "      <th>40398</th>\n",
       "      <td>ARTS_CULTURE</td>\n",
       "      <td>artist chronicles her transition in hilarious ...</td>\n",
       "      <td>5</td>\n",
       "    </tr>\n",
       "    <tr>\n",
       "      <th>2480</th>\n",
       "      <td>POLITICS</td>\n",
       "      <td>coal baron subsidize coal ‘to make sure grandm...</td>\n",
       "      <td>0</td>\n",
       "    </tr>\n",
       "    <tr>\n",
       "      <th>25223</th>\n",
       "      <td>POLITICS</td>\n",
       "      <td>donald trump reportedly plans to withdraw from...</td>\n",
       "      <td>0</td>\n",
       "    </tr>\n",
       "  </tbody>\n",
       "</table>\n",
       "</div>"
      ],
      "text/plain": [
       "             CATEGORY                                               data  \\\n",
       "71201    ARTS_CULTURE  what experts got wrong about the relationship ...   \n",
       "180721  ENTERTAINMENT  i don give a rat ass about the republican nati...   \n",
       "40398    ARTS_CULTURE  artist chronicles her transition in hilarious ...   \n",
       "2480         POLITICS  coal baron subsidize coal ‘to make sure grandm...   \n",
       "25223        POLITICS  donald trump reportedly plans to withdraw from...   \n",
       "\n",
       "        Category_label  \n",
       "71201                5  \n",
       "180721               1  \n",
       "40398                5  \n",
       "2480                 0  \n",
       "25223                0  "
      ]
     },
     "execution_count": 62,
     "metadata": {},
     "output_type": "execute_result"
    }
   ],
   "source": [
    "from sklearn.model_selection import StratifiedShuffleSplit\n",
    "\n",
    "split = StratifiedShuffleSplit(n_splits=1, test_size=0.2, random_state=42)\n",
    "for train_index, test_index in split.split(myNewsDataset, myNewsDataset[\"Category_label\"]):\n",
    "    strat_train_set = myNewsDataset.iloc[train_index]\n",
    "    strat_test_set = myNewsDataset.iloc[test_index]\n",
    "strat_train_set.head()"
   ]
  },
  {
   "cell_type": "code",
   "execution_count": 63,
   "metadata": {},
   "outputs": [
    {
     "name": "stdout",
     "output_type": "stream",
     "text": [
      "<class 'pandas.core.frame.DataFrame'>\n",
      "Int64Index: 16245 entries, 95713 to 111073\n",
      "Data columns (total 3 columns):\n",
      "CATEGORY          16245 non-null object\n",
      "data              16245 non-null object\n",
      "Category_label    16245 non-null int64\n",
      "dtypes: int64(1), object(2)\n",
      "memory usage: 507.7+ KB\n"
     ]
    }
   ],
   "source": [
    "strat_test_set.info()"
   ]
  },
  {
   "cell_type": "code",
   "execution_count": 64,
   "metadata": {},
   "outputs": [],
   "source": [
    "# strat_train_set == is our training set\n",
    "# strat_test_set == test set"
   ]
  },
  {
   "cell_type": "markdown",
   "metadata": {},
   "source": [
    "# CountVectorizer"
   ]
  },
  {
   "cell_type": "code",
   "execution_count": 65,
   "metadata": {},
   "outputs": [],
   "source": [
    "from sklearn.feature_extraction.text import CountVectorizer\n"
   ]
  },
  {
   "cell_type": "code",
   "execution_count": 66,
   "metadata": {},
   "outputs": [],
   "source": [
    "cvec = CountVectorizer(stop_words=\"english\")\n",
    "x_train_data = cvec.fit(strat_train_set.data)\n",
    "x_train_transform = cvec.transform(strat_train_set.data)\n",
    "#transform the x_test data as per CountVectorizer from x_train data\n",
    "x_test_transform = cvec.transform(strat_test_set.data)"
   ]
  },
  {
   "cell_type": "code",
   "execution_count": 67,
   "metadata": {},
   "outputs": [
    {
     "data": {
      "text/plain": [
       "<64977x56656 sparse matrix of type '<class 'numpy.int64'>'\n",
       "\twith 911825 stored elements in Compressed Sparse Row format>"
      ]
     },
     "execution_count": 67,
     "metadata": {},
     "output_type": "execute_result"
    }
   ],
   "source": [
    "x_train_transform"
   ]
  },
  {
   "cell_type": "code",
   "execution_count": 68,
   "metadata": {},
   "outputs": [
    {
     "data": {
      "text/plain": [
       "<16245x56656 sparse matrix of type '<class 'numpy.int64'>'\n",
       "\twith 221898 stored elements in Compressed Sparse Row format>"
      ]
     },
     "execution_count": 68,
     "metadata": {},
     "output_type": "execute_result"
    }
   ],
   "source": [
    "x_test_transform"
   ]
  },
  {
   "cell_type": "code",
   "execution_count": 69,
   "metadata": {},
   "outputs": [],
   "source": [
    "y_train = strat_train_set.Category_label\n",
    "y_test = strat_test_set.Category_label\n"
   ]
  },
  {
   "cell_type": "markdown",
   "metadata": {},
   "source": []
  },
  {
   "cell_type": "code",
   "execution_count": 96,
   "metadata": {},
   "outputs": [],
   "source": []
  },
  {
   "cell_type": "code",
   "execution_count": 97,
   "metadata": {},
   "outputs": [],
   "source": []
  },
  {
   "cell_type": "markdown",
   "metadata": {},
   "source": [
    "<img src=\"03_bayes_rule_naive_bayes_new.png\">"
   ]
  },
  {
   "cell_type": "markdown",
   "metadata": {},
   "source": [
    "<img src=\"04_naive_bayes_interpretation_new.png\">"
   ]
  },
  {
   "cell_type": "markdown",
   "metadata": {},
   "source": [
    "# Multinomial NB"
   ]
  },
  {
   "cell_type": "code",
   "execution_count": 127,
   "metadata": {},
   "outputs": [],
   "source": [
    "from sklearn.naive_bayes import MultinomialNB\n",
    "from sklearn.model_selection import GridSearchCV\n",
    "from sklearn.metrics import classification_report, confusion_matrix, accuracy_score"
   ]
  },
  {
   "cell_type": "code",
   "execution_count": 128,
   "metadata": {},
   "outputs": [],
   "source": [
    "NBmodel = MultinomialNB()\n"
   ]
  },
  {
   "cell_type": "code",
   "execution_count": 129,
   "metadata": {},
   "outputs": [
    {
     "data": {
      "text/plain": [
       "MultinomialNB(alpha=1.0, class_prior=None, fit_prior=True)"
      ]
     },
     "execution_count": 129,
     "metadata": {},
     "output_type": "execute_result"
    }
   ],
   "source": [
    "# fitting\n",
    "NBmodel.fit(x_train_transform,y_train)"
   ]
  },
  {
   "cell_type": "code",
   "execution_count": 130,
   "metadata": {},
   "outputs": [],
   "source": [
    "#Predicting x_test set\n",
    "y_pred_class = NBmodel.predict(x_test_transform)"
   ]
  },
  {
   "cell_type": "code",
   "execution_count": 131,
   "metadata": {},
   "outputs": [
    {
     "name": "stdout",
     "output_type": "stream",
     "text": [
      "0  --------  3\n",
      "2  --------  2\n",
      "0  --------  4\n",
      "1  --------  1\n",
      "0  --------  0\n"
     ]
    }
   ],
   "source": [
    "length=0\n",
    "for i,j in zip(y_pred_class,y_test):\n",
    "    length+=1\n",
    "    print(i,\" -------- \",j)\n",
    "    if length==5:\n",
    "        break"
   ]
  },
  {
   "cell_type": "code",
   "execution_count": 132,
   "metadata": {},
   "outputs": [
    {
     "data": {
      "text/plain": [
       "0.7980917205293937"
      ]
     },
     "execution_count": 132,
     "metadata": {},
     "output_type": "execute_result"
    }
   ],
   "source": [
    "# measuring accuracy\n",
    "from sklearn import metrics\n",
    "metrics.accuracy_score(y_test,y_pred_class)"
   ]
  },
  {
   "cell_type": "code",
   "execution_count": 133,
   "metadata": {},
   "outputs": [
    {
     "name": "stdout",
     "output_type": "stream",
     "text": [
      "[[5885  262  253  107   14   10    2    7]\n",
      " [ 391 3726   19   49   21   30    4    2]\n",
      " [ 314   62 1243   36    4   15    5    4]\n",
      " [ 268  104   36  752    7    8    0   11]\n",
      " [ 102  155   36   14  668    1    1    0]\n",
      " [  55  295   30   26    3  359    5    2]\n",
      " [  68   87   16   30    9    8  215    3]\n",
      " [  97   79   11   94    1    4    3  117]]\n"
     ]
    }
   ],
   "source": [
    "# confusion matrix\n",
    "confusion_matrix = metrics.confusion_matrix(y_test,y_pred_class)\n",
    "print(confusion_matrix)"
   ]
  },
  {
   "cell_type": "code",
   "execution_count": 104,
   "metadata": {},
   "outputs": [
    {
     "data": {
      "text/plain": [
       "(8, 8)"
      ]
     },
     "execution_count": 104,
     "metadata": {},
     "output_type": "execute_result"
    }
   ],
   "source": [
    "confusion_matrix.shape"
   ]
  },
  {
   "cell_type": "code",
   "execution_count": 134,
   "metadata": {},
   "outputs": [
    {
     "name": "stdout",
     "output_type": "stream",
     "text": [
      "Classification report\n",
      "              precision    recall  f1-score   support\n",
      "\n",
      "           0       0.82      0.90      0.86      6540\n",
      "           1       0.78      0.88      0.83      4242\n",
      "           2       0.76      0.74      0.75      1683\n",
      "           3       0.68      0.63      0.66      1186\n",
      "           4       0.92      0.68      0.78       977\n",
      "           5       0.83      0.46      0.59       775\n",
      "           6       0.91      0.49      0.64       436\n",
      "           7       0.80      0.29      0.42       406\n",
      "\n",
      "   micro avg       0.80      0.80      0.80     16245\n",
      "   macro avg       0.81      0.63      0.69     16245\n",
      "weighted avg       0.80      0.80      0.79     16245\n",
      "\n"
     ]
    }
   ],
   "source": [
    "# Classification report\n",
    "print(\"Classification report\")\n",
    "print(classification_report(y_test,y_pred_class))\n"
   ]
  },
  {
   "cell_type": "code",
   "execution_count": 81,
   "metadata": {},
   "outputs": [],
   "source": [
    "# 'POLITICS':0,\n",
    "# 'ENTERTAINMENT':1,\n",
    "# 'WORLDNEWS':2,         \n",
    "# 'BUSINESS':3,          \n",
    "# 'SPORTS':4,            \n",
    "# 'ARTS_CULTURE':5,      \n",
    "# 'SCIENCE':6,           \n",
    "# 'TECH':7"
   ]
  },
  {
   "cell_type": "code",
   "execution_count": 110,
   "metadata": {},
   "outputs": [
    {
     "data": {
      "image/png": "[encoded data removed]",
      "text/plain": [
       "<Figure size 432x288 with 2 Axes>"
      ]
     },
     "metadata": {},
     "output_type": "display_data"
    }
   ],
   "source": [
    "import seaborn as sns;\n",
    "heat_map = sns.heatmap(confusion_matrix,cmap=\"YlGnBu\",  annot=True,\n",
    "\n",
    "                       xticklabels=[\"POLITICS\",\"ENTERTAINMENT\",\"WORLDNEWS\",\"BUSINESS\",\"SPORTS\",\"ArtsC\",\"Science\",\"TECH\"],\n",
    "                       yticklabels=[\"POLITICS\",\"ENTERTAINMENT\",\"WORLDNEWS\",\"BUSINESS\",\"SPORTS\",\"ArtsC\",\"Science\",\"TECH\"])"
   ]
  },
  {
   "cell_type": "code",
   "execution_count": null,
   "metadata": {},
   "outputs": [],
   "source": [
    "n_m = confusion_matrix / confusion_matrix.astype(np.float).sum(axis=1)"
   ]
  },
  {
   "cell_type": "code",
   "execution_count": null,
   "metadata": {},
   "outputs": [],
   "source": [
    "clean_n_m=(np.around(n_m,decimals=3))\n",
    "clean_n_m"
   ]
  },
  {
   "cell_type": "code",
   "execution_count": null,
   "metadata": {},
   "outputs": [],
   "source": [
    "import seaborn as sns;\n",
    "\n",
    "heat_map = sns.heatmap(clean_n_m,cmap=\"YlGnBu\",\n",
    "                       xticklabels=[\"POLITICS\",\"ENTERTAINMENT\",\"WORLDNEWS\",\"BUSINESS\",\"SPORTS\",\"ArtsC\",\"Science\",\"TECH\"],\n",
    "                       yticklabels=[\"POLITICS\",\"ENTERTAINMENT\",\"WORLDNEWS\",\"BUSINESS\",\"SPORTS\",\"ArtsC\",\"Science\",\"TECH\"])"
   ]
  },
  {
   "cell_type": "code",
   "execution_count": null,
   "metadata": {},
   "outputs": [],
   "source": []
  },
  {
   "cell_type": "markdown",
   "metadata": {},
   "source": [
    "# My test"
   ]
  },
  {
   "cell_type": "code",
   "execution_count": 117,
   "metadata": {},
   "outputs": [],
   "source": [
    "doc= [\"Patriots' Cardona promoted to lieutenant in Navy Joe Cardona, who has spent his entire NFL career with the Patriots balancing his football and active-duty commitments, has been promoted to the rank of lieutenant in the U.S. Navy.\"]"
   ]
  },
  {
   "cell_type": "code",
   "execution_count": 118,
   "metadata": {},
   "outputs": [],
   "source": [
    "docx = cvec.transform(doc)"
   ]
  },
  {
   "cell_type": "code",
   "execution_count": 119,
   "metadata": {},
   "outputs": [
    {
     "name": "stdout",
     "output_type": "stream",
     "text": [
      "  (0, 2302)\t1\n",
      "  (0, 5494)\t1\n",
      "  (0, 9035)\t2\n",
      "  (0, 9044)\t1\n",
      "  (0, 11159)\t1\n",
      "  (0, 16184)\t1\n",
      "  (0, 17327)\t1\n",
      "  (0, 19946)\t1\n",
      "  (0, 27332)\t1\n",
      "  (0, 29638)\t2\n",
      "  (0, 34214)\t2\n",
      "  (0, 34608)\t1\n",
      "  (0, 37370)\t2\n",
      "  (0, 39989)\t2\n",
      "  (0, 41056)\t1\n",
      "  (0, 47541)\t1\n"
     ]
    }
   ],
   "source": [
    "print(docx)"
   ]
  },
  {
   "cell_type": "code",
   "execution_count": 120,
   "metadata": {},
   "outputs": [
    {
     "data": {
      "text/plain": [
       "array([4])"
      ]
     },
     "execution_count": 120,
     "metadata": {},
     "output_type": "execute_result"
    }
   ],
   "source": [
    "docp = NBmodel.predict(docx)\n",
    "docp"
   ]
  },
  {
   "cell_type": "code",
   "execution_count": 121,
   "metadata": {},
   "outputs": [],
   "source": [
    "# Pipeplines \n",
    "myNBmodel = Pipeline([('cvec',CountVectorizer(stop_words=\"english\")),\n",
    "                       ('clf',MultinomialNB()),\n",
    "                     ])"
   ]
  },
  {
   "cell_type": "code",
   "execution_count": 122,
   "metadata": {},
   "outputs": [
    {
     "data": {
      "text/plain": [
       "Pipeline(memory=None,\n",
       "     steps=[('cvec', CountVectorizer(analyzer='word', binary=False, decode_error='strict',\n",
       "        dtype=<class 'numpy.int64'>, encoding='utf-8', input='content',\n",
       "        lowercase=True, max_df=1.0, max_features=None, min_df=1,\n",
       "        ngram_range=(1, 1), preprocessor=None, stop_words='english',\n",
       "        strip_accents=None, token_pattern='(?u)\\\\b\\\\w\\\\w+\\\\b',\n",
       "        tokenizer=None, vocabulary=None)), ('clf', MultinomialNB(alpha=1.0, class_prior=None, fit_prior=True))])"
      ]
     },
     "execution_count": 122,
     "metadata": {},
     "output_type": "execute_result"
    }
   ],
   "source": [
    "myNBmodel.fit(strat_train_set.data,y_train)"
   ]
  },
  {
   "cell_type": "code",
   "execution_count": 123,
   "metadata": {},
   "outputs": [],
   "source": [
    "y_pred_class = myNBmodel.predict(strat_test_set.data)"
   ]
  },
  {
   "cell_type": "code",
   "execution_count": 124,
   "metadata": {},
   "outputs": [
    {
     "data": {
      "text/plain": [
       "0.7980917205293937"
      ]
     },
     "execution_count": 124,
     "metadata": {},
     "output_type": "execute_result"
    }
   ],
   "source": [
    "# measuring accuracy\n",
    "from sklearn import metrics\n",
    "metrics.accuracy_score(y_test,y_pred_class)"
   ]
  },
  {
   "cell_type": "code",
   "execution_count": 125,
   "metadata": {},
   "outputs": [],
   "source": [
    "p =myNBmodel.predict(doc)"
   ]
  },
  {
   "cell_type": "code",
   "execution_count": null,
   "metadata": {},
   "outputs": [],
   "source": [
    "import pickle"
   ]
  },
  {
   "cell_type": "code",
   "execution_count": null,
   "metadata": {},
   "outputs": [],
   "source": [
    "# Saving model to disk\n",
    "pickle.dump(myNBmodel, open('myNBmodel.pkl','wb'))\n"
   ]
  },
  {
   "cell_type": "code",
   "execution_count": null,
   "metadata": {},
   "outputs": [],
   "source": [
    "\n",
    "# Loading model to compare the results\n",
    "myNBmodel = pickle.load( open('myNBmodel.pkl','rb'))"
   ]
  },
  {
   "cell_type": "code",
   "execution_count": null,
   "metadata": {},
   "outputs": [],
   "source": [
    "myNBmodel.predict(doc)"
   ]
  },
  {
   "cell_type": "markdown",
   "metadata": {},
   "source": [
    "# Complement NB"
   ]
  },
  {
   "cell_type": "markdown",
   "metadata": {},
   "source": [
    "\n",
    "- Now, for Complement Normal Naive Bayes, instead of calculating the likelihood of a word occuring in a class, we calculate the likelihood that it occurs in other classes. So, we would proceed to calculate the word-class dependencies\n",
    "- So, the one with the lower probability (minimum value) is said to be the class it belongs to . We DON'T use the one with the maximum probability because for the Complement Naive Bayes Algorithm, we take it - a higher value - to mean that it is highly likely that a document with these words does NOT belong to that class.\n",
    "\n"
   ]
  },
  {
   "cell_type": "code",
   "execution_count": 76,
   "metadata": {},
   "outputs": [],
   "source": [
    "from sklearn.naive_bayes import ComplementNB"
   ]
  },
  {
   "cell_type": "code",
   "execution_count": 135,
   "metadata": {},
   "outputs": [],
   "source": [
    "pcomp = Pipeline([('tfidf', TfidfVectorizer(stop_words=\"english\")),\n",
    "               ('cnb',ComplementNB()),\n",
    "              ])\n"
   ]
  },
  {
   "cell_type": "code",
   "execution_count": 136,
   "metadata": {},
   "outputs": [
    {
     "data": {
      "text/plain": [
       "Pipeline(memory=None,\n",
       "     steps=[('tfidf', TfidfVectorizer(analyzer='word', binary=False, decode_error='strict',\n",
       "        dtype=<class 'numpy.float64'>, encoding='utf-8', input='content',\n",
       "        lowercase=True, max_df=1.0, max_features=None, min_df=1,\n",
       "        ngram_range=(1, 1), norm='l2', preprocessor=None, smooth_idf=True,...  vocabulary=None)), ('cnb', ComplementNB(alpha=1.0, class_prior=None, fit_prior=True, norm=False))])"
      ]
     },
     "execution_count": 136,
     "metadata": {},
     "output_type": "execute_result"
    }
   ],
   "source": [
    "pcomp.fit(strat_train_set.data,y_train)\n"
   ]
  },
  {
   "cell_type": "code",
   "execution_count": 137,
   "metadata": {},
   "outputs": [],
   "source": [
    "y_pred_class=pcomp.predict(strat_test_set.data)"
   ]
  },
  {
   "cell_type": "code",
   "execution_count": 138,
   "metadata": {},
   "outputs": [
    {
     "data": {
      "text/plain": [
       "0.809664512157587"
      ]
     },
     "execution_count": 138,
     "metadata": {},
     "output_type": "execute_result"
    }
   ],
   "source": [
    "# measuring accuracy\n",
    "from sklearn import metrics\n",
    "metrics.accuracy_score(y_test,y_pred_class)"
   ]
  },
  {
   "cell_type": "code",
   "execution_count": 139,
   "metadata": {},
   "outputs": [
    {
     "name": "stdout",
     "output_type": "stream",
     "text": [
      "[[5951  219  235   68   34   17    5   11]\n",
      " [ 339 3767   24   34   27   29    9   13]\n",
      " [ 355   58 1194   23   15   18   15    5]\n",
      " [ 321  102   46  664   16   16    2   19]\n",
      " [  77  120   25    8  745    2    0    0]\n",
      " [  43  280   27   19    6  385   10    5]\n",
      " [  52   50   14   11    6    7  291    5]\n",
      " [ 101   62   13   59    1    7    7  156]]\n"
     ]
    }
   ],
   "source": [
    "# confusion matrix\n",
    "confusion_matrix = metrics.confusion_matrix(y_test,y_pred_class)\n",
    "print(confusion_matrix)"
   ]
  },
  {
   "cell_type": "code",
   "execution_count": null,
   "metadata": {},
   "outputs": [],
   "source": []
  },
  {
   "cell_type": "markdown",
   "metadata": {},
   "source": [
    "# ----count"
   ]
  },
  {
   "cell_type": "code",
   "execution_count": 140,
   "metadata": {},
   "outputs": [],
   "source": [
    "# Pipeplines \n",
    "myCBmodel = Pipeline([('cvec',CountVectorizer(stop_words=\"english\")),\n",
    "                       ('clf',ComplementNB()),\n",
    "                     ])"
   ]
  },
  {
   "cell_type": "code",
   "execution_count": 141,
   "metadata": {},
   "outputs": [
    {
     "data": {
      "text/plain": [
       "Pipeline(memory=None,\n",
       "     steps=[('cvec', CountVectorizer(analyzer='word', binary=False, decode_error='strict',\n",
       "        dtype=<class 'numpy.int64'>, encoding='utf-8', input='content',\n",
       "        lowercase=True, max_df=1.0, max_features=None, min_df=1,\n",
       "        ngram_range=(1, 1), preprocessor=None, stop_words='english',\n",
       "        strip_accents=None, token_pattern='(?u)\\\\b\\\\w\\\\w+\\\\b',\n",
       "        tokenizer=None, vocabulary=None)), ('clf', ComplementNB(alpha=1.0, class_prior=None, fit_prior=True, norm=False))])"
      ]
     },
     "execution_count": 141,
     "metadata": {},
     "output_type": "execute_result"
    }
   ],
   "source": [
    "myCBmodel.fit(strat_train_set.data,y_train)\n"
   ]
  },
  {
   "cell_type": "code",
   "execution_count": 142,
   "metadata": {},
   "outputs": [],
   "source": [
    "y_pred_class=myCBmodel.predict(strat_test_set.data)"
   ]
  },
  {
   "cell_type": "code",
   "execution_count": 143,
   "metadata": {},
   "outputs": [
    {
     "data": {
      "text/plain": [
       "0.8188365650969529"
      ]
     },
     "execution_count": 143,
     "metadata": {},
     "output_type": "execute_result"
    }
   ],
   "source": [
    "# measuring accuracy\n",
    "from sklearn import metrics\n",
    "metrics.accuracy_score(y_test,y_pred_class)"
   ]
  },
  {
   "cell_type": "code",
   "execution_count": 144,
   "metadata": {},
   "outputs": [
    {
     "name": "stdout",
     "output_type": "stream",
     "text": [
      "[[5843  225  277  107   42   20   11   15]\n",
      " [ 301 3775   27   55   29   30   11   14]\n",
      " [ 251   60 1275   35   16   24   17    5]\n",
      " [ 232   95   45  752   14   19    5   24]\n",
      " [  52  113   31   12  766    2    1    0]\n",
      " [  28  263   28   20    7  412   12    5]\n",
      " [  34   51   14   12    9   11  299    6]\n",
      " [  60   57   14   74    3    8   10  180]]\n"
     ]
    }
   ],
   "source": [
    "confusion_matrix = metrics.confusion_matrix(y_test,y_pred_class)\n",
    "print(confusion_matrix)"
   ]
  },
  {
   "cell_type": "code",
   "execution_count": 145,
   "metadata": {},
   "outputs": [
    {
     "data": {
      "image/png": "[encoded data removed]",
      "text/plain": [
       "<Figure size 432x288 with 2 Axes>"
      ]
     },
     "metadata": {},
     "output_type": "display_data"
    }
   ],
   "source": [
    "import seaborn as sns;\n",
    "heat_map = sns.heatmap(confusion_matrix,color=\"Blue\",annot=True,\n",
    "                       xticklabels=[\"POLITICS\",\"ENTERTAINMENT\",\"WORLDNEWS\",\"BUSINESS\",\"SPORTS\",\"ArtsC\",\"Science\",\"TECH\"],\n",
    "                       yticklabels=[\"POLITICS\",\"ENTERTAINMENT\",\"WORLDNEWS\",\"BUSINESS\",\"SPORTS\",\"ArtsC\",\"Science\",\"TECH\"])"
   ]
  },
  {
   "cell_type": "code",
   "execution_count": 146,
   "metadata": {},
   "outputs": [
    {
     "name": "stdout",
     "output_type": "stream",
     "text": [
      "Classification report\n",
      "              precision    recall  f1-score   support\n",
      "\n",
      "           0       0.86      0.89      0.88      6540\n",
      "           1       0.81      0.89      0.85      4242\n",
      "           2       0.75      0.76      0.75      1683\n",
      "           3       0.70      0.63      0.67      1186\n",
      "           4       0.86      0.78      0.82       977\n",
      "           5       0.78      0.53      0.63       775\n",
      "           6       0.82      0.69      0.75       436\n",
      "           7       0.72      0.44      0.55       406\n",
      "\n",
      "   micro avg       0.82      0.82      0.82     16245\n",
      "   macro avg       0.79      0.70      0.74     16245\n",
      "weighted avg       0.82      0.82      0.81     16245\n",
      "\n"
     ]
    }
   ],
   "source": [
    "# Classification report\n",
    "print(\"Classification report\")\n",
    "print(classification_report(y_test,y_pred_class))\n"
   ]
  },
  {
   "cell_type": "code",
   "execution_count": 107,
   "metadata": {},
   "outputs": [],
   "source": [
    "import pickle\n"
   ]
  },
  {
   "cell_type": "code",
   "execution_count": 109,
   "metadata": {},
   "outputs": [],
   "source": [
    "pickle.dump(myCBmodel, open('myCBmodel.pkl','wb'))\n"
   ]
  },
  {
   "cell_type": "code",
   "execution_count": null,
   "metadata": {},
   "outputs": [],
   "source": []
  },
  {
   "cell_type": "code",
   "execution_count": null,
   "metadata": {},
   "outputs": [],
   "source": []
  },
  {
   "cell_type": "code",
   "execution_count": null,
   "metadata": {},
   "outputs": [],
   "source": []
  },
  {
   "cell_type": "code",
   "execution_count": null,
   "metadata": {},
   "outputs": [],
   "source": []
  },
  {
   "cell_type": "markdown",
   "metadata": {},
   "source": [
    "#  ---  GOOD BYE ---"
   ]
  },
  {
   "cell_type": "code",
   "execution_count": null,
   "metadata": {},
   "outputs": [],
   "source": []
  },
  {
   "cell_type": "code",
   "execution_count": null,
   "metadata": {},
   "outputs": [],
   "source": []
  },
  {
   "cell_type": "code",
   "execution_count": null,
   "metadata": {},
   "outputs": [],
   "source": []
  },
  {
   "cell_type": "code",
   "execution_count": null,
   "metadata": {},
   "outputs": [],
   "source": []
  },
  {
   "cell_type": "code",
   "execution_count": null,
   "metadata": {},
   "outputs": [],
   "source": []
  },
  {
   "cell_type": "code",
   "execution_count": null,
   "metadata": {},
   "outputs": [],
   "source": []
  },
  {
   "cell_type": "code",
   "execution_count": null,
   "metadata": {},
   "outputs": [],
   "source": []
  },
  {
   "cell_type": "markdown",
   "metadata": {},
   "source": [
    "# Support Vector Machine"
   ]
  },
  {
   "cell_type": "code",
   "execution_count": 163,
   "metadata": {},
   "outputs": [],
   "source": [
    "from sklearn.svm import LinearSVC"
   ]
  },
  {
   "cell_type": "code",
   "execution_count": 169,
   "metadata": {},
   "outputs": [],
   "source": [
    "sv = Pipeline([('Tfidf',TfidfVectorizer()),('svm',LinearSVC())])"
   ]
  },
  {
   "cell_type": "code",
   "execution_count": 170,
   "metadata": {},
   "outputs": [
    {
     "data": {
      "text/plain": [
       "Pipeline(memory=None,\n",
       "     steps=[('Tfidf', TfidfVectorizer(analyzer='word', binary=False, decode_error='strict',\n",
       "        dtype=<class 'numpy.float64'>, encoding='utf-8', input='content',\n",
       "        lowercase=True, max_df=1.0, max_features=None, min_df=1,\n",
       "        ngram_range=(1, 1), norm='l2', preprocessor=None, smooth_idf=True,...ax_iter=1000,\n",
       "     multi_class='ovr', penalty='l2', random_state=None, tol=0.0001,\n",
       "     verbose=0))])"
      ]
     },
     "execution_count": 170,
     "metadata": {},
     "output_type": "execute_result"
    }
   ],
   "source": [
    "sv"
   ]
  },
  {
   "cell_type": "code",
   "execution_count": 171,
   "metadata": {},
   "outputs": [
    {
     "data": {
      "text/plain": [
       "Pipeline(memory=None,\n",
       "     steps=[('Tfidf', TfidfVectorizer(analyzer='word', binary=False, decode_error='strict',\n",
       "        dtype=<class 'numpy.float64'>, encoding='utf-8', input='content',\n",
       "        lowercase=True, max_df=1.0, max_features=None, min_df=1,\n",
       "        ngram_range=(1, 1), norm='l2', preprocessor=None, smooth_idf=True,...ax_iter=1000,\n",
       "     multi_class='ovr', penalty='l2', random_state=None, tol=0.0001,\n",
       "     verbose=0))])"
      ]
     },
     "execution_count": 171,
     "metadata": {},
     "output_type": "execute_result"
    }
   ],
   "source": [
    "sv.fit(strat_train_set.data,y_train)\n"
   ]
  },
  {
   "cell_type": "code",
   "execution_count": 172,
   "metadata": {},
   "outputs": [],
   "source": [
    "y_pred_class=sv.predict(strat_test_set.data)"
   ]
  },
  {
   "cell_type": "code",
   "execution_count": 173,
   "metadata": {},
   "outputs": [
    {
     "data": {
      "text/plain": [
       "0.8177285318559557"
      ]
     },
     "execution_count": 173,
     "metadata": {},
     "output_type": "execute_result"
    }
   ],
   "source": [
    "# measuring accuracy\n",
    "from sklearn import metrics\n",
    "metrics.accuracy_score(y_test,y_pred_class)"
   ]
  },
  {
   "cell_type": "code",
   "execution_count": 174,
   "metadata": {},
   "outputs": [
    {
     "name": "stdout",
     "output_type": "stream",
     "text": [
      "[[5854  255  228  125   31   13   10   24]\n",
      " [ 329 3703   23   46   46   63   12   20]\n",
      " [ 281   59 1243   44   17   15   13   11]\n",
      " [ 209   84   55  772   14   12    8   32]\n",
      " [  73   99   28   14  759    1    1    2]\n",
      " [  56  205   22   26    3  452    9    2]\n",
      " [  50   52   12   15    6    6  291    4]\n",
      " [  56   50   16   58    3    6    7  210]]\n"
     ]
    }
   ],
   "source": [
    "# confusion matrix\n",
    "confusion_matrix = metrics.confusion_matrix(y_test,y_pred_class)\n",
    "print(confusion_matrix)"
   ]
  },
  {
   "cell_type": "code",
   "execution_count": 175,
   "metadata": {},
   "outputs": [
    {
     "name": "stdout",
     "output_type": "stream",
     "text": [
      "Classification report\n",
      "              precision    recall  f1-score   support\n",
      "\n",
      "           0       0.85      0.90      0.87      6540\n",
      "           1       0.82      0.87      0.85      4242\n",
      "           2       0.76      0.74      0.75      1683\n",
      "           3       0.70      0.65      0.68      1186\n",
      "           4       0.86      0.78      0.82       977\n",
      "           5       0.80      0.58      0.67       775\n",
      "           6       0.83      0.67      0.74       436\n",
      "           7       0.69      0.52      0.59       406\n",
      "\n",
      "   micro avg       0.82      0.82      0.82     16245\n",
      "   macro avg       0.79      0.71      0.75     16245\n",
      "weighted avg       0.82      0.82      0.81     16245\n",
      "\n"
     ]
    }
   ],
   "source": [
    "# Classification report\n",
    "print(\"Classification report\")\n",
    "print(classification_report(y_test,y_pred_class))\n"
   ]
  },
  {
   "cell_type": "markdown",
   "metadata": {},
   "source": [
    "# ---Logistic Regeresssion---"
   ]
  },
  {
   "cell_type": "code",
   "execution_count": 148,
   "metadata": {},
   "outputs": [],
   "source": [
    "from sklearn.linear_model import LogisticRegression\n"
   ]
  },
  {
   "cell_type": "code",
   "execution_count": 149,
   "metadata": {},
   "outputs": [
    {
     "name": "stderr",
     "output_type": "stream",
     "text": [
      "/home/felladog/anaconda3/lib/python3.7/site-packages/sklearn/linear_model/sag.py:334: ConvergenceWarning: The max_iter was reached which means the coef_ did not converge\n",
      "  \"the coef_ did not converge\", ConvergenceWarning)\n"
     ]
    },
    {
     "data": {
      "text/plain": [
       "0.7953216374269005"
      ]
     },
     "execution_count": 149,
     "metadata": {},
     "output_type": "execute_result"
    }
   ],
   "source": [
    "lr= LogisticRegression(C=1.0, class_weight='balanced', dual=False,\n",
    "          fit_intercept=True, intercept_scaling=1, max_iter=100,\n",
    "          multi_class='multinomial', n_jobs=1, penalty='l2',\n",
    "          random_state=8, solver='sag', tol=0.0001, verbose=0,\n",
    "          warm_start=False)\n",
    "\n",
    "\n"
   ]
  },
  {
   "cell_type": "code",
   "execution_count": null,
   "metadata": {},
   "outputs": [],
   "source": [
    "lr.fit(x_train_transform,y_train)\n",
    "\n"
   ]
  },
  {
   "cell_type": "code",
   "execution_count": 151,
   "metadata": {},
   "outputs": [],
   "source": [
    "y_pred_class = lr.predict(x_test_transform)\n"
   ]
  },
  {
   "cell_type": "code",
   "execution_count": 152,
   "metadata": {},
   "outputs": [
    {
     "data": {
      "text/plain": [
       "0.7953216374269005"
      ]
     },
     "execution_count": 152,
     "metadata": {},
     "output_type": "execute_result"
    }
   ],
   "source": [
    "\n",
    "# measuring accuracy\n",
    "from sklearn import metrics\n",
    "metrics.accuracy_score(y_test,y_pred_class)"
   ]
  },
  {
   "cell_type": "code",
   "execution_count": 157,
   "metadata": {},
   "outputs": [],
   "source": [
    "\n",
    "sv = Pipeline([('tfidf', TfidfVectorizer()),\n",
    "               ('clf',LogisticRegression(C=1.0, class_weight='balanced',\n",
    "                dual=False,fit_intercept=True, intercept_scaling=1,\n",
    "                max_iter=100,multi_class='multinomial', n_jobs=1,\n",
    "                penalty='l2',random_state=8, solver='sag', tol=0.0001, verbose=0,warm_start=False))\n",
    "              ])\n",
    "               "
   ]
  },
  {
   "cell_type": "code",
   "execution_count": 158,
   "metadata": {},
   "outputs": [
    {
     "name": "stderr",
     "output_type": "stream",
     "text": [
      "/home/felladog/anaconda3/lib/python3.7/site-packages/sklearn/linear_model/sag.py:334: ConvergenceWarning: The max_iter was reached which means the coef_ did not converge\n",
      "  \"the coef_ did not converge\", ConvergenceWarning)\n"
     ]
    },
    {
     "data": {
      "text/plain": [
       "Pipeline(memory=None,\n",
       "     steps=[('tfidf', TfidfVectorizer(analyzer='word', binary=False, decode_error='strict',\n",
       "        dtype=<class 'numpy.float64'>, encoding='utf-8', input='content',\n",
       "        lowercase=True, max_df=1.0, max_features=None, min_df=1,\n",
       "        ngram_range=(1, 1), norm='l2', preprocessor=None, smooth_idf=True,...y='l2',\n",
       "          random_state=8, solver='sag', tol=0.0001, verbose=0,\n",
       "          warm_start=False))])"
      ]
     },
     "execution_count": 158,
     "metadata": {},
     "output_type": "execute_result"
    }
   ],
   "source": [
    "sv.fit(strat_train_set.data,y_train)\n"
   ]
  },
  {
   "cell_type": "code",
   "execution_count": 160,
   "metadata": {},
   "outputs": [],
   "source": [
    "y_pred_class=sv.predict(strat_test_set.data)"
   ]
  },
  {
   "cell_type": "code",
   "execution_count": 161,
   "metadata": {},
   "outputs": [
    {
     "data": {
      "text/plain": [
       "0.7889196675900277"
      ]
     },
     "execution_count": 161,
     "metadata": {},
     "output_type": "execute_result"
    }
   ],
   "source": [
    "# measuring accuracy\n",
    "from sklearn import metrics\n",
    "metrics.accuracy_score(y_test,y_pred_class)"
   ]
  }
 ],
 "metadata": {
  "kernelspec": {
   "display_name": "Python 3",
   "language": "python",
   "name": "python3"
  },
  "language_info": {
   "codemirror_mode": {
    "name": "ipython",
    "version": 3
   },
   "file_extension": ".py",
   "mimetype": "text/x-python",
   "name": "python",
   "nbconvert_exporter": "python",
   "pygments_lexer": "ipython3",
   "version": "3.7.1"
  }
 },
 "nbformat": 4,
 "nbformat_minor": 2
}
